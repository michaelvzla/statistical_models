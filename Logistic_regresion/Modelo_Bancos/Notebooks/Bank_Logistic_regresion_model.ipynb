{
 "cells": [
  {
   "cell_type": "code",
   "execution_count": null,
   "metadata": {},
   "outputs": [],
   "source": []
  },
  {
   "cell_type": "markdown",
   "metadata": {},
   "source": [
    "### logistic Regression\n",
    "\n",
    "Se basa en la probabilidad condicionada que parte de la cantidad de casos favorables entre la cantidad de casos posibles sabiendo que a priori se cumplen ciertas condiciones.\n",
    "\n",
    "- ¿Cómo se puede transformar una relacipon lineal a partir de una variable productora de probabilidades ?\n",
    "\n",
    "Regresión lineal vs la regressión logística.\n",
    "\n",
    "En la Regresión Lineal la variable de salida siempre es una variable continua, es decir, siempre es un número, por lo tanto la regresión lineal siempre es una buena opción cuando se quiere predecir un valor numérico contínuo. Sin embargo, ¿Qué ocurre si la variable no es continua?, es decir, cuando la variable es discreta, por ejemplo, que pasa si queremos clasificar nuestros registros en dos o más categorías, por ejemplo, un jugador de videojuegos online si es potencial pagador o no, si es potencial viralizador de publicar gratuitamente para obtener modenas a cambio o no, en esos casos, podemos extender los requisitos de un modelo de una relacióm lineal para intentar clasificar cada uno de los valores.\n",
    "\n",
    "Con la regresión logística, básicamente se construye una variable de salida que es binaria, es decir, 0 o 1 o bien categórica en lugar de ser una variable contpinua."
   ]
  },
  {
   "cell_type": "markdown",
   "metadata": {},
   "source": [
    "### Implementación del método de la máxima verosimilitud para la Regresión Logistica"
   ]
  },
  {
   "cell_type": "markdown",
   "metadata": {},
   "source": [
    "data bancaria, muestra cómo el cliente y el banco se relacionan entre si"
   ]
  },
  {
   "cell_type": "code",
   "execution_count": 1,
   "metadata": {},
   "outputs": [
    {
     "name": "stderr",
     "output_type": "stream",
     "text": [
      "/opt/anaconda3/lib/python3.7/site-packages/statsmodels/tools/_testing.py:19: FutureWarning: pandas.util.testing is deprecated. Use the functions in the public API at pandas.testing instead.\n",
      "  import pandas.util.testing as tm\n"
     ]
    }
   ],
   "source": [
    "# Tratamiento de los datos\n",
    "###########################################################\n",
    "import pandas as pd\n",
    "import numpy as np\n",
    "import datetime\n",
    "import os\n",
    "\n",
    "# Gráficos\n",
    "###########################################################\n",
    "import matplotlib.pyplot as plt\n",
    "import seaborn as sns\n",
    "#from ggplot import *\n",
    "\n",
    "# Procesado y modelado\n",
    "###########################################################\n",
    "import statsmodels.api as sm\n",
    "from sklearn import datasets\n",
    "from sklearn.feature_selection import RFE\n",
    "from sklearn.linear_model import LogisticRegression\n",
    "import statsmodels.api as sm\n",
    "from sklearn.model_selection import train_test_split\n",
    "from sklearn import metrics\n",
    "from sklearn.model_selection import cross_validate\n",
    "\n",
    "# Configuración del warning\n",
    "###########################################################\n",
    "import warnings\n",
    "warnings.filterwarnings('ignore')"
   ]
  },
  {
   "cell_type": "code",
   "execution_count": 2,
   "metadata": {},
   "outputs": [
    {
     "data": {
      "text/html": [
       "<div>\n",
       "<style scoped>\n",
       "    .dataframe tbody tr th:only-of-type {\n",
       "        vertical-align: middle;\n",
       "    }\n",
       "\n",
       "    .dataframe tbody tr th {\n",
       "        vertical-align: top;\n",
       "    }\n",
       "\n",
       "    .dataframe thead th {\n",
       "        text-align: right;\n",
       "    }\n",
       "</style>\n",
       "<table border=\"1\" class=\"dataframe\">\n",
       "  <thead>\n",
       "    <tr style=\"text-align: right;\">\n",
       "      <th></th>\n",
       "      <th>age</th>\n",
       "      <th>job</th>\n",
       "      <th>marital</th>\n",
       "      <th>education</th>\n",
       "      <th>default</th>\n",
       "      <th>housing</th>\n",
       "      <th>loan</th>\n",
       "      <th>contact</th>\n",
       "      <th>month</th>\n",
       "      <th>day_of_week</th>\n",
       "      <th>...</th>\n",
       "      <th>pdays</th>\n",
       "      <th>previous</th>\n",
       "      <th>poutcome</th>\n",
       "      <th>emp_var_rate</th>\n",
       "      <th>cons_price_idx</th>\n",
       "      <th>cons_conf_idx</th>\n",
       "      <th>euribor3m</th>\n",
       "      <th>nr_employed</th>\n",
       "      <th>y</th>\n",
       "      <th>periodo</th>\n",
       "    </tr>\n",
       "  </thead>\n",
       "  <tbody>\n",
       "    <tr>\n",
       "      <th>0</th>\n",
       "      <td>30</td>\n",
       "      <td>blue-collar</td>\n",
       "      <td>married</td>\n",
       "      <td>basic.9y</td>\n",
       "      <td>no</td>\n",
       "      <td>yes</td>\n",
       "      <td>no</td>\n",
       "      <td>cellular</td>\n",
       "      <td>may</td>\n",
       "      <td>fri</td>\n",
       "      <td>...</td>\n",
       "      <td>999</td>\n",
       "      <td>0</td>\n",
       "      <td>nonexistent</td>\n",
       "      <td>-1,8</td>\n",
       "      <td>92.893</td>\n",
       "      <td>-46,2</td>\n",
       "      <td>1.313</td>\n",
       "      <td>5099,1</td>\n",
       "      <td>no</td>\n",
       "      <td>202012</td>\n",
       "    </tr>\n",
       "    <tr>\n",
       "      <th>1</th>\n",
       "      <td>39</td>\n",
       "      <td>services</td>\n",
       "      <td>single</td>\n",
       "      <td>high.school</td>\n",
       "      <td>no</td>\n",
       "      <td>no</td>\n",
       "      <td>no</td>\n",
       "      <td>telephone</td>\n",
       "      <td>may</td>\n",
       "      <td>fri</td>\n",
       "      <td>...</td>\n",
       "      <td>999</td>\n",
       "      <td>0</td>\n",
       "      <td>nonexistent</td>\n",
       "      <td>1,1</td>\n",
       "      <td>93.994</td>\n",
       "      <td>-36,4</td>\n",
       "      <td>4.855</td>\n",
       "      <td>5191</td>\n",
       "      <td>no</td>\n",
       "      <td>202012</td>\n",
       "    </tr>\n",
       "    <tr>\n",
       "      <th>2</th>\n",
       "      <td>25</td>\n",
       "      <td>services</td>\n",
       "      <td>married</td>\n",
       "      <td>high.school</td>\n",
       "      <td>no</td>\n",
       "      <td>yes</td>\n",
       "      <td>no</td>\n",
       "      <td>telephone</td>\n",
       "      <td>jun</td>\n",
       "      <td>wed</td>\n",
       "      <td>...</td>\n",
       "      <td>999</td>\n",
       "      <td>0</td>\n",
       "      <td>nonexistent</td>\n",
       "      <td>1,4</td>\n",
       "      <td>94.465</td>\n",
       "      <td>-41,8</td>\n",
       "      <td>4.962</td>\n",
       "      <td>5228,1</td>\n",
       "      <td>no</td>\n",
       "      <td>202012</td>\n",
       "    </tr>\n",
       "    <tr>\n",
       "      <th>3</th>\n",
       "      <td>38</td>\n",
       "      <td>services</td>\n",
       "      <td>married</td>\n",
       "      <td>basic.9y</td>\n",
       "      <td>no</td>\n",
       "      <td>unknown</td>\n",
       "      <td>unknown</td>\n",
       "      <td>telephone</td>\n",
       "      <td>jun</td>\n",
       "      <td>fri</td>\n",
       "      <td>...</td>\n",
       "      <td>999</td>\n",
       "      <td>0</td>\n",
       "      <td>nonexistent</td>\n",
       "      <td>1,4</td>\n",
       "      <td>94.465</td>\n",
       "      <td>-41,8</td>\n",
       "      <td>4.959</td>\n",
       "      <td>5228,1</td>\n",
       "      <td>no</td>\n",
       "      <td>202012</td>\n",
       "    </tr>\n",
       "    <tr>\n",
       "      <th>4</th>\n",
       "      <td>47</td>\n",
       "      <td>admin.</td>\n",
       "      <td>married</td>\n",
       "      <td>university.degree</td>\n",
       "      <td>no</td>\n",
       "      <td>yes</td>\n",
       "      <td>no</td>\n",
       "      <td>cellular</td>\n",
       "      <td>nov</td>\n",
       "      <td>mon</td>\n",
       "      <td>...</td>\n",
       "      <td>999</td>\n",
       "      <td>0</td>\n",
       "      <td>nonexistent</td>\n",
       "      <td>-0,1</td>\n",
       "      <td>93,2</td>\n",
       "      <td>-42</td>\n",
       "      <td>4.191</td>\n",
       "      <td>5195,8</td>\n",
       "      <td>no</td>\n",
       "      <td>202012</td>\n",
       "    </tr>\n",
       "  </tbody>\n",
       "</table>\n",
       "<p>5 rows × 22 columns</p>\n",
       "</div>"
      ],
      "text/plain": [
       "   age          job  marital          education default  housing     loan  \\\n",
       "0   30  blue-collar  married           basic.9y      no      yes       no   \n",
       "1   39     services   single        high.school      no       no       no   \n",
       "2   25     services  married        high.school      no      yes       no   \n",
       "3   38     services  married           basic.9y      no  unknown  unknown   \n",
       "4   47       admin.  married  university.degree      no      yes       no   \n",
       "\n",
       "     contact month day_of_week  ...  pdays  previous     poutcome  \\\n",
       "0   cellular   may         fri  ...    999         0  nonexistent   \n",
       "1  telephone   may         fri  ...    999         0  nonexistent   \n",
       "2  telephone   jun         wed  ...    999         0  nonexistent   \n",
       "3  telephone   jun         fri  ...    999         0  nonexistent   \n",
       "4   cellular   nov         mon  ...    999         0  nonexistent   \n",
       "\n",
       "   emp_var_rate cons_price_idx cons_conf_idx euribor3m nr_employed   y periodo  \n",
       "0          -1,8         92.893         -46,2     1.313      5099,1  no  202012  \n",
       "1           1,1         93.994         -36,4     4.855        5191  no  202012  \n",
       "2           1,4         94.465         -41,8     4.962      5228,1  no  202012  \n",
       "3           1,4         94.465         -41,8     4.959      5228,1  no  202012  \n",
       "4          -0,1           93,2           -42     4.191      5195,8  no  202012  \n",
       "\n",
       "[5 rows x 22 columns]"
      ]
     },
     "execution_count": 2,
     "metadata": {},
     "output_type": "execute_result"
    }
   ],
   "source": [
    "df = pd.read_csv('../Data/bank.csv',sep=';',on_bad_lines='skip')\n",
    "df.head()"
   ]
  },
  {
   "cell_type": "code",
   "execution_count": 3,
   "metadata": {},
   "outputs": [
    {
     "data": {
      "text/plain": [
       "(4119, 22)"
      ]
     },
     "execution_count": 3,
     "metadata": {},
     "output_type": "execute_result"
    }
   ],
   "source": [
    "df.shape"
   ]
  },
  {
   "cell_type": "code",
   "execution_count": 4,
   "metadata": {},
   "outputs": [
    {
     "data": {
      "text/plain": [
       "array(['age', 'job', 'marital', 'education', 'default', 'housing', 'loan',\n",
       "       'contact', 'month', 'day_of_week', 'duration', 'campaign', 'pdays',\n",
       "       'previous', 'poutcome', 'emp_var_rate', 'cons_price_idx',\n",
       "       'cons_conf_idx', 'euribor3m', 'nr_employed', 'y', 'periodo'],\n",
       "      dtype=object)"
      ]
     },
     "execution_count": 4,
     "metadata": {},
     "output_type": "execute_result"
    }
   ],
   "source": [
    "#Listo el nombre de las columnas\n",
    "df.columns.values"
   ]
  },
  {
   "cell_type": "code",
   "execution_count": 5,
   "metadata": {},
   "outputs": [],
   "source": [
    "#Convierto los datos de la columna Y en binario\n",
    "df['y'] = (df['y'] == 'yes').astype(int)"
   ]
  },
  {
   "cell_type": "code",
   "execution_count": 6,
   "metadata": {},
   "outputs": [
    {
     "data": {
      "text/html": [
       "<div>\n",
       "<style scoped>\n",
       "    .dataframe tbody tr th:only-of-type {\n",
       "        vertical-align: middle;\n",
       "    }\n",
       "\n",
       "    .dataframe tbody tr th {\n",
       "        vertical-align: top;\n",
       "    }\n",
       "\n",
       "    .dataframe thead th {\n",
       "        text-align: right;\n",
       "    }\n",
       "</style>\n",
       "<table border=\"1\" class=\"dataframe\">\n",
       "  <thead>\n",
       "    <tr style=\"text-align: right;\">\n",
       "      <th></th>\n",
       "      <th>age</th>\n",
       "      <th>job</th>\n",
       "      <th>marital</th>\n",
       "      <th>education</th>\n",
       "      <th>default</th>\n",
       "      <th>housing</th>\n",
       "      <th>loan</th>\n",
       "      <th>contact</th>\n",
       "      <th>month</th>\n",
       "      <th>day_of_week</th>\n",
       "      <th>...</th>\n",
       "      <th>pdays</th>\n",
       "      <th>previous</th>\n",
       "      <th>poutcome</th>\n",
       "      <th>emp_var_rate</th>\n",
       "      <th>cons_price_idx</th>\n",
       "      <th>cons_conf_idx</th>\n",
       "      <th>euribor3m</th>\n",
       "      <th>nr_employed</th>\n",
       "      <th>y</th>\n",
       "      <th>periodo</th>\n",
       "    </tr>\n",
       "  </thead>\n",
       "  <tbody>\n",
       "    <tr>\n",
       "      <th>0</th>\n",
       "      <td>30</td>\n",
       "      <td>blue-collar</td>\n",
       "      <td>married</td>\n",
       "      <td>basic.9y</td>\n",
       "      <td>no</td>\n",
       "      <td>yes</td>\n",
       "      <td>no</td>\n",
       "      <td>cellular</td>\n",
       "      <td>may</td>\n",
       "      <td>fri</td>\n",
       "      <td>...</td>\n",
       "      <td>999</td>\n",
       "      <td>0</td>\n",
       "      <td>nonexistent</td>\n",
       "      <td>-1,8</td>\n",
       "      <td>92.893</td>\n",
       "      <td>-46,2</td>\n",
       "      <td>1.313</td>\n",
       "      <td>5099,1</td>\n",
       "      <td>0</td>\n",
       "      <td>202012</td>\n",
       "    </tr>\n",
       "    <tr>\n",
       "      <th>1</th>\n",
       "      <td>39</td>\n",
       "      <td>services</td>\n",
       "      <td>single</td>\n",
       "      <td>high.school</td>\n",
       "      <td>no</td>\n",
       "      <td>no</td>\n",
       "      <td>no</td>\n",
       "      <td>telephone</td>\n",
       "      <td>may</td>\n",
       "      <td>fri</td>\n",
       "      <td>...</td>\n",
       "      <td>999</td>\n",
       "      <td>0</td>\n",
       "      <td>nonexistent</td>\n",
       "      <td>1,1</td>\n",
       "      <td>93.994</td>\n",
       "      <td>-36,4</td>\n",
       "      <td>4.855</td>\n",
       "      <td>5191</td>\n",
       "      <td>0</td>\n",
       "      <td>202012</td>\n",
       "    </tr>\n",
       "    <tr>\n",
       "      <th>2</th>\n",
       "      <td>25</td>\n",
       "      <td>services</td>\n",
       "      <td>married</td>\n",
       "      <td>high.school</td>\n",
       "      <td>no</td>\n",
       "      <td>yes</td>\n",
       "      <td>no</td>\n",
       "      <td>telephone</td>\n",
       "      <td>jun</td>\n",
       "      <td>wed</td>\n",
       "      <td>...</td>\n",
       "      <td>999</td>\n",
       "      <td>0</td>\n",
       "      <td>nonexistent</td>\n",
       "      <td>1,4</td>\n",
       "      <td>94.465</td>\n",
       "      <td>-41,8</td>\n",
       "      <td>4.962</td>\n",
       "      <td>5228,1</td>\n",
       "      <td>0</td>\n",
       "      <td>202012</td>\n",
       "    </tr>\n",
       "    <tr>\n",
       "      <th>3</th>\n",
       "      <td>38</td>\n",
       "      <td>services</td>\n",
       "      <td>married</td>\n",
       "      <td>basic.9y</td>\n",
       "      <td>no</td>\n",
       "      <td>unknown</td>\n",
       "      <td>unknown</td>\n",
       "      <td>telephone</td>\n",
       "      <td>jun</td>\n",
       "      <td>fri</td>\n",
       "      <td>...</td>\n",
       "      <td>999</td>\n",
       "      <td>0</td>\n",
       "      <td>nonexistent</td>\n",
       "      <td>1,4</td>\n",
       "      <td>94.465</td>\n",
       "      <td>-41,8</td>\n",
       "      <td>4.959</td>\n",
       "      <td>5228,1</td>\n",
       "      <td>0</td>\n",
       "      <td>202012</td>\n",
       "    </tr>\n",
       "    <tr>\n",
       "      <th>4</th>\n",
       "      <td>47</td>\n",
       "      <td>admin.</td>\n",
       "      <td>married</td>\n",
       "      <td>university.degree</td>\n",
       "      <td>no</td>\n",
       "      <td>yes</td>\n",
       "      <td>no</td>\n",
       "      <td>cellular</td>\n",
       "      <td>nov</td>\n",
       "      <td>mon</td>\n",
       "      <td>...</td>\n",
       "      <td>999</td>\n",
       "      <td>0</td>\n",
       "      <td>nonexistent</td>\n",
       "      <td>-0,1</td>\n",
       "      <td>93,2</td>\n",
       "      <td>-42</td>\n",
       "      <td>4.191</td>\n",
       "      <td>5195,8</td>\n",
       "      <td>0</td>\n",
       "      <td>202012</td>\n",
       "    </tr>\n",
       "  </tbody>\n",
       "</table>\n",
       "<p>5 rows × 22 columns</p>\n",
       "</div>"
      ],
      "text/plain": [
       "   age          job  marital          education default  housing     loan  \\\n",
       "0   30  blue-collar  married           basic.9y      no      yes       no   \n",
       "1   39     services   single        high.school      no       no       no   \n",
       "2   25     services  married        high.school      no      yes       no   \n",
       "3   38     services  married           basic.9y      no  unknown  unknown   \n",
       "4   47       admin.  married  university.degree      no      yes       no   \n",
       "\n",
       "     contact month day_of_week  ...  pdays  previous     poutcome  \\\n",
       "0   cellular   may         fri  ...    999         0  nonexistent   \n",
       "1  telephone   may         fri  ...    999         0  nonexistent   \n",
       "2  telephone   jun         wed  ...    999         0  nonexistent   \n",
       "3  telephone   jun         fri  ...    999         0  nonexistent   \n",
       "4   cellular   nov         mon  ...    999         0  nonexistent   \n",
       "\n",
       "   emp_var_rate cons_price_idx cons_conf_idx euribor3m nr_employed  y periodo  \n",
       "0          -1,8         92.893         -46,2     1.313      5099,1  0  202012  \n",
       "1           1,1         93.994         -36,4     4.855        5191  0  202012  \n",
       "2           1,4         94.465         -41,8     4.962      5228,1  0  202012  \n",
       "3           1,4         94.465         -41,8     4.959      5228,1  0  202012  \n",
       "4          -0,1           93,2           -42     4.191      5195,8  0  202012  \n",
       "\n",
       "[5 rows x 22 columns]"
      ]
     },
     "execution_count": 6,
     "metadata": {},
     "output_type": "execute_result"
    }
   ],
   "source": [
    "df.head()"
   ]
  },
  {
   "cell_type": "code",
   "execution_count": 7,
   "metadata": {},
   "outputs": [
    {
     "data": {
      "text/plain": [
       "array(['basic.9y', 'high.school', 'university.degree',\n",
       "       'professional.course', 'basic.6y', 'basic.4y', 'unknown',\n",
       "       'illiterate'], dtype=object)"
      ]
     },
     "execution_count": 7,
     "metadata": {},
     "output_type": "execute_result"
    }
   ],
   "source": [
    "# Evalúo la columna grado educativo ya que puede ser muy importante para el modleo final\n",
    "df[\"education\"].unique()"
   ]
  },
  {
   "cell_type": "code",
   "execution_count": 8,
   "metadata": {},
   "outputs": [],
   "source": [
    "#Agrupo las categprías en una nueva columna\n",
    "df[\"education\"] = np.where(df[\"education\"]==\"basic.4y\", \"Basic\", df[\"education\"])\n",
    "df[\"education\"] = np.where(df[\"education\"]==\"basic.6y\", \"Basic\", df[\"education\"])\n",
    "df[\"education\"] = np.where(df[\"education\"]==\"basic.9y\", \"Basic\", df[\"education\"])\n",
    "\n",
    "df[\"education\"] = np.where(df[\"education\"]==\"high.school\", \"High School\", df[\"education\"])\n",
    "df[\"education\"] = np.where(df[\"education\"]==\"professional.course\", \"Professional Course\", df[\"education\"])\n",
    "df[\"education\"] = np.where(df[\"education\"]==\"university.degree\", \"University Degree\", df[\"education\"])\n",
    "\n",
    "df[\"education\"] = np.where(df[\"education\"]==\"illiterate\", \"Illiterate\", df[\"education\"])\n",
    "df[\"education\"] = np.where(df[\"education\"]==\"unknown\", \"Unknown\", df[\"education\"])"
   ]
  },
  {
   "cell_type": "code",
   "execution_count": 9,
   "metadata": {},
   "outputs": [
    {
     "data": {
      "text/plain": [
       "array(['Basic', 'High School', 'University Degree', 'Professional Course',\n",
       "       'Unknown', 'Illiterate'], dtype=object)"
      ]
     },
     "execution_count": 9,
     "metadata": {},
     "output_type": "execute_result"
    }
   ],
   "source": [
    "#Verifico que la nueva columna \n",
    "df[\"education\"].unique()"
   ]
  },
  {
   "cell_type": "code",
   "execution_count": 10,
   "metadata": {},
   "outputs": [
    {
     "data": {
      "text/plain": [
       "0    3668\n",
       "1     451\n",
       "Name: y, dtype: int64"
      ]
     },
     "execution_count": 10,
     "metadata": {},
     "output_type": "execute_result"
    }
   ],
   "source": [
    "#Análisis exploratorio de los datos\n",
    "df['y'].value_counts()"
   ]
  },
  {
   "cell_type": "markdown",
   "metadata": {},
   "source": [
    "- No compraron el producto 3.668 personas.\n",
    "- Si compraron el producto 451 personas."
   ]
  },
  {
   "cell_type": "code",
   "execution_count": 11,
   "metadata": {},
   "outputs": [
    {
     "data": {
      "text/html": [
       "<div>\n",
       "<style scoped>\n",
       "    .dataframe tbody tr th:only-of-type {\n",
       "        vertical-align: middle;\n",
       "    }\n",
       "\n",
       "    .dataframe tbody tr th {\n",
       "        vertical-align: top;\n",
       "    }\n",
       "\n",
       "    .dataframe thead th {\n",
       "        text-align: right;\n",
       "    }\n",
       "</style>\n",
       "<table border=\"1\" class=\"dataframe\">\n",
       "  <thead>\n",
       "    <tr style=\"text-align: right;\">\n",
       "      <th></th>\n",
       "      <th>age</th>\n",
       "      <th>duration</th>\n",
       "      <th>campaign</th>\n",
       "      <th>pdays</th>\n",
       "      <th>previous</th>\n",
       "      <th>periodo</th>\n",
       "    </tr>\n",
       "    <tr>\n",
       "      <th>y</th>\n",
       "      <th></th>\n",
       "      <th></th>\n",
       "      <th></th>\n",
       "      <th></th>\n",
       "      <th></th>\n",
       "      <th></th>\n",
       "    </tr>\n",
       "  </thead>\n",
       "  <tbody>\n",
       "    <tr>\n",
       "      <th>0</th>\n",
       "      <td>40.0</td>\n",
       "      <td>219.0</td>\n",
       "      <td>3.0</td>\n",
       "      <td>983.0</td>\n",
       "      <td>0.0</td>\n",
       "      <td>202130.0</td>\n",
       "    </tr>\n",
       "    <tr>\n",
       "      <th>1</th>\n",
       "      <td>42.0</td>\n",
       "      <td>561.0</td>\n",
       "      <td>2.0</td>\n",
       "      <td>779.0</td>\n",
       "      <td>1.0</td>\n",
       "      <td>202129.0</td>\n",
       "    </tr>\n",
       "  </tbody>\n",
       "</table>\n",
       "</div>"
      ],
      "text/plain": [
       "    age  duration  campaign  pdays  previous   periodo\n",
       "y                                                     \n",
       "0  40.0     219.0       3.0  983.0       0.0  202130.0\n",
       "1  42.0     561.0       2.0  779.0       1.0  202129.0"
      ]
     },
     "execution_count": 11,
     "metadata": {},
     "output_type": "execute_result"
    }
   ],
   "source": [
    "#Análisis de variables numéricas\n",
    "df.groupby(\"y\").mean().round()"
   ]
  },
  {
   "cell_type": "markdown",
   "metadata": {},
   "source": [
    "### Conclusiones previas análisis variables numéricas.\n",
    "\n",
    "- El promedio de edad de los clientes que compran el producto (42 años) es mayor a los que no lo compran (40 años)\n",
    "- El promedio de segundos desde el último contacto (duration) es mayor para los clientes que compran el producto.\n",
    "- El promedio del npumero de contactos efectivos es menor en los clientes que compran el producto.\n",
    "- La duración en días desde que el cliente fue contactado (pdays) de los clientes que compran el producto es menor a la duración de los clientes que no compran el producto.\n",
    "- El promedio de contactos previos efectivos para los clientes que no compran el producto es cero.\n",
    "\n",
    "- En general, se aprecia que la edad es una variable que pesa mucho a la hora de adquirir un producto bancario,mientras que en promedio, los clientes cuyos contactos efectivos previos a la contratación del producto son efectivos, es determinante para la adquisicón del mismo."
   ]
  },
  {
   "cell_type": "code",
   "execution_count": 12,
   "metadata": {},
   "outputs": [
    {
     "data": {
      "text/html": [
       "<div>\n",
       "<style scoped>\n",
       "    .dataframe tbody tr th:only-of-type {\n",
       "        vertical-align: middle;\n",
       "    }\n",
       "\n",
       "    .dataframe tbody tr th {\n",
       "        vertical-align: top;\n",
       "    }\n",
       "\n",
       "    .dataframe thead th {\n",
       "        text-align: right;\n",
       "    }\n",
       "</style>\n",
       "<table border=\"1\" class=\"dataframe\">\n",
       "  <thead>\n",
       "    <tr style=\"text-align: right;\">\n",
       "      <th></th>\n",
       "      <th>education</th>\n",
       "      <th>age</th>\n",
       "      <th>duration</th>\n",
       "      <th>campaign</th>\n",
       "      <th>pdays</th>\n",
       "      <th>previous</th>\n",
       "      <th>y</th>\n",
       "      <th>periodo</th>\n",
       "    </tr>\n",
       "  </thead>\n",
       "  <tbody>\n",
       "    <tr>\n",
       "      <th>0</th>\n",
       "      <td>Basic</td>\n",
       "      <td>42.0</td>\n",
       "      <td>254.0</td>\n",
       "      <td>2.0</td>\n",
       "      <td>979.0</td>\n",
       "      <td>0.0</td>\n",
       "      <td>0.0</td>\n",
       "      <td>202130.0</td>\n",
       "    </tr>\n",
       "    <tr>\n",
       "      <th>1</th>\n",
       "      <td>High School</td>\n",
       "      <td>38.0</td>\n",
       "      <td>259.0</td>\n",
       "      <td>3.0</td>\n",
       "      <td>958.0</td>\n",
       "      <td>0.0</td>\n",
       "      <td>0.0</td>\n",
       "      <td>202129.0</td>\n",
       "    </tr>\n",
       "    <tr>\n",
       "      <th>2</th>\n",
       "      <td>Illiterate</td>\n",
       "      <td>42.0</td>\n",
       "      <td>146.0</td>\n",
       "      <td>4.0</td>\n",
       "      <td>999.0</td>\n",
       "      <td>0.0</td>\n",
       "      <td>0.0</td>\n",
       "      <td>202205.0</td>\n",
       "    </tr>\n",
       "    <tr>\n",
       "      <th>3</th>\n",
       "      <td>Professional Course</td>\n",
       "      <td>40.0</td>\n",
       "      <td>279.0</td>\n",
       "      <td>3.0</td>\n",
       "      <td>958.0</td>\n",
       "      <td>0.0</td>\n",
       "      <td>0.0</td>\n",
       "      <td>202133.0</td>\n",
       "    </tr>\n",
       "    <tr>\n",
       "      <th>4</th>\n",
       "      <td>University Degree</td>\n",
       "      <td>39.0</td>\n",
       "      <td>248.0</td>\n",
       "      <td>3.0</td>\n",
       "      <td>948.0</td>\n",
       "      <td>0.0</td>\n",
       "      <td>0.0</td>\n",
       "      <td>202130.0</td>\n",
       "    </tr>\n",
       "    <tr>\n",
       "      <th>5</th>\n",
       "      <td>Unknown</td>\n",
       "      <td>43.0</td>\n",
       "      <td>267.0</td>\n",
       "      <td>3.0</td>\n",
       "      <td>940.0</td>\n",
       "      <td>0.0</td>\n",
       "      <td>0.0</td>\n",
       "      <td>202117.0</td>\n",
       "    </tr>\n",
       "  </tbody>\n",
       "</table>\n",
       "</div>"
      ],
      "text/plain": [
       "             education   age  duration  campaign  pdays  previous    y  \\\n",
       "0                Basic  42.0     254.0       2.0  979.0       0.0  0.0   \n",
       "1          High School  38.0     259.0       3.0  958.0       0.0  0.0   \n",
       "2           Illiterate  42.0     146.0       4.0  999.0       0.0  0.0   \n",
       "3  Professional Course  40.0     279.0       3.0  958.0       0.0  0.0   \n",
       "4    University Degree  39.0     248.0       3.0  948.0       0.0  0.0   \n",
       "5              Unknown  43.0     267.0       3.0  940.0       0.0  0.0   \n",
       "\n",
       "    periodo  \n",
       "0  202130.0  \n",
       "1  202129.0  \n",
       "2  202205.0  \n",
       "3  202133.0  \n",
       "4  202130.0  \n",
       "5  202117.0  "
      ]
     },
     "execution_count": 12,
     "metadata": {},
     "output_type": "execute_result"
    }
   ],
   "source": [
    "#Analizo promedios para las variables numéricas por nivel de educación\n",
    "df.groupby('education').mean().round().reset_index()"
   ]
  },
  {
   "cell_type": "code",
   "execution_count": null,
   "metadata": {},
   "outputs": [],
   "source": [
    "#Analizo con un gráfico la relación entre el nivel de educación y la columna y\n",
    "%matplotlib inline\n",
    "pd.crosstab(df.education, df.y).plot(kind=\"bar\")\n",
    "plt.title(\"Frecuencia de compra en función del nivel de educación\")\n",
    "plt.xlabel(\"Nivel de educación\")\n",
    "plt.ylabel(\"Frecuencia de compra del producto\")"
   ]
  },
  {
   "cell_type": "markdown",
   "metadata": {},
   "source": [
    "En el gráfico se aprecia como los clientes que más compran productos son aquellos con grado universitario (barra naranja), por lo que la variable nivel de educación parece ser un buen predictor."
   ]
  },
  {
   "cell_type": "code",
   "execution_count": null,
   "metadata": {},
   "outputs": [],
   "source": [
    "table=pd.crosstab(df.marital, df.y)\n",
    "table.div(table.sum(1).astype(float), axis=0).plot(kind=\"bar\", stacked=True)\n",
    "plt.title(\"Diagrama apilado de estado civil contra el nivel de compras\")\n",
    "plt.xlabel(\"Estado civil\")\n",
    "plt.ylabel(\"Proporción de clientes\")"
   ]
  },
  {
   "cell_type": "markdown",
   "metadata": {},
   "source": [
    "Las personas solteras (single) son las que más compran productos bancarios, sin embargo la diferencia no es representativa con respecto a otros estados civiles, por lo que probablemente esta variable sea poco predictiva."
   ]
  },
  {
   "cell_type": "code",
   "execution_count": null,
   "metadata": {},
   "outputs": [],
   "source": [
    "%matplotlib inline\n",
    "table= pd.crosstab(df.day_of_week, df.y)\n",
    "table.div(table.sum(1).astype(float), axis=0).plot(kind=\"bar\", stacked=True)\n",
    "plt.title(\"Frecuencia de compra en función del día de la semana\")\n",
    "plt.xlabel(\"Día de la semana\")\n",
    "plt.ylabel(\"Frecuencia de compra del producto\")"
   ]
  },
  {
   "cell_type": "code",
   "execution_count": null,
   "metadata": {},
   "outputs": [],
   "source": [
    "%matplotlib inline\n",
    "table= pd.crosstab(df.month, df.y)\n",
    "table.div(table.sum(1).astype(float), axis=0).plot(kind=\"bar\", stacked=True)\n",
    "plt.title(\"Frecuencia de compra en función del mes\")\n",
    "plt.xlabel(\"Mes del año\")\n",
    "plt.ylabel(\"Frecuencia de compra del producto\")"
   ]
  },
  {
   "cell_type": "markdown",
   "metadata": {},
   "source": [
    "Parece ser que los meses de diciembre y marzo representan mayores ventas, sin embargo a priori no sabemos si eso se debe a que en esos meses hay menos registros."
   ]
  },
  {
   "cell_type": "code",
   "execution_count": null,
   "metadata": {},
   "outputs": [],
   "source": [
    "%matplotlib inline\n",
    "table.plot(kind=\"bar\", stacked=False)\n",
    "plt.title(\"Frecuencia de compra en función del mes\")\n",
    "plt.xlabel(\"Mes del año\")\n",
    "plt.ylabel(\"Frecuencia de compra del producto\")"
   ]
  },
  {
   "cell_type": "markdown",
   "metadata": {},
   "source": [
    "Muchos clientes rechazan los productos durante el mes de mayo."
   ]
  },
  {
   "cell_type": "code",
   "execution_count": null,
   "metadata": {},
   "outputs": [],
   "source": [
    "%matplotlib inline\n",
    "df.age.hist()\n",
    "plt.title(\"Histograma de la Edad\")\n",
    "plt.xlabel(\"Edad\")\n",
    "plt.ylabel(\"Cliente\")"
   ]
  },
  {
   "cell_type": "markdown",
   "metadata": {},
   "source": [
    "La distribución de la edad muestra que la mayoría de los clientes tienen entre 30 y 40 años"
   ]
  },
  {
   "cell_type": "code",
   "execution_count": null,
   "metadata": {},
   "outputs": [],
   "source": [
    "pd.crosstab(df.age, df.y).plot(kind=\"bar\")"
   ]
  },
  {
   "cell_type": "markdown",
   "metadata": {},
   "source": [
    "Observando la proporción de productos comprados por edad, se evidencia como los clientes entre 30 y 40 años son los que más compran."
   ]
  },
  {
   "cell_type": "code",
   "execution_count": null,
   "metadata": {},
   "outputs": [],
   "source": [
    "pd.crosstab(df.poutcome, df.y).plot(kind=\"bar\")"
   ]
  },
  {
   "cell_type": "markdown",
   "metadata": {},
   "source": [
    "- los clientes que rechazaron el producto en el pasado, suelen rechazar el producto en el presente a una tasa mayor que en el futuro.\n",
    "\n",
    "- Los clientes que compraron productos en el pasado, suelen comprar en el presente y en el futuro, auqnue este último a una tasa menor."
   ]
  },
  {
   "cell_type": "markdown",
   "metadata": {},
   "source": [
    "### Conversión de las variables categóricas a dummies"
   ]
  },
  {
   "cell_type": "code",
   "execution_count": 13,
   "metadata": {},
   "outputs": [],
   "source": [
    "categories = [\"job\", \"marital\", \"education\", \"housing\", \"loan\", \"contact\", \n",
    "              \"month\", \"day_of_week\", \"poutcome\",\"euribor3m\"]\n",
    "for category in categories:\n",
    "    cat_list = \"cat\"+ \"_\"+category\n",
    "    cat_dummies = pd.get_dummies(df[category], prefix=category)\n",
    "    df_new = df.join(cat_dummies)\n",
    "    df = df_new"
   ]
  },
  {
   "cell_type": "code",
   "execution_count": 14,
   "metadata": {},
   "outputs": [],
   "source": [
    "data_vars = df.columns.values.tolist()"
   ]
  },
  {
   "cell_type": "code",
   "execution_count": 15,
   "metadata": {},
   "outputs": [],
   "source": [
    "to_keep = [v for v in data_vars if v not in categories]\n",
    "to_keep = [v for v in to_keep if v not in [\"default\"]]"
   ]
  },
  {
   "cell_type": "code",
   "execution_count": 16,
   "metadata": {},
   "outputs": [
    {
     "data": {
      "text/html": [
       "<div>\n",
       "<style scoped>\n",
       "    .dataframe tbody tr th:only-of-type {\n",
       "        vertical-align: middle;\n",
       "    }\n",
       "\n",
       "    .dataframe tbody tr th {\n",
       "        vertical-align: top;\n",
       "    }\n",
       "\n",
       "    .dataframe thead th {\n",
       "        text-align: right;\n",
       "    }\n",
       "</style>\n",
       "<table border=\"1\" class=\"dataframe\">\n",
       "  <thead>\n",
       "    <tr style=\"text-align: right;\">\n",
       "      <th></th>\n",
       "      <th>age</th>\n",
       "      <th>duration</th>\n",
       "      <th>campaign</th>\n",
       "      <th>pdays</th>\n",
       "      <th>previous</th>\n",
       "      <th>emp_var_rate</th>\n",
       "      <th>cons_price_idx</th>\n",
       "      <th>cons_conf_idx</th>\n",
       "      <th>nr_employed</th>\n",
       "      <th>y</th>\n",
       "      <th>...</th>\n",
       "      <th>euribor3m_4.959</th>\n",
       "      <th>euribor3m_4.961</th>\n",
       "      <th>euribor3m_4.962</th>\n",
       "      <th>euribor3m_4.963</th>\n",
       "      <th>euribor3m_4.964</th>\n",
       "      <th>euribor3m_4.965</th>\n",
       "      <th>euribor3m_4.966</th>\n",
       "      <th>euribor3m_4.967</th>\n",
       "      <th>euribor3m_4.968</th>\n",
       "      <th>euribor3m_5.045</th>\n",
       "    </tr>\n",
       "  </thead>\n",
       "  <tbody>\n",
       "    <tr>\n",
       "      <th>0</th>\n",
       "      <td>30</td>\n",
       "      <td>487</td>\n",
       "      <td>2</td>\n",
       "      <td>999</td>\n",
       "      <td>0</td>\n",
       "      <td>-1,8</td>\n",
       "      <td>92.893</td>\n",
       "      <td>-46,2</td>\n",
       "      <td>5099,1</td>\n",
       "      <td>0</td>\n",
       "      <td>...</td>\n",
       "      <td>0</td>\n",
       "      <td>0</td>\n",
       "      <td>0</td>\n",
       "      <td>0</td>\n",
       "      <td>0</td>\n",
       "      <td>0</td>\n",
       "      <td>0</td>\n",
       "      <td>0</td>\n",
       "      <td>0</td>\n",
       "      <td>0</td>\n",
       "    </tr>\n",
       "    <tr>\n",
       "      <th>1</th>\n",
       "      <td>39</td>\n",
       "      <td>346</td>\n",
       "      <td>4</td>\n",
       "      <td>999</td>\n",
       "      <td>0</td>\n",
       "      <td>1,1</td>\n",
       "      <td>93.994</td>\n",
       "      <td>-36,4</td>\n",
       "      <td>5191</td>\n",
       "      <td>0</td>\n",
       "      <td>...</td>\n",
       "      <td>0</td>\n",
       "      <td>0</td>\n",
       "      <td>0</td>\n",
       "      <td>0</td>\n",
       "      <td>0</td>\n",
       "      <td>0</td>\n",
       "      <td>0</td>\n",
       "      <td>0</td>\n",
       "      <td>0</td>\n",
       "      <td>0</td>\n",
       "    </tr>\n",
       "    <tr>\n",
       "      <th>2</th>\n",
       "      <td>25</td>\n",
       "      <td>227</td>\n",
       "      <td>1</td>\n",
       "      <td>999</td>\n",
       "      <td>0</td>\n",
       "      <td>1,4</td>\n",
       "      <td>94.465</td>\n",
       "      <td>-41,8</td>\n",
       "      <td>5228,1</td>\n",
       "      <td>0</td>\n",
       "      <td>...</td>\n",
       "      <td>0</td>\n",
       "      <td>0</td>\n",
       "      <td>1</td>\n",
       "      <td>0</td>\n",
       "      <td>0</td>\n",
       "      <td>0</td>\n",
       "      <td>0</td>\n",
       "      <td>0</td>\n",
       "      <td>0</td>\n",
       "      <td>0</td>\n",
       "    </tr>\n",
       "    <tr>\n",
       "      <th>3</th>\n",
       "      <td>38</td>\n",
       "      <td>17</td>\n",
       "      <td>3</td>\n",
       "      <td>999</td>\n",
       "      <td>0</td>\n",
       "      <td>1,4</td>\n",
       "      <td>94.465</td>\n",
       "      <td>-41,8</td>\n",
       "      <td>5228,1</td>\n",
       "      <td>0</td>\n",
       "      <td>...</td>\n",
       "      <td>1</td>\n",
       "      <td>0</td>\n",
       "      <td>0</td>\n",
       "      <td>0</td>\n",
       "      <td>0</td>\n",
       "      <td>0</td>\n",
       "      <td>0</td>\n",
       "      <td>0</td>\n",
       "      <td>0</td>\n",
       "      <td>0</td>\n",
       "    </tr>\n",
       "    <tr>\n",
       "      <th>4</th>\n",
       "      <td>47</td>\n",
       "      <td>58</td>\n",
       "      <td>1</td>\n",
       "      <td>999</td>\n",
       "      <td>0</td>\n",
       "      <td>-0,1</td>\n",
       "      <td>93,2</td>\n",
       "      <td>-42</td>\n",
       "      <td>5195,8</td>\n",
       "      <td>0</td>\n",
       "      <td>...</td>\n",
       "      <td>0</td>\n",
       "      <td>0</td>\n",
       "      <td>0</td>\n",
       "      <td>0</td>\n",
       "      <td>0</td>\n",
       "      <td>0</td>\n",
       "      <td>0</td>\n",
       "      <td>0</td>\n",
       "      <td>0</td>\n",
       "      <td>0</td>\n",
       "    </tr>\n",
       "  </tbody>\n",
       "</table>\n",
       "<p>5 rows × 293 columns</p>\n",
       "</div>"
      ],
      "text/plain": [
       "   age  duration  campaign  pdays  previous emp_var_rate cons_price_idx  \\\n",
       "0   30       487         2    999         0         -1,8         92.893   \n",
       "1   39       346         4    999         0          1,1         93.994   \n",
       "2   25       227         1    999         0          1,4         94.465   \n",
       "3   38        17         3    999         0          1,4         94.465   \n",
       "4   47        58         1    999         0         -0,1           93,2   \n",
       "\n",
       "  cons_conf_idx nr_employed  y  ...  euribor3m_4.959  euribor3m_4.961  \\\n",
       "0         -46,2      5099,1  0  ...                0                0   \n",
       "1         -36,4        5191  0  ...                0                0   \n",
       "2         -41,8      5228,1  0  ...                0                0   \n",
       "3         -41,8      5228,1  0  ...                1                0   \n",
       "4           -42      5195,8  0  ...                0                0   \n",
       "\n",
       "   euribor3m_4.962  euribor3m_4.963  euribor3m_4.964  euribor3m_4.965  \\\n",
       "0                0                0                0                0   \n",
       "1                0                0                0                0   \n",
       "2                1                0                0                0   \n",
       "3                0                0                0                0   \n",
       "4                0                0                0                0   \n",
       "\n",
       "   euribor3m_4.966  euribor3m_4.967  euribor3m_4.968  euribor3m_5.045  \n",
       "0                0                0                0                0  \n",
       "1                0                0                0                0  \n",
       "2                0                0                0                0  \n",
       "3                0                0                0                0  \n",
       "4                0                0                0                0  \n",
       "\n",
       "[5 rows x 293 columns]"
      ]
     },
     "execution_count": 16,
     "metadata": {},
     "output_type": "execute_result"
    }
   ],
   "source": [
    "bank_data = df[to_keep]\n",
    "bank_data.head()"
   ]
  },
  {
   "cell_type": "code",
   "execution_count": 17,
   "metadata": {},
   "outputs": [
    {
     "data": {
      "text/plain": [
       "array(['age', 'duration', 'campaign', 'pdays', 'previous', 'emp_var_rate',\n",
       "       'cons_price_idx', 'cons_conf_idx', 'nr_employed', 'y', 'periodo',\n",
       "       'job_admin.', 'job_blue-collar', 'job_entrepreneur',\n",
       "       'job_housemaid', 'job_management', 'job_retired',\n",
       "       'job_self-employed', 'job_services', 'job_student',\n",
       "       'job_technician', 'job_unemployed', 'job_unknown',\n",
       "       'marital_divorced', 'marital_married', 'marital_single',\n",
       "       'marital_unknown', 'education_Basic', 'education_High School',\n",
       "       'education_Illiterate', 'education_Professional Course',\n",
       "       'education_University Degree', 'education_Unknown', 'housing_no',\n",
       "       'housing_unknown', 'housing_yes', 'loan_no', 'loan_unknown',\n",
       "       'loan_yes', 'contact_cellular', 'contact_telephone', 'month_apr',\n",
       "       'month_aug', 'month_dec', 'month_jul', 'month_jun', 'month_mar',\n",
       "       'month_may', 'month_nov', 'month_oct', 'month_sep',\n",
       "       'day_of_week_fri', 'day_of_week_mon', 'day_of_week_thu',\n",
       "       'day_of_week_tue', 'day_of_week_wed', 'poutcome_failure',\n",
       "       'poutcome_nonexistent', 'poutcome_success', 'euribor3m_0,635',\n",
       "       'euribor3m_0,636', 'euribor3m_0,637', 'euribor3m_0,639',\n",
       "       'euribor3m_0,64', 'euribor3m_0,642', 'euribor3m_0,643',\n",
       "       'euribor3m_0,644', 'euribor3m_0,645', 'euribor3m_0,646',\n",
       "       'euribor3m_0,649', 'euribor3m_0,65', 'euribor3m_0,652',\n",
       "       'euribor3m_0,654', 'euribor3m_0,655', 'euribor3m_0,659',\n",
       "       'euribor3m_0,668', 'euribor3m_0,672', 'euribor3m_0,677',\n",
       "       'euribor3m_0,682', 'euribor3m_0,683', 'euribor3m_0,692',\n",
       "       'euribor3m_0,695', 'euribor3m_0,697', 'euribor3m_0,699',\n",
       "       'euribor3m_0,7', 'euribor3m_0,702', 'euribor3m_0,704',\n",
       "       'euribor3m_0,706', 'euribor3m_0,707', 'euribor3m_0,709',\n",
       "       'euribor3m_0,71', 'euribor3m_0,714', 'euribor3m_0,715',\n",
       "       'euribor3m_0,716', 'euribor3m_0,717', 'euribor3m_0,718',\n",
       "       'euribor3m_0,719', 'euribor3m_0,72', 'euribor3m_0,721',\n",
       "       'euribor3m_0,722', 'euribor3m_0,723', 'euribor3m_0,724',\n",
       "       'euribor3m_0,728', 'euribor3m_0,729', 'euribor3m_0,73',\n",
       "       'euribor3m_0,731', 'euribor3m_0,735', 'euribor3m_0,737',\n",
       "       'euribor3m_0,739', 'euribor3m_0,74', 'euribor3m_0,741',\n",
       "       'euribor3m_0,742', 'euribor3m_0,748', 'euribor3m_0,749',\n",
       "       'euribor3m_0,752', 'euribor3m_0,754', 'euribor3m_0,755',\n",
       "       'euribor3m_0,761', 'euribor3m_0,762', 'euribor3m_0,767',\n",
       "       'euribor3m_0,768', 'euribor3m_0,77', 'euribor3m_0,771',\n",
       "       'euribor3m_0,773', 'euribor3m_0,778', 'euribor3m_0,782',\n",
       "       'euribor3m_0,788', 'euribor3m_0,79', 'euribor3m_0,797',\n",
       "       'euribor3m_0,803', 'euribor3m_0,809', 'euribor3m_0,81',\n",
       "       'euribor3m_0,819', 'euribor3m_0,825', 'euribor3m_0,827',\n",
       "       'euribor3m_0,829', 'euribor3m_0,834', 'euribor3m_0,835',\n",
       "       'euribor3m_0,838', 'euribor3m_0,843', 'euribor3m_0,846',\n",
       "       'euribor3m_0,849', 'euribor3m_0,851', 'euribor3m_0,854',\n",
       "       'euribor3m_0,859', 'euribor3m_0,861', 'euribor3m_0,869',\n",
       "       'euribor3m_0,87', 'euribor3m_0,873', 'euribor3m_0,876',\n",
       "       'euribor3m_0,877', 'euribor3m_0,878', 'euribor3m_0,879',\n",
       "       'euribor3m_0,881', 'euribor3m_0,882', 'euribor3m_0,883',\n",
       "       'euribor3m_0,884', 'euribor3m_0,885', 'euribor3m_0,886',\n",
       "       'euribor3m_0,889', 'euribor3m_0,893', 'euribor3m_0,896',\n",
       "       'euribor3m_0,898', 'euribor3m_0,899', 'euribor3m_0,9',\n",
       "       'euribor3m_0,904', 'euribor3m_0,905', 'euribor3m_0,914',\n",
       "       'euribor3m_0,921', 'euribor3m_0,937', 'euribor3m_0,942',\n",
       "       'euribor3m_0,944', 'euribor3m_0,953', 'euribor3m_0,959',\n",
       "       'euribor3m_0,965', 'euribor3m_0,977', 'euribor3m_0,982',\n",
       "       'euribor3m_0,987', 'euribor3m_0,996', 'euribor3m_1',\n",
       "       'euribor3m_1,03', 'euribor3m_1,04', 'euribor3m_1,05',\n",
       "       'euribor3m_1,25', 'euribor3m_1,26', 'euribor3m_1,27',\n",
       "       'euribor3m_1,4', 'euribor3m_1,41', 'euribor3m_1,51',\n",
       "       'euribor3m_1,52', 'euribor3m_1,64', 'euribor3m_1,65',\n",
       "       'euribor3m_1.016', 'euribor3m_1.028', 'euribor3m_1.029',\n",
       "       'euribor3m_1.031', 'euribor3m_1.032', 'euribor3m_1.035',\n",
       "       'euribor3m_1.039', 'euribor3m_1.041', 'euribor3m_1.043',\n",
       "       'euribor3m_1.044', 'euribor3m_1.046', 'euribor3m_1.048',\n",
       "       'euribor3m_1.049', 'euribor3m_1.059', 'euribor3m_1.072',\n",
       "       'euribor3m_1.085', 'euribor3m_1.099', 'euribor3m_1.215',\n",
       "       'euribor3m_1.224', 'euribor3m_1.244', 'euribor3m_1.252',\n",
       "       'euribor3m_1.259', 'euribor3m_1.262', 'euribor3m_1.264',\n",
       "       'euribor3m_1.266', 'euribor3m_1.268', 'euribor3m_1.281',\n",
       "       'euribor3m_1.291', 'euribor3m_1.299', 'euribor3m_1.313',\n",
       "       'euribor3m_1.327', 'euribor3m_1.334', 'euribor3m_1.344',\n",
       "       'euribor3m_1.354', 'euribor3m_1.365', 'euribor3m_1.372',\n",
       "       'euribor3m_1.384', 'euribor3m_1.392', 'euribor3m_1.405',\n",
       "       'euribor3m_1.406', 'euribor3m_1.415', 'euribor3m_1.423',\n",
       "       'euribor3m_1.435', 'euribor3m_1.445', 'euribor3m_1.453',\n",
       "       'euribor3m_1.466', 'euribor3m_1.479', 'euribor3m_1.483',\n",
       "       'euribor3m_1.498', 'euribor3m_1.531', 'euribor3m_1.538',\n",
       "       'euribor3m_1.602', 'euribor3m_1.614', 'euribor3m_1.629',\n",
       "       'euribor3m_1.663', 'euribor3m_1.687', 'euribor3m_1.703',\n",
       "       'euribor3m_1.726', 'euribor3m_1.757', 'euribor3m_1.778',\n",
       "       'euribor3m_1.799', 'euribor3m_1.811', 'euribor3m_3.329',\n",
       "       'euribor3m_3.853', 'euribor3m_4,12', 'euribor3m_4,86',\n",
       "       'euribor3m_4,96', 'euribor3m_4,97', 'euribor3m_4.021',\n",
       "       'euribor3m_4.076', 'euribor3m_4.153', 'euribor3m_4.191',\n",
       "       'euribor3m_4.245', 'euribor3m_4.343', 'euribor3m_4.592',\n",
       "       'euribor3m_4.663', 'euribor3m_4.794', 'euribor3m_4.855',\n",
       "       'euribor3m_4.856', 'euribor3m_4.857', 'euribor3m_4.858',\n",
       "       'euribor3m_4.859', 'euribor3m_4.864', 'euribor3m_4.865',\n",
       "       'euribor3m_4.866', 'euribor3m_4.921', 'euribor3m_4.947',\n",
       "       'euribor3m_4.955', 'euribor3m_4.956', 'euribor3m_4.957',\n",
       "       'euribor3m_4.958', 'euribor3m_4.959', 'euribor3m_4.961',\n",
       "       'euribor3m_4.962', 'euribor3m_4.963', 'euribor3m_4.964',\n",
       "       'euribor3m_4.965', 'euribor3m_4.966', 'euribor3m_4.967',\n",
       "       'euribor3m_4.968', 'euribor3m_5.045'], dtype=object)"
      ]
     },
     "execution_count": 17,
     "metadata": {},
     "output_type": "execute_result"
    }
   ],
   "source": [
    "bank_data.columns.values"
   ]
  },
  {
   "cell_type": "markdown",
   "metadata": {},
   "source": [
    "### Implementación del modelo con la librería Statsmodel.api"
   ]
  },
  {
   "cell_type": "code",
   "execution_count": 22,
   "metadata": {},
   "outputs": [],
   "source": [
    "#Selecciono variables de acuerdo al análisis estadistico\n",
    "cols = [\"previous\", \"job_blue-collar\", \"job_retired\", \"month_aug\", \"month_dec\", \n",
    "        \"month_jul\", \"month_jun\", \"month_mar\", \"month_nov\", \"day_of_week_wed\", \"poutcome_nonexistent\"]"
   ]
  },
  {
   "cell_type": "code",
   "execution_count": 23,
   "metadata": {},
   "outputs": [],
   "source": [
    "X = bank_data[cols]\n",
    "Y = bank_data['y']"
   ]
  },
  {
   "cell_type": "code",
   "execution_count": 24,
   "metadata": {},
   "outputs": [],
   "source": [
    "logit_model = sm.Logit(Y, X)"
   ]
  },
  {
   "cell_type": "code",
   "execution_count": 25,
   "metadata": {},
   "outputs": [
    {
     "name": "stdout",
     "output_type": "stream",
     "text": [
      "Optimization terminated successfully.\n",
      "         Current function value: 0.324471\n",
      "         Iterations 7\n"
     ]
    }
   ],
   "source": [
    "result = logit_model.fit()"
   ]
  },
  {
   "cell_type": "code",
   "execution_count": 26,
   "metadata": {},
   "outputs": [
    {
     "data": {
      "text/html": [
       "<table class=\"simpletable\">\n",
       "<tr>\n",
       "        <td>Model:</td>              <td>Logit</td>      <td>Pseudo R-squared:</td>    <td>0.061</td>  \n",
       "</tr>\n",
       "<tr>\n",
       "  <td>Dependent Variable:</td>         <td>y</td>              <td>AIC:</td>         <td>2694.9922</td>\n",
       "</tr>\n",
       "<tr>\n",
       "         <td>Date:</td>        <td>2023-02-10 12:15</td>       <td>BIC:</td>         <td>2764.5492</td>\n",
       "</tr>\n",
       "<tr>\n",
       "   <td>No. Observations:</td>        <td>4119</td>        <td>Log-Likelihood:</td>    <td>-1336.5</td> \n",
       "</tr>\n",
       "<tr>\n",
       "       <td>Df Model:</td>             <td>10</td>            <td>LL-Null:</td>        <td>-1422.9</td> \n",
       "</tr>\n",
       "<tr>\n",
       "     <td>Df Residuals:</td>          <td>4108</td>         <td>LLR p-value:</td>    <td>7.1214e-32</td>\n",
       "</tr>\n",
       "<tr>\n",
       "      <td>Converged:</td>           <td>1.0000</td>           <td>Scale:</td>         <td>1.0000</td>  \n",
       "</tr>\n",
       "<tr>\n",
       "    <td>No. Iterations:</td>        <td>7.0000</td>              <td></td>               <td></td>     \n",
       "</tr>\n",
       "</table>\n",
       "<table class=\"simpletable\">\n",
       "<tr>\n",
       "            <td></td>            <th>Coef.</th>  <th>Std.Err.</th>     <th>z</th>     <th>P>|z|</th> <th>[0.025</th>  <th>0.975]</th> \n",
       "</tr>\n",
       "<tr>\n",
       "  <th>previous</th>             <td>-0.3631</td>  <td>0.0727</td>   <td>-4.9935</td> <td>0.0000</td> <td>-0.5056</td> <td>-0.2206</td>\n",
       "</tr>\n",
       "<tr>\n",
       "  <th>job_blue-collar</th>      <td>-0.7678</td>  <td>0.1488</td>   <td>-5.1597</td> <td>0.0000</td> <td>-1.0595</td> <td>-0.4762</td>\n",
       "</tr>\n",
       "<tr>\n",
       "  <th>job_retired</th>          <td>0.4797</td>   <td>0.2126</td>   <td>2.2568</td>  <td>0.0240</td> <td>0.0631</td>  <td>0.8963</td> \n",
       "</tr>\n",
       "<tr>\n",
       "  <th>month_aug</th>            <td>-0.1322</td>  <td>0.1587</td>   <td>-0.8330</td> <td>0.4048</td> <td>-0.4433</td> <td>0.1788</td> \n",
       "</tr>\n",
       "<tr>\n",
       "  <th>month_dec</th>            <td>1.5490</td>   <td>0.4865</td>   <td>3.1839</td>  <td>0.0015</td> <td>0.5955</td>  <td>2.5026</td> \n",
       "</tr>\n",
       "<tr>\n",
       "  <th>month_jul</th>            <td>-0.1142</td>  <td>0.1621</td>   <td>-0.7047</td> <td>0.4810</td> <td>-0.4320</td> <td>0.2035</td> \n",
       "</tr>\n",
       "<tr>\n",
       "  <th>month_jun</th>            <td>0.3692</td>   <td>0.1580</td>   <td>2.3371</td>  <td>0.0194</td> <td>0.0596</td>  <td>0.6788</td> \n",
       "</tr>\n",
       "<tr>\n",
       "  <th>month_mar</th>            <td>2.0259</td>   <td>0.3299</td>   <td>6.1407</td>  <td>0.0000</td> <td>1.3793</td>  <td>2.6725</td> \n",
       "</tr>\n",
       "<tr>\n",
       "  <th>month_nov</th>            <td>-0.6228</td>  <td>0.1810</td>   <td>-3.4415</td> <td>0.0006</td> <td>-0.9775</td> <td>-0.2681</td>\n",
       "</tr>\n",
       "<tr>\n",
       "  <th>day_of_week_wed</th>      <td>-0.1438</td>  <td>0.1339</td>   <td>-1.0735</td> <td>0.2831</td> <td>-0.4063</td> <td>0.1187</td> \n",
       "</tr>\n",
       "<tr>\n",
       "  <th>poutcome_nonexistent</th> <td>-2.2827</td>  <td>0.0958</td>  <td>-23.8185</td> <td>0.0000</td> <td>-2.4705</td> <td>-2.0949</td>\n",
       "</tr>\n",
       "</table>"
      ],
      "text/plain": [
       "<class 'statsmodels.iolib.summary2.Summary'>\n",
       "\"\"\"\n",
       "                           Results: Logit\n",
       "=====================================================================\n",
       "Model:                Logit             Pseudo R-squared:  0.061     \n",
       "Dependent Variable:   y                 AIC:               2694.9922 \n",
       "Date:                 2023-02-10 12:15  BIC:               2764.5492 \n",
       "No. Observations:     4119              Log-Likelihood:    -1336.5   \n",
       "Df Model:             10                LL-Null:           -1422.9   \n",
       "Df Residuals:         4108              LLR p-value:       7.1214e-32\n",
       "Converged:            1.0000            Scale:             1.0000    \n",
       "No. Iterations:       7.0000                                         \n",
       "---------------------------------------------------------------------\n",
       "                      Coef.  Std.Err.    z     P>|z|   [0.025  0.975]\n",
       "---------------------------------------------------------------------\n",
       "previous             -0.3631   0.0727  -4.9935 0.0000 -0.5056 -0.2206\n",
       "job_blue-collar      -0.7678   0.1488  -5.1597 0.0000 -1.0595 -0.4762\n",
       "job_retired           0.4797   0.2126   2.2568 0.0240  0.0631  0.8963\n",
       "month_aug            -0.1322   0.1587  -0.8330 0.4048 -0.4433  0.1788\n",
       "month_dec             1.5490   0.4865   3.1839 0.0015  0.5955  2.5026\n",
       "month_jul            -0.1142   0.1621  -0.7047 0.4810 -0.4320  0.2035\n",
       "month_jun             0.3692   0.1580   2.3371 0.0194  0.0596  0.6788\n",
       "month_mar             2.0259   0.3299   6.1407 0.0000  1.3793  2.6725\n",
       "month_nov            -0.6228   0.1810  -3.4415 0.0006 -0.9775 -0.2681\n",
       "day_of_week_wed      -0.1438   0.1339  -1.0735 0.2831 -0.4063  0.1187\n",
       "poutcome_nonexistent -2.2827   0.0958 -23.8185 0.0000 -2.4705 -2.0949\n",
       "=====================================================================\n",
       "\n",
       "\"\"\""
      ]
     },
     "execution_count": 26,
     "metadata": {},
     "output_type": "execute_result"
    }
   ],
   "source": [
    "result.summary2()"
   ]
  },
  {
   "cell_type": "markdown",
   "metadata": {},
   "source": [
    "### Implementación del modelo con la librería scikit-learn"
   ]
  },
  {
   "cell_type": "code",
   "execution_count": 28,
   "metadata": {},
   "outputs": [
    {
     "data": {
      "text/plain": [
       "LogisticRegression()"
      ]
     },
     "execution_count": 28,
     "metadata": {},
     "output_type": "execute_result"
    }
   ],
   "source": [
    "from sklearn import linear_model\n",
    "logit_model = linear_model.LogisticRegression()\n",
    "logit_model.fit(X,Y)"
   ]
  },
  {
   "cell_type": "code",
   "execution_count": 29,
   "metadata": {},
   "outputs": [
    {
     "data": {
      "text/plain": [
       "0.8948773974265598"
      ]
     },
     "execution_count": 29,
     "metadata": {},
     "output_type": "execute_result"
    }
   ],
   "source": [
    "logit_model.score(X,Y)"
   ]
  },
  {
   "cell_type": "code",
   "execution_count": 30,
   "metadata": {},
   "outputs": [
    {
     "data": {
      "text/plain": [
       "0.8905074047098811"
      ]
     },
     "execution_count": 30,
     "metadata": {},
     "output_type": "execute_result"
    }
   ],
   "source": [
    "1-Y.mean()"
   ]
  },
  {
   "cell_type": "code",
   "execution_count": 31,
   "metadata": {},
   "outputs": [
    {
     "data": {
      "text/html": [
       "<div>\n",
       "<style scoped>\n",
       "    .dataframe tbody tr th:only-of-type {\n",
       "        vertical-align: middle;\n",
       "    }\n",
       "\n",
       "    .dataframe tbody tr th {\n",
       "        vertical-align: top;\n",
       "    }\n",
       "\n",
       "    .dataframe thead th {\n",
       "        text-align: right;\n",
       "    }\n",
       "</style>\n",
       "<table border=\"1\" class=\"dataframe\">\n",
       "  <thead>\n",
       "    <tr style=\"text-align: right;\">\n",
       "      <th></th>\n",
       "      <th>0</th>\n",
       "      <th>1</th>\n",
       "    </tr>\n",
       "  </thead>\n",
       "  <tbody>\n",
       "    <tr>\n",
       "      <th>0</th>\n",
       "      <td>previous</td>\n",
       "      <td>[0.7204356322386244]</td>\n",
       "    </tr>\n",
       "    <tr>\n",
       "      <th>1</th>\n",
       "      <td>job_blue-collar</td>\n",
       "      <td>[-0.49769383225588193]</td>\n",
       "    </tr>\n",
       "    <tr>\n",
       "      <th>2</th>\n",
       "      <td>job_retired</td>\n",
       "      <td>[0.6319429244561681]</td>\n",
       "    </tr>\n",
       "    <tr>\n",
       "      <th>3</th>\n",
       "      <td>month_aug</td>\n",
       "      <td>[0.01585013762156673]</td>\n",
       "    </tr>\n",
       "    <tr>\n",
       "      <th>4</th>\n",
       "      <td>month_dec</td>\n",
       "      <td>[1.5950349880667416]</td>\n",
       "    </tr>\n",
       "    <tr>\n",
       "      <th>5</th>\n",
       "      <td>month_jul</td>\n",
       "      <td>[0.00610341596471674]</td>\n",
       "    </tr>\n",
       "    <tr>\n",
       "      <th>6</th>\n",
       "      <td>month_jun</td>\n",
       "      <td>[0.46875792942059585]</td>\n",
       "    </tr>\n",
       "    <tr>\n",
       "      <th>7</th>\n",
       "      <td>month_mar</td>\n",
       "      <td>[2.00514592151791]</td>\n",
       "    </tr>\n",
       "    <tr>\n",
       "      <th>8</th>\n",
       "      <td>month_nov</td>\n",
       "      <td>[-0.199569908288184]</td>\n",
       "    </tr>\n",
       "    <tr>\n",
       "      <th>9</th>\n",
       "      <td>day_of_week_wed</td>\n",
       "      <td>[0.025689317399753133]</td>\n",
       "    </tr>\n",
       "    <tr>\n",
       "      <th>10</th>\n",
       "      <td>poutcome_nonexistent</td>\n",
       "      <td>[-0.36212443188244825]</td>\n",
       "    </tr>\n",
       "  </tbody>\n",
       "</table>\n",
       "</div>"
      ],
      "text/plain": [
       "                       0                       1\n",
       "0               previous    [0.7204356322386244]\n",
       "1        job_blue-collar  [-0.49769383225588193]\n",
       "2            job_retired    [0.6319429244561681]\n",
       "3              month_aug   [0.01585013762156673]\n",
       "4              month_dec    [1.5950349880667416]\n",
       "5              month_jul   [0.00610341596471674]\n",
       "6              month_jun   [0.46875792942059585]\n",
       "7              month_mar      [2.00514592151791]\n",
       "8              month_nov    [-0.199569908288184]\n",
       "9        day_of_week_wed  [0.025689317399753133]\n",
       "10  poutcome_nonexistent  [-0.36212443188244825]"
      ]
     },
     "execution_count": 31,
     "metadata": {},
     "output_type": "execute_result"
    }
   ],
   "source": [
    "pd.DataFrame(list(zip(X.columns, np.transpose(logit_model.coef_))))"
   ]
  },
  {
   "cell_type": "markdown",
   "metadata": {},
   "source": [
    "## Validación del modelo logístico"
   ]
  },
  {
   "cell_type": "code",
   "execution_count": 33,
   "metadata": {},
   "outputs": [],
   "source": [
    "X_train, X_test, Y_train, Y_test = train_test_split(X,Y, test_size = 0.3, random_state=0)"
   ]
  },
  {
   "cell_type": "code",
   "execution_count": 34,
   "metadata": {},
   "outputs": [
    {
     "data": {
      "text/plain": [
       "LogisticRegression()"
      ]
     },
     "execution_count": 34,
     "metadata": {},
     "output_type": "execute_result"
    }
   ],
   "source": [
    "lm = linear_model.LogisticRegression()\n",
    "lm.fit(X_train, Y_train)"
   ]
  },
  {
   "cell_type": "code",
   "execution_count": 36,
   "metadata": {},
   "outputs": [
    {
     "data": {
      "text/latex": [
       "$\\displaystyle Y_p=\\begin{cases}0& si\\ p\\leq0.5\\\\1&si\\ p >0.5\\end{cases}$"
      ],
      "text/plain": [
       "<IPython.core.display.Math object>"
      ]
     },
     "metadata": {},
     "output_type": "display_data"
    }
   ],
   "source": [
    "from IPython.display import display, Math, Latex\n",
    "display(Math(r'Y_p=\\begin{cases}0& si\\ p\\leq0.5\\\\1&si\\ p >0.5\\end{cases}'))"
   ]
  },
  {
   "cell_type": "code",
   "execution_count": 37,
   "metadata": {},
   "outputs": [],
   "source": [
    "probs = lm.predict_proba(X_test)"
   ]
  },
  {
   "cell_type": "code",
   "execution_count": 38,
   "metadata": {},
   "outputs": [
    {
     "data": {
      "text/plain": [
       "array([[0.92461341, 0.07538659],\n",
       "       [0.91562776, 0.08437224],\n",
       "       [0.87940301, 0.12059699],\n",
       "       ...,\n",
       "       [0.87912618, 0.12087382],\n",
       "       [0.91562776, 0.08437224],\n",
       "       [0.38204631, 0.61795369]])"
      ]
     },
     "execution_count": 38,
     "metadata": {},
     "output_type": "execute_result"
    }
   ],
   "source": [
    "probs"
   ]
  },
  {
   "cell_type": "code",
   "execution_count": 39,
   "metadata": {},
   "outputs": [],
   "source": [
    "prediction = lm.predict(X_test)"
   ]
  },
  {
   "cell_type": "code",
   "execution_count": 40,
   "metadata": {},
   "outputs": [
    {
     "data": {
      "text/plain": [
       "array([0, 0, 0, ..., 0, 0, 1])"
      ]
     },
     "execution_count": 40,
     "metadata": {},
     "output_type": "execute_result"
    }
   ],
   "source": [
    "prediction"
   ]
  },
  {
   "cell_type": "code",
   "execution_count": 41,
   "metadata": {},
   "outputs": [
    {
     "data": {
      "text/latex": [
       "$\\displaystyle \\varepsilon\\in (0,1), Y_p=\\begin{cases}0& si\\ p\\leq \\varepsilon\\\\1&si\\ p >\\varepsilon\\end{cases}$"
      ],
      "text/plain": [
       "<IPython.core.display.Math object>"
      ]
     },
     "metadata": {},
     "output_type": "display_data"
    }
   ],
   "source": [
    "display(Math(r'\\varepsilon\\in (0,1), Y_p=\\begin{cases}0& si\\ p\\leq \\varepsilon\\\\1&si\\ p >\\varepsilon\\end{cases}'))"
   ]
  },
  {
   "cell_type": "code",
   "execution_count": 42,
   "metadata": {},
   "outputs": [
    {
     "data": {
      "text/html": [
       "<div>\n",
       "<style scoped>\n",
       "    .dataframe tbody tr th:only-of-type {\n",
       "        vertical-align: middle;\n",
       "    }\n",
       "\n",
       "    .dataframe tbody tr th {\n",
       "        vertical-align: top;\n",
       "    }\n",
       "\n",
       "    .dataframe thead th {\n",
       "        text-align: right;\n",
       "    }\n",
       "</style>\n",
       "<table border=\"1\" class=\"dataframe\">\n",
       "  <thead>\n",
       "    <tr style=\"text-align: right;\">\n",
       "      <th></th>\n",
       "      <th>0</th>\n",
       "      <th>prediction</th>\n",
       "    </tr>\n",
       "  </thead>\n",
       "  <tbody>\n",
       "    <tr>\n",
       "      <th>0</th>\n",
       "      <td>0.075387</td>\n",
       "      <td>0</td>\n",
       "    </tr>\n",
       "    <tr>\n",
       "      <th>1</th>\n",
       "      <td>0.084372</td>\n",
       "      <td>0</td>\n",
       "    </tr>\n",
       "    <tr>\n",
       "      <th>2</th>\n",
       "      <td>0.120597</td>\n",
       "      <td>1</td>\n",
       "    </tr>\n",
       "    <tr>\n",
       "      <th>3</th>\n",
       "      <td>0.083494</td>\n",
       "      <td>0</td>\n",
       "    </tr>\n",
       "    <tr>\n",
       "      <th>4</th>\n",
       "      <td>0.040698</td>\n",
       "      <td>0</td>\n",
       "    </tr>\n",
       "  </tbody>\n",
       "</table>\n",
       "</div>"
      ],
      "text/plain": [
       "          0  prediction\n",
       "0  0.075387           0\n",
       "1  0.084372           0\n",
       "2  0.120597           1\n",
       "3  0.083494           0\n",
       "4  0.040698           0"
      ]
     },
     "execution_count": 42,
     "metadata": {},
     "output_type": "execute_result"
    }
   ],
   "source": [
    "prob = probs[:,1]\n",
    "prob_df = pd.DataFrame(prob)\n",
    "threshold = 0.1\n",
    "prob_df[\"prediction\"] = np.where(prob_df[0]>threshold, 1, 0)\n",
    "prob_df.head()"
   ]
  },
  {
   "cell_type": "code",
   "execution_count": 43,
   "metadata": {},
   "outputs": [
    {
     "data": {
      "text/html": [
       "<div>\n",
       "<style scoped>\n",
       "    .dataframe tbody tr th:only-of-type {\n",
       "        vertical-align: middle;\n",
       "    }\n",
       "\n",
       "    .dataframe tbody tr th {\n",
       "        vertical-align: top;\n",
       "    }\n",
       "\n",
       "    .dataframe thead th {\n",
       "        text-align: right;\n",
       "    }\n",
       "</style>\n",
       "<table border=\"1\" class=\"dataframe\">\n",
       "  <thead>\n",
       "    <tr style=\"text-align: right;\">\n",
       "      <th>col_0</th>\n",
       "      <th>count</th>\n",
       "    </tr>\n",
       "    <tr>\n",
       "      <th>prediction</th>\n",
       "      <th></th>\n",
       "    </tr>\n",
       "  </thead>\n",
       "  <tbody>\n",
       "    <tr>\n",
       "      <th>0</th>\n",
       "      <td>931</td>\n",
       "    </tr>\n",
       "    <tr>\n",
       "      <th>1</th>\n",
       "      <td>305</td>\n",
       "    </tr>\n",
       "  </tbody>\n",
       "</table>\n",
       "</div>"
      ],
      "text/plain": [
       "col_0       count\n",
       "prediction       \n",
       "0             931\n",
       "1             305"
      ]
     },
     "execution_count": 43,
     "metadata": {},
     "output_type": "execute_result"
    }
   ],
   "source": [
    "pd.crosstab(prob_df.prediction, columns=\"count\")"
   ]
  },
  {
   "cell_type": "code",
   "execution_count": 44,
   "metadata": {},
   "outputs": [
    {
     "data": {
      "text/plain": [
       "31.55339805825243"
      ]
     },
     "execution_count": 44,
     "metadata": {},
     "output_type": "execute_result"
    }
   ],
   "source": [
    "390/len(prob_df)*100"
   ]
  },
  {
   "cell_type": "code",
   "execution_count": 45,
   "metadata": {},
   "outputs": [
    {
     "data": {
      "text/html": [
       "<div>\n",
       "<style scoped>\n",
       "    .dataframe tbody tr th:only-of-type {\n",
       "        vertical-align: middle;\n",
       "    }\n",
       "\n",
       "    .dataframe tbody tr th {\n",
       "        vertical-align: top;\n",
       "    }\n",
       "\n",
       "    .dataframe thead th {\n",
       "        text-align: right;\n",
       "    }\n",
       "</style>\n",
       "<table border=\"1\" class=\"dataframe\">\n",
       "  <thead>\n",
       "    <tr style=\"text-align: right;\">\n",
       "      <th>col_0</th>\n",
       "      <th>count</th>\n",
       "    </tr>\n",
       "    <tr>\n",
       "      <th>prediction</th>\n",
       "      <th></th>\n",
       "    </tr>\n",
       "  </thead>\n",
       "  <tbody>\n",
       "    <tr>\n",
       "      <th>0</th>\n",
       "      <td>1092</td>\n",
       "    </tr>\n",
       "    <tr>\n",
       "      <th>1</th>\n",
       "      <td>144</td>\n",
       "    </tr>\n",
       "  </tbody>\n",
       "</table>\n",
       "</div>"
      ],
      "text/plain": [
       "col_0       count\n",
       "prediction       \n",
       "0            1092\n",
       "1             144"
      ]
     },
     "execution_count": 45,
     "metadata": {},
     "output_type": "execute_result"
    }
   ],
   "source": [
    "threshold = 0.15\n",
    "prob_df[\"prediction\"] = np.where(prob_df[0]>threshold, 1, 0)\n",
    "pd.crosstab(prob_df.prediction, columns=\"count\")"
   ]
  },
  {
   "cell_type": "code",
   "execution_count": 46,
   "metadata": {},
   "outputs": [
    {
     "data": {
      "text/plain": [
       "26.779935275080906"
      ]
     },
     "execution_count": 46,
     "metadata": {},
     "output_type": "execute_result"
    }
   ],
   "source": [
    "331/len(prob_df)*100"
   ]
  },
  {
   "cell_type": "code",
   "execution_count": 47,
   "metadata": {},
   "outputs": [
    {
     "data": {
      "text/html": [
       "<div>\n",
       "<style scoped>\n",
       "    .dataframe tbody tr th:only-of-type {\n",
       "        vertical-align: middle;\n",
       "    }\n",
       "\n",
       "    .dataframe tbody tr th {\n",
       "        vertical-align: top;\n",
       "    }\n",
       "\n",
       "    .dataframe thead th {\n",
       "        text-align: right;\n",
       "    }\n",
       "</style>\n",
       "<table border=\"1\" class=\"dataframe\">\n",
       "  <thead>\n",
       "    <tr style=\"text-align: right;\">\n",
       "      <th>col_0</th>\n",
       "      <th>count</th>\n",
       "    </tr>\n",
       "    <tr>\n",
       "      <th>prediction</th>\n",
       "      <th></th>\n",
       "    </tr>\n",
       "  </thead>\n",
       "  <tbody>\n",
       "    <tr>\n",
       "      <th>0</th>\n",
       "      <td>28</td>\n",
       "    </tr>\n",
       "    <tr>\n",
       "      <th>1</th>\n",
       "      <td>1208</td>\n",
       "    </tr>\n",
       "  </tbody>\n",
       "</table>\n",
       "</div>"
      ],
      "text/plain": [
       "col_0       count\n",
       "prediction       \n",
       "0              28\n",
       "1            1208"
      ]
     },
     "execution_count": 47,
     "metadata": {},
     "output_type": "execute_result"
    }
   ],
   "source": [
    "threshold = 0.05\n",
    "prob_df[\"prediction\"] = np.where(prob_df[0]>threshold, 1, 0)\n",
    "pd.crosstab(prob_df.prediction, columns=\"count\")"
   ]
  },
  {
   "cell_type": "code",
   "execution_count": 48,
   "metadata": {},
   "outputs": [
    {
     "data": {
      "text/plain": [
       "59.22330097087378"
      ]
     },
     "execution_count": 48,
     "metadata": {},
     "output_type": "execute_result"
    }
   ],
   "source": [
    "732/len(prob_df)*100"
   ]
  },
  {
   "cell_type": "code",
   "execution_count": 49,
   "metadata": {},
   "outputs": [
    {
     "data": {
      "text/plain": [
       "0.8996763754045307"
      ]
     },
     "execution_count": 49,
     "metadata": {},
     "output_type": "execute_result"
    }
   ],
   "source": [
    "metrics.accuracy_score(Y_test, prediction)"
   ]
  },
  {
   "cell_type": "markdown",
   "metadata": {},
   "source": [
    "## Validación cruzada"
   ]
  },
  {
   "cell_type": "code",
   "execution_count": 51,
   "metadata": {},
   "outputs": [],
   "source": [
    "scores = cross_validate(linear_model.LogisticRegression(), X, Y, scoring=\"accuracy\", cv=10)"
   ]
  },
  {
   "cell_type": "code",
   "execution_count": 52,
   "metadata": {},
   "outputs": [
    {
     "data": {
      "text/plain": [
       "{'fit_time': array([0.02771187, 0.02196288, 0.02239275, 0.02219009, 0.07382703,\n",
       "        0.01810789, 0.01513386, 0.01618838, 0.01591611, 0.01459098]),\n",
       " 'score_time': array([0.00277781, 0.00266027, 0.00276303, 0.00284505, 0.00237799,\n",
       "        0.002002  , 0.00243711, 0.00258088, 0.00202918, 0.00192308]),\n",
       " 'test_score': array([0.89320388, 0.88834951, 0.90291262, 0.89805825, 0.89563107,\n",
       "        0.8907767 , 0.8907767 , 0.89563107, 0.8907767 , 0.89294404])}"
      ]
     },
     "execution_count": 52,
     "metadata": {},
     "output_type": "execute_result"
    }
   ],
   "source": [
    "scores"
   ]
  },
  {
   "cell_type": "code",
   "execution_count": 53,
   "metadata": {},
   "outputs": [
    {
     "ename": "AttributeError",
     "evalue": "'dict' object has no attribute 'mean'",
     "output_type": "error",
     "traceback": [
      "\u001b[0;31m---------------------------------------------------------------------------\u001b[0m",
      "\u001b[0;31mAttributeError\u001b[0m                            Traceback (most recent call last)",
      "\u001b[0;32m<ipython-input-53-2d94476f7a60>\u001b[0m in \u001b[0;36m<module>\u001b[0;34m\u001b[0m\n\u001b[0;32m----> 1\u001b[0;31m \u001b[0mscores\u001b[0m\u001b[0;34m.\u001b[0m\u001b[0mmean\u001b[0m\u001b[0;34m(\u001b[0m\u001b[0;34m)\u001b[0m\u001b[0;34m\u001b[0m\u001b[0;34m\u001b[0m\u001b[0m\n\u001b[0m",
      "\u001b[0;31mAttributeError\u001b[0m: 'dict' object has no attribute 'mean'"
     ]
    }
   ],
   "source": [
    "scores.mean()"
   ]
  },
  {
   "cell_type": "code",
   "execution_count": null,
   "metadata": {},
   "outputs": [],
   "source": []
  }
 ],
 "metadata": {
  "kernelspec": {
   "display_name": "Python 3",
   "language": "python",
   "name": "python3"
  },
  "language_info": {
   "codemirror_mode": {
    "name": "ipython",
    "version": 3
   },
   "file_extension": ".py",
   "mimetype": "text/x-python",
   "name": "python",
   "nbconvert_exporter": "python",
   "pygments_lexer": "ipython3",
   "version": "3.7.4"
  }
 },
 "nbformat": 4,
 "nbformat_minor": 2
}
