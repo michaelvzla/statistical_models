{
 "cells": [
  {
   "cell_type": "code",
   "execution_count": 3,
   "metadata": {},
   "outputs": [
    {
     "name": "stdout",
     "output_type": "stream",
     "text": [
      "Dataset generado exitosamente.\n"
     ]
    }
   ],
   "source": [
    "import csv\n",
    "import random\n",
    "import os\n",
    "import pandas as pd\n",
    "from datetime import datetime, timedelta\n",
    "\n",
    "# Función para generar una cantidad aleatoria de ingresos anuales\n",
    "def generar_ingresos():\n",
    "    return \"${:,.2f}\".format(random.randint(20000, 100000))\n",
    "\n",
    "# Función para generar una tasa de interés aleatoria\n",
    "def generar_tasa_interes():\n",
    "    return \"{:.1f}%\".format(random.uniform(5, 15))\n",
    "\n",
    "# Función para generar una deuda existente aleatoria\n",
    "def generar_deuda_existente():\n",
    "    return \"${:,.2f}\".format(random.randint(0, 50000))\n",
    "\n",
    "# Función para generar un periodo aleatorio entre enero-22 y enero-23\n",
    "def generar_periodo():\n",
    "    start_date = datetime(2022, 1, 1)\n",
    "    end_date = datetime(2023, 1, 1)\n",
    "    random_days = random.randint(0, (end_date - start_date).days)\n",
    "    random_date = start_date + timedelta(days=random_days)\n",
    "    return random_date.strftime('%Y-%m')\n",
    "\n",
    "# Lista de posibles valores para algunas características\n",
    "historial_crediticio = [\"Bueno\", \"Regular\", \"Malo\"]\n",
    "estado_laboral = [\"Empleado\", \"Desempleado\", \"Autónomo\"]\n",
    "proposito_prestamo = [\"Vivienda\", \"Educación\", \"Auto\", \"Emergencia\", \"Otros\"]\n",
    "estado_civil = [\"Soltero\", \"Casado\", \"Divorciado\"]\n",
    "nivel_educacion = [\"Universidad\", \"Maestría\", \"Doctorado\", \"Preparatoria\"]\n",
    "\n",
    "# Ruta donde se guardará el archivo CSV\n",
    "ruta_archivo = os.path.join(os.getcwd(), 'dataset_crediticio.csv')\n",
    "\n",
    "# Abrir el archivo CSV en modo de escritura\n",
    "with open(ruta_archivo, mode='w', newline='') as file:\n",
    "    writer = csv.writer(file)\n",
    "\n",
    "    # Escribir la fila de encabezados sin espacios\n",
    "    writer.writerow([\"ID\", \"Edad\", \"Ingresos_Anuales\", \"Historial_Crediticio\", \"Monto_del_Prestamo\", \"Plazo_del_Prestamo\",\n",
    "                     \"Tasa_de_Interes\", \"Deuda_Existente\", \"Numero_de_Dependientes\", \"Estado_Laboral\", \"Proposito_del_Prestamo\",\n",
    "                     \"Estado_Civil\", \"Nivel_de_Educacion\", \"Score_de_Riesgo_Interno\", \"Resultado_del_Riesgo\", \"Periodo\"])\n",
    "\n",
    "    # Generar 10,000 registros aleatorios\n",
    "    for i in range(1, 10001):\n",
    "        edad = random.randint(18, 65)\n",
    "        monto_prestamo = \"${:,.2f}\".format(random.randint(1000, 50000))\n",
    "        plazo_prestamo = random.randint(6, 36)\n",
    "        numero_dependientes = random.randint(0, 5)\n",
    "        score_riesgo = random.randint(500, 850)\n",
    "        resultado_riesgo = random.choice([0, 1])\n",
    "        periodo = generar_periodo()\n",
    "\n",
    "        writer.writerow([i, edad, generar_ingresos(), random.choice(historial_crediticio), monto_prestamo, plazo_prestamo,\n",
    "                         generar_tasa_interes(), generar_deuda_existente(), numero_dependientes, random.choice(estado_laboral),\n",
    "                         random.choice(proposito_prestamo), random.choice(estado_civil), random.choice(nivel_educacion),\n",
    "                         score_riesgo, resultado_riesgo, periodo])\n",
    "\n",
    "print(\"Dataset generado exitosamente.\")\n"
   ]
  },
  {
   "cell_type": "code",
   "execution_count": 2,
   "metadata": {},
   "outputs": [
    {
     "name": "stdout",
     "output_type": "stream",
     "text": [
      "Dataset generado exitosamente. Se ha guardado en: /Users/michael/Documents/Python/ProyestosPersonales/Modelos/statistical_models/xgboots/01 - Credit_risk_model/DATA/dataset_crediticio.csv\n"
     ]
    }
   ],
   "source": [
    "# Ruta donde se guardará el archivo CSV\n",
    "ruta_archivo = os.path.join(os.getcwd(), 'dataset_crediticio.csv')\n",
    "\n",
    "print(f\"Dataset generado exitosamente. Se ha guardado en: {ruta_archivo}\")"
   ]
  },
  {
   "cell_type": "markdown",
   "metadata": {},
   "source": [
    "Descripción de columnas\n",
    "\n",
    "- ID del Cliente: Un identificador único para cada cliente.\n",
    "- Edad: La edad del cliente.\n",
    "- Ingresos Anuales: Los ingresos anuales del cliente.\n",
    "- Historial Crediticio: Un valor que indica el historial crediticio del cliente (bueno, regular, malo).\n",
    "- Monto del Préstamo: El monto solicitado en el préstamo.\n",
    "- Plazo del Préstamo: El plazo en meses para devolver el préstamo.\n",
    "- Tasa de Interés: La tasa de interés del préstamo.\n",
    "- Deuda Existente: Cantidad de deuda actual del cliente.\n",
    "- Número de Dependientes: Cantidad de personas dependientes del cliente.\n",
    "- Estado Laboral: Estado laboral del cliente (empleado, desempleado, autónomo, etc.).\n",
    "- Propósito del Préstamo: El propósito para el cual se solicita el préstamo (compra de vivienda, educación, automóvil, etc.).\n",
    "- Estado Civil: Estado civil del cliente (soltero, casado, divorciado, etc.).\n",
    "- Nivel de Educación: Nivel educativo del cliente.\n",
    "- Score de Riesgo Interno: Un puntaje interno de riesgo crediticio calculado por la institución financiera.\n",
    "- Resultado del Riesgo: Variable objetivo que indica si el cliente cumplió o no con el préstamo (0 para incumplimiento, 1 para cumplimiento).\n"
   ]
  },
  {
   "cell_type": "markdown",
   "metadata": {},
   "source": []
  }
 ],
 "metadata": {
  "kernelspec": {
   "display_name": "Python 3",
   "language": "python",
   "name": "python3"
  },
  "language_info": {
   "codemirror_mode": {
    "name": "ipython",
    "version": 3
   },
   "file_extension": ".py",
   "mimetype": "text/x-python",
   "name": "python",
   "nbconvert_exporter": "python",
   "pygments_lexer": "ipython3",
   "version": "3.8.2"
  },
  "orig_nbformat": 4
 },
 "nbformat": 4,
 "nbformat_minor": 2
}
