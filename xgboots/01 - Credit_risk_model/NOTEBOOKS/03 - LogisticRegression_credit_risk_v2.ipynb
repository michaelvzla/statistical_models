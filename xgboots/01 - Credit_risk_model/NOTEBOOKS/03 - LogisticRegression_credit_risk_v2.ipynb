{
 "cells": [
  {
   "cell_type": "markdown",
   "metadata": {},
   "source": [
    "### Logistic Regression Credit Risk\n",
    "\n",
    "Dataset generado de forma aleatoria para efectos educativos.\n",
    "\n",
    "### Datos de contacto\n",
    "\n",
    "- Correo electronico: ortizmontilla@gmail.com\n"
   ]
  },
  {
   "cell_type": "code",
   "execution_count": null,
   "metadata": {},
   "outputs": [],
   "source": [
    "''' \n",
    "pip install xgboost scikit-learn\n",
    "pip install graphviz xgboost\n",
    "pip install openpyxl\n",
    "'''"
   ]
  },
  {
   "cell_type": "code",
   "execution_count": 1,
   "metadata": {},
   "outputs": [
    {
     "data": {
      "text/plain": [
       "'/Users/michael/Documents/Python/ProyestosPersonales/Modelos/statistical_models/xgboots/01 - Credit_risk_model/NOTEBOOKS'"
      ]
     },
     "execution_count": 1,
     "metadata": {},
     "output_type": "execute_result"
    }
   ],
   "source": [
    "pwd"
   ]
  },
  {
   "cell_type": "code",
   "execution_count": 2,
   "metadata": {},
   "outputs": [],
   "source": [
    "# Tratamiento de datos\n",
    "import pandas as pd\n",
    "import numpy as np\n",
    "\n",
    "# Modeling\n",
    "from sklearn.model_selection import train_test_split\n",
    "from sklearn.linear_model import LogisticRegression\n",
    "from sklearn.metrics import roc_auc_score, roc_curve, auc\n",
    "\n",
    "# Gráficos\n",
    "import matplotlib.pyplot as plt"
   ]
  },
  {
   "cell_type": "code",
   "execution_count": 3,
   "metadata": {},
   "outputs": [
    {
     "data": {
      "text/html": [
       "<div>\n",
       "<style scoped>\n",
       "    .dataframe tbody tr th:only-of-type {\n",
       "        vertical-align: middle;\n",
       "    }\n",
       "\n",
       "    .dataframe tbody tr th {\n",
       "        vertical-align: top;\n",
       "    }\n",
       "\n",
       "    .dataframe thead th {\n",
       "        text-align: right;\n",
       "    }\n",
       "</style>\n",
       "<table border=\"1\" class=\"dataframe\">\n",
       "  <thead>\n",
       "    <tr style=\"text-align: right;\">\n",
       "      <th></th>\n",
       "      <th>resultado_del_riesgo</th>\n",
       "      <th>periodo</th>\n",
       "      <th>edad_WOE</th>\n",
       "      <th>historial_crediticio_WOE</th>\n",
       "      <th>plazo_del_prestamo_WOE</th>\n",
       "      <th>tasa_de_interes_WOE</th>\n",
       "      <th>numero_de_dependientes_WOE</th>\n",
       "      <th>estado_laboral_WOE</th>\n",
       "      <th>proposito_del_prestamo_WOE</th>\n",
       "      <th>estado_civil_WOE</th>\n",
       "      <th>nivel_de_educacion_WOE</th>\n",
       "    </tr>\n",
       "  </thead>\n",
       "  <tbody>\n",
       "    <tr>\n",
       "      <th>0</th>\n",
       "      <td>1</td>\n",
       "      <td>2022-06</td>\n",
       "      <td>0.99</td>\n",
       "      <td>1.00</td>\n",
       "      <td>1.28</td>\n",
       "      <td>1.19</td>\n",
       "      <td>1.13</td>\n",
       "      <td>1.0</td>\n",
       "      <td>1.11</td>\n",
       "      <td>1.05</td>\n",
       "      <td>0.97</td>\n",
       "    </tr>\n",
       "    <tr>\n",
       "      <th>1</th>\n",
       "      <td>1</td>\n",
       "      <td>2022-05</td>\n",
       "      <td>1.32</td>\n",
       "      <td>1.03</td>\n",
       "      <td>0.93</td>\n",
       "      <td>0.72</td>\n",
       "      <td>1.06</td>\n",
       "      <td>1.0</td>\n",
       "      <td>1.07</td>\n",
       "      <td>1.05</td>\n",
       "      <td>0.97</td>\n",
       "    </tr>\n",
       "    <tr>\n",
       "      <th>2</th>\n",
       "      <td>1</td>\n",
       "      <td>2022-04</td>\n",
       "      <td>1.12</td>\n",
       "      <td>0.97</td>\n",
       "      <td>1.03</td>\n",
       "      <td>1.70</td>\n",
       "      <td>0.98</td>\n",
       "      <td>1.0</td>\n",
       "      <td>0.96</td>\n",
       "      <td>0.96</td>\n",
       "      <td>1.01</td>\n",
       "    </tr>\n",
       "  </tbody>\n",
       "</table>\n",
       "</div>"
      ],
      "text/plain": [
       "   resultado_del_riesgo  periodo  edad_WOE  historial_crediticio_WOE  \\\n",
       "0                     1  2022-06      0.99                      1.00   \n",
       "1                     1  2022-05      1.32                      1.03   \n",
       "2                     1  2022-04      1.12                      0.97   \n",
       "\n",
       "   plazo_del_prestamo_WOE  tasa_de_interes_WOE  numero_de_dependientes_WOE  \\\n",
       "0                    1.28                 1.19                        1.13   \n",
       "1                    0.93                 0.72                        1.06   \n",
       "2                    1.03                 1.70                        0.98   \n",
       "\n",
       "   estado_laboral_WOE  proposito_del_prestamo_WOE  estado_civil_WOE  \\\n",
       "0                 1.0                        1.11              1.05   \n",
       "1                 1.0                        1.07              1.05   \n",
       "2                 1.0                        0.96              0.96   \n",
       "\n",
       "   nivel_de_educacion_WOE  \n",
       "0                    0.97  \n",
       "1                    0.97  \n",
       "2                    1.01  "
      ]
     },
     "execution_count": 3,
     "metadata": {},
     "output_type": "execute_result"
    }
   ],
   "source": [
    "# Guardar el conjunto de datos transformado en un nuevo archivo parquet\n",
    "data = pd.read_parquet('/Users/michael/Documents/Python/ProyestosPersonales/Modelos/statistical_models/xgboots/01 - Credit_risk_model/DATA/dataset_crediticio_Logict_woe.parquet')\n",
    "data.head(3)"
   ]
  },
  {
   "cell_type": "markdown",
   "metadata": {},
   "source": [
    "### Logistic Regression"
   ]
  },
  {
   "cell_type": "code",
   "execution_count": 4,
   "metadata": {},
   "outputs": [
    {
     "name": "stdout",
     "output_type": "stream",
     "text": [
      "(8000, 11)\n",
      "(2000, 11)\n"
     ]
    }
   ],
   "source": [
    "# Dividir los datos en conjunto de entrenamiento y prueba\n",
    "train_data, test_data = train_test_split(data, test_size=0.2, random_state=42)\n",
    "print(train_data.shape)\n",
    "print(test_data.shape)"
   ]
  },
  {
   "cell_type": "code",
   "execution_count": 5,
   "metadata": {},
   "outputs": [
    {
     "data": {
      "text/html": [
       "<div>\n",
       "<style scoped>\n",
       "    .dataframe tbody tr th:only-of-type {\n",
       "        vertical-align: middle;\n",
       "    }\n",
       "\n",
       "    .dataframe tbody tr th {\n",
       "        vertical-align: top;\n",
       "    }\n",
       "\n",
       "    .dataframe thead th {\n",
       "        text-align: right;\n",
       "    }\n",
       "</style>\n",
       "<table border=\"1\" class=\"dataframe\">\n",
       "  <thead>\n",
       "    <tr style=\"text-align: right;\">\n",
       "      <th></th>\n",
       "      <th>Categorias</th>\n",
       "      <th>Qtd</th>\n",
       "      <th>%</th>\n",
       "    </tr>\n",
       "  </thead>\n",
       "  <tbody>\n",
       "    <tr>\n",
       "      <th>0</th>\n",
       "      <td>1</td>\n",
       "      <td>7103</td>\n",
       "      <td>90.0</td>\n",
       "    </tr>\n",
       "    <tr>\n",
       "      <th>1</th>\n",
       "      <td>0</td>\n",
       "      <td>897</td>\n",
       "      <td>10.0</td>\n",
       "    </tr>\n",
       "  </tbody>\n",
       "</table>\n",
       "</div>"
      ],
      "text/plain": [
       "   Categorias   Qtd     %\n",
       "0           1  7103  90.0\n",
       "1           0   897  10.0"
      ]
     },
     "execution_count": 5,
     "metadata": {},
     "output_type": "execute_result"
    }
   ],
   "source": [
    "# Tasa de malos conjunto de entrenamaiento\n",
    "bad_rate_dev = train_data['resultado_del_riesgo'].value_counts().reset_index()\n",
    "bad_rate_dev = bad_rate_dev.rename(columns={'index': 'Categorias', 'resultado_del_riesgo': 'Qtd'})\n",
    "bad_rate_dev['%'] = round(bad_rate_dev['Qtd'] / bad_rate_dev['Qtd'].sum(), 1) * 100\n",
    "bad_rate_dev"
   ]
  },
  {
   "cell_type": "code",
   "execution_count": 6,
   "metadata": {},
   "outputs": [
    {
     "data": {
      "text/html": [
       "<div>\n",
       "<style scoped>\n",
       "    .dataframe tbody tr th:only-of-type {\n",
       "        vertical-align: middle;\n",
       "    }\n",
       "\n",
       "    .dataframe tbody tr th {\n",
       "        vertical-align: top;\n",
       "    }\n",
       "\n",
       "    .dataframe thead th {\n",
       "        text-align: right;\n",
       "    }\n",
       "</style>\n",
       "<table border=\"1\" class=\"dataframe\">\n",
       "  <thead>\n",
       "    <tr style=\"text-align: right;\">\n",
       "      <th></th>\n",
       "      <th>Categorias</th>\n",
       "      <th>Qtd</th>\n",
       "      <th>%</th>\n",
       "    </tr>\n",
       "  </thead>\n",
       "  <tbody>\n",
       "    <tr>\n",
       "      <th>0</th>\n",
       "      <td>1</td>\n",
       "      <td>1789</td>\n",
       "      <td>90.0</td>\n",
       "    </tr>\n",
       "    <tr>\n",
       "      <th>1</th>\n",
       "      <td>0</td>\n",
       "      <td>211</td>\n",
       "      <td>10.0</td>\n",
       "    </tr>\n",
       "  </tbody>\n",
       "</table>\n",
       "</div>"
      ],
      "text/plain": [
       "   Categorias   Qtd     %\n",
       "0           1  1789  90.0\n",
       "1           0   211  10.0"
      ]
     },
     "execution_count": 6,
     "metadata": {},
     "output_type": "execute_result"
    }
   ],
   "source": [
    "# Tasa de malos conjunto de validación\n",
    "bad_rate_val = test_data['resultado_del_riesgo'].value_counts().reset_index()\n",
    "bad_rate_val = bad_rate_val.rename(columns={'index': 'Categorias', 'resultado_del_riesgo': 'Qtd'})\n",
    "bad_rate_val['%'] = round(bad_rate_val['Qtd'] / bad_rate_val['Qtd'].sum(), 1) * 100\n",
    "bad_rate_val"
   ]
  },
  {
   "cell_type": "code",
   "execution_count": 7,
   "metadata": {},
   "outputs": [],
   "source": [
    "# Definir las columnas predictoras (características) y la variable objetivo\n",
    "features = ['edad_WOE','historial_crediticio_WOE','plazo_del_prestamo_WOE','tasa_de_interes_WOE',\n",
    "'numero_de_dependientes_WOE','estado_laboral_WOE','proposito_del_prestamo_WOE','estado_civil_WOE',\n",
    "'nivel_de_educacion_WOE']\n",
    "target = 'resultado_del_riesgo'"
   ]
  },
  {
   "cell_type": "code",
   "execution_count": 8,
   "metadata": {},
   "outputs": [
    {
     "name": "stderr",
     "output_type": "stream",
     "text": [
      "/Library/Frameworks/Python.framework/Versions/3.8/lib/python3.8/site-packages/sklearn/linear_model/_logistic.py:444: ConvergenceWarning: lbfgs failed to converge (status=1):\n",
      "STOP: TOTAL NO. of ITERATIONS REACHED LIMIT.\n",
      "\n",
      "Increase the number of iterations (max_iter) or scale the data as shown in:\n",
      "    https://scikit-learn.org/stable/modules/preprocessing.html\n",
      "Please also refer to the documentation for alternative solver options:\n",
      "    https://scikit-learn.org/stable/modules/linear_model.html#logistic-regression\n",
      "  n_iter_i = _check_optimize_result(\n"
     ]
    },
    {
     "data": {
      "text/html": [
       "<style>#sk-container-id-1 {color: black;background-color: white;}#sk-container-id-1 pre{padding: 0;}#sk-container-id-1 div.sk-toggleable {background-color: white;}#sk-container-id-1 label.sk-toggleable__label {cursor: pointer;display: block;width: 100%;margin-bottom: 0;padding: 0.3em;box-sizing: border-box;text-align: center;}#sk-container-id-1 label.sk-toggleable__label-arrow:before {content: \"▸\";float: left;margin-right: 0.25em;color: #696969;}#sk-container-id-1 label.sk-toggleable__label-arrow:hover:before {color: black;}#sk-container-id-1 div.sk-estimator:hover label.sk-toggleable__label-arrow:before {color: black;}#sk-container-id-1 div.sk-toggleable__content {max-height: 0;max-width: 0;overflow: hidden;text-align: left;background-color: #f0f8ff;}#sk-container-id-1 div.sk-toggleable__content pre {margin: 0.2em;color: black;border-radius: 0.25em;background-color: #f0f8ff;}#sk-container-id-1 input.sk-toggleable__control:checked~div.sk-toggleable__content {max-height: 200px;max-width: 100%;overflow: auto;}#sk-container-id-1 input.sk-toggleable__control:checked~label.sk-toggleable__label-arrow:before {content: \"▾\";}#sk-container-id-1 div.sk-estimator input.sk-toggleable__control:checked~label.sk-toggleable__label {background-color: #d4ebff;}#sk-container-id-1 div.sk-label input.sk-toggleable__control:checked~label.sk-toggleable__label {background-color: #d4ebff;}#sk-container-id-1 input.sk-hidden--visually {border: 0;clip: rect(1px 1px 1px 1px);clip: rect(1px, 1px, 1px, 1px);height: 1px;margin: -1px;overflow: hidden;padding: 0;position: absolute;width: 1px;}#sk-container-id-1 div.sk-estimator {font-family: monospace;background-color: #f0f8ff;border: 1px dotted black;border-radius: 0.25em;box-sizing: border-box;margin-bottom: 0.5em;}#sk-container-id-1 div.sk-estimator:hover {background-color: #d4ebff;}#sk-container-id-1 div.sk-parallel-item::after {content: \"\";width: 100%;border-bottom: 1px solid gray;flex-grow: 1;}#sk-container-id-1 div.sk-label:hover label.sk-toggleable__label {background-color: #d4ebff;}#sk-container-id-1 div.sk-serial::before {content: \"\";position: absolute;border-left: 1px solid gray;box-sizing: border-box;top: 0;bottom: 0;left: 50%;z-index: 0;}#sk-container-id-1 div.sk-serial {display: flex;flex-direction: column;align-items: center;background-color: white;padding-right: 0.2em;padding-left: 0.2em;position: relative;}#sk-container-id-1 div.sk-item {position: relative;z-index: 1;}#sk-container-id-1 div.sk-parallel {display: flex;align-items: stretch;justify-content: center;background-color: white;position: relative;}#sk-container-id-1 div.sk-item::before, #sk-container-id-1 div.sk-parallel-item::before {content: \"\";position: absolute;border-left: 1px solid gray;box-sizing: border-box;top: 0;bottom: 0;left: 50%;z-index: -1;}#sk-container-id-1 div.sk-parallel-item {display: flex;flex-direction: column;z-index: 1;position: relative;background-color: white;}#sk-container-id-1 div.sk-parallel-item:first-child::after {align-self: flex-end;width: 50%;}#sk-container-id-1 div.sk-parallel-item:last-child::after {align-self: flex-start;width: 50%;}#sk-container-id-1 div.sk-parallel-item:only-child::after {width: 0;}#sk-container-id-1 div.sk-dashed-wrapped {border: 1px dashed gray;margin: 0 0.4em 0.5em 0.4em;box-sizing: border-box;padding-bottom: 0.4em;background-color: white;}#sk-container-id-1 div.sk-label label {font-family: monospace;font-weight: bold;display: inline-block;line-height: 1.2em;}#sk-container-id-1 div.sk-label-container {text-align: center;}#sk-container-id-1 div.sk-container {/* jupyter's `normalize.less` sets `[hidden] { display: none; }` but bootstrap.min.css set `[hidden] { display: none !important; }` so we also need the `!important` here to be able to override the default hidden behavior on the sphinx rendered scikit-learn.org. See: https://github.com/scikit-learn/scikit-learn/issues/21755 */display: inline-block !important;position: relative;}#sk-container-id-1 div.sk-text-repr-fallback {display: none;}</style><div id=\"sk-container-id-1\" class=\"sk-top-container\"><div class=\"sk-text-repr-fallback\"><pre>LogisticRegression()</pre><b>In a Jupyter environment, please rerun this cell to show the HTML representation or trust the notebook. <br />On GitHub, the HTML representation is unable to render, please try loading this page with nbviewer.org.</b></div><div class=\"sk-container\" hidden><div class=\"sk-item\"><div class=\"sk-estimator sk-toggleable\"><input class=\"sk-toggleable__control sk-hidden--visually\" id=\"sk-estimator-id-1\" type=\"checkbox\" checked><label for=\"sk-estimator-id-1\" class=\"sk-toggleable__label sk-toggleable__label-arrow\">LogisticRegression</label><div class=\"sk-toggleable__content\"><pre>LogisticRegression()</pre></div></div></div></div></div>"
      ],
      "text/plain": [
       "LogisticRegression()"
      ]
     },
     "execution_count": 8,
     "metadata": {},
     "output_type": "execute_result"
    }
   ],
   "source": [
    "# Crear el modelo de regresión logística\n",
    "model = LogisticRegression()\n",
    "\n",
    "# Entrenar el modelo en el conjunto de entrenamiento\n",
    "model.fit(train_data[features], train_data[target])"
   ]
  },
  {
   "cell_type": "code",
   "execution_count": 9,
   "metadata": {},
   "outputs": [],
   "source": [
    "# Evaluar el modelo en el conjunto de prueba\n",
    "probabilities = model.predict_proba(test_data[features])[:, 1]\n",
    "roc_auc = roc_auc_score(test_data[target], probabilities)"
   ]
  },
  {
   "cell_type": "code",
   "execution_count": 10,
   "metadata": {},
   "outputs": [],
   "source": [
    "# Calcular las métricas de KS y Gini\n",
    "fpr, tpr, _ = roc_curve(test_data[target], probabilities)\n",
    "ks = max(tpr - fpr)\n",
    "gini = 2 * roc_auc - 1"
   ]
  },
  {
   "cell_type": "code",
   "execution_count": 11,
   "metadata": {},
   "outputs": [
    {
     "name": "stdout",
     "output_type": "stream",
     "text": [
      "AUC-ROC: 0.6037157033901224\n",
      "KS: 0.167307320407228\n",
      "Gini: 0.20743140678024474\n"
     ]
    }
   ],
   "source": [
    "# Imprimir métricas\n",
    "print(\"AUC-ROC:\", roc_auc)\n",
    "print(\"KS:\", ks)\n",
    "print(\"Gini:\", gini)"
   ]
  },
  {
   "cell_type": "code",
   "execution_count": 12,
   "metadata": {},
   "outputs": [],
   "source": [
    "# Calcular el score para cada cliente\n",
    "train_data['score'] = np.round(model.predict_proba(train_data[features])[:, 1]*1000)"
   ]
  },
  {
   "cell_type": "markdown",
   "metadata": {},
   "source": [
    "### Tabla resumen distribuciones"
   ]
  },
  {
   "cell_type": "code",
   "execution_count": 13,
   "metadata": {},
   "outputs": [],
   "source": [
    "# Dividir los datos en deciles naturales según el 'score'\n",
    "train_data['decil'] = pd.qcut(train_data['score'], q=10, labels=False)"
   ]
  },
  {
   "cell_type": "code",
   "execution_count": 14,
   "metadata": {},
   "outputs": [
    {
     "data": {
      "text/html": [
       "<div>\n",
       "<style scoped>\n",
       "    .dataframe tbody tr th:only-of-type {\n",
       "        vertical-align: middle;\n",
       "    }\n",
       "\n",
       "    .dataframe tbody tr th {\n",
       "        vertical-align: top;\n",
       "    }\n",
       "\n",
       "    .dataframe thead tr th {\n",
       "        text-align: left;\n",
       "    }\n",
       "\n",
       "    .dataframe thead tr:last-of-type th {\n",
       "        text-align: right;\n",
       "    }\n",
       "</style>\n",
       "<table border=\"1\" class=\"dataframe\">\n",
       "  <thead>\n",
       "    <tr>\n",
       "      <th></th>\n",
       "      <th colspan=\"2\" halign=\"left\">score</th>\n",
       "      <th colspan=\"2\" halign=\"left\">resultado_del_riesgo</th>\n",
       "    </tr>\n",
       "    <tr>\n",
       "      <th></th>\n",
       "      <th>min</th>\n",
       "      <th>max</th>\n",
       "      <th>sum</th>\n",
       "      <th>&lt;lambda_0&gt;</th>\n",
       "    </tr>\n",
       "    <tr>\n",
       "      <th>decil</th>\n",
       "      <th></th>\n",
       "      <th></th>\n",
       "      <th></th>\n",
       "      <th></th>\n",
       "    </tr>\n",
       "  </thead>\n",
       "  <tbody>\n",
       "    <tr>\n",
       "      <th>0</th>\n",
       "      <td>697.0</td>\n",
       "      <td>829.0</td>\n",
       "      <td>645</td>\n",
       "      <td>175</td>\n",
       "    </tr>\n",
       "    <tr>\n",
       "      <th>1</th>\n",
       "      <td>830.0</td>\n",
       "      <td>850.0</td>\n",
       "      <td>654</td>\n",
       "      <td>127</td>\n",
       "    </tr>\n",
       "    <tr>\n",
       "      <th>2</th>\n",
       "      <td>851.0</td>\n",
       "      <td>866.0</td>\n",
       "      <td>704</td>\n",
       "      <td>107</td>\n",
       "    </tr>\n",
       "    <tr>\n",
       "      <th>3</th>\n",
       "      <td>867.0</td>\n",
       "      <td>879.0</td>\n",
       "      <td>691</td>\n",
       "      <td>100</td>\n",
       "    </tr>\n",
       "    <tr>\n",
       "      <th>4</th>\n",
       "      <td>880.0</td>\n",
       "      <td>891.0</td>\n",
       "      <td>715</td>\n",
       "      <td>89</td>\n",
       "    </tr>\n",
       "  </tbody>\n",
       "</table>\n",
       "</div>"
      ],
      "text/plain": [
       "       score        resultado_del_riesgo           \n",
       "         min    max                  sum <lambda_0>\n",
       "decil                                              \n",
       "0      697.0  829.0                  645        175\n",
       "1      830.0  850.0                  654        127\n",
       "2      851.0  866.0                  704        107\n",
       "3      867.0  879.0                  691        100\n",
       "4      880.0  891.0                  715         89"
      ]
     },
     "execution_count": 14,
     "metadata": {},
     "output_type": "execute_result"
    }
   ],
   "source": [
    "# Calcular las métricas por decil\n",
    "summary_table = train_data.groupby('decil').agg({\n",
    "    'score': ['min', 'max'],\n",
    "    'resultado_del_riesgo': ['sum', lambda x: len(x) - sum(x)],\n",
    "})\n",
    "summary_table.head()"
   ]
  },
  {
   "cell_type": "code",
   "execution_count": 15,
   "metadata": {},
   "outputs": [
    {
     "data": {
      "text/html": [
       "<div>\n",
       "<style scoped>\n",
       "    .dataframe tbody tr th:only-of-type {\n",
       "        vertical-align: middle;\n",
       "    }\n",
       "\n",
       "    .dataframe tbody tr th {\n",
       "        vertical-align: top;\n",
       "    }\n",
       "\n",
       "    .dataframe thead th {\n",
       "        text-align: right;\n",
       "    }\n",
       "</style>\n",
       "<table border=\"1\" class=\"dataframe\">\n",
       "  <thead>\n",
       "    <tr style=\"text-align: right;\">\n",
       "      <th></th>\n",
       "      <th>Min Probabilidad</th>\n",
       "      <th>Max Probabilidad</th>\n",
       "      <th>Eventos</th>\n",
       "      <th>No Eventos</th>\n",
       "    </tr>\n",
       "    <tr>\n",
       "      <th>decil</th>\n",
       "      <th></th>\n",
       "      <th></th>\n",
       "      <th></th>\n",
       "      <th></th>\n",
       "    </tr>\n",
       "  </thead>\n",
       "  <tbody>\n",
       "    <tr>\n",
       "      <th>0</th>\n",
       "      <td>697.0</td>\n",
       "      <td>829.0</td>\n",
       "      <td>645</td>\n",
       "      <td>175</td>\n",
       "    </tr>\n",
       "    <tr>\n",
       "      <th>1</th>\n",
       "      <td>830.0</td>\n",
       "      <td>850.0</td>\n",
       "      <td>654</td>\n",
       "      <td>127</td>\n",
       "    </tr>\n",
       "    <tr>\n",
       "      <th>2</th>\n",
       "      <td>851.0</td>\n",
       "      <td>866.0</td>\n",
       "      <td>704</td>\n",
       "      <td>107</td>\n",
       "    </tr>\n",
       "    <tr>\n",
       "      <th>3</th>\n",
       "      <td>867.0</td>\n",
       "      <td>879.0</td>\n",
       "      <td>691</td>\n",
       "      <td>100</td>\n",
       "    </tr>\n",
       "    <tr>\n",
       "      <th>4</th>\n",
       "      <td>880.0</td>\n",
       "      <td>891.0</td>\n",
       "      <td>715</td>\n",
       "      <td>89</td>\n",
       "    </tr>\n",
       "  </tbody>\n",
       "</table>\n",
       "</div>"
      ],
      "text/plain": [
       "       Min Probabilidad  Max Probabilidad  Eventos  No Eventos\n",
       "decil                                                         \n",
       "0                 697.0             829.0      645         175\n",
       "1                 830.0             850.0      654         127\n",
       "2                 851.0             866.0      704         107\n",
       "3                 867.0             879.0      691         100\n",
       "4                 880.0             891.0      715          89"
      ]
     },
     "execution_count": 15,
     "metadata": {},
     "output_type": "execute_result"
    }
   ],
   "source": [
    "# Renombrar columnas\n",
    "summary_table.columns = ['Min Probabilidad', 'Max Probabilidad', 'Eventos', 'No Eventos']\n",
    "summary_table.head()"
   ]
  },
  {
   "cell_type": "code",
   "execution_count": 16,
   "metadata": {},
   "outputs": [
    {
     "data": {
      "text/plain": [
       "897"
      ]
     },
     "execution_count": 16,
     "metadata": {},
     "output_type": "execute_result"
    }
   ],
   "source": [
    "summary_table['No Eventos'].sum()"
   ]
  },
  {
   "cell_type": "code",
   "execution_count": 17,
   "metadata": {},
   "outputs": [
    {
     "data": {
      "text/html": [
       "<style type=\"text/css\">\n",
       "#T_e3686_row0_col5, #T_e3686_row1_col5, #T_e3686_row2_col5, #T_e3686_row3_col5, #T_e3686_row4_col5, #T_e3686_row5_col5 {\n",
       "  background-color: rgb(0, 255, 0);\n",
       "  font-weight: normal;\n",
       "  color: black;\n",
       "}\n",
       "#T_e3686_row5_col10 {\n",
       "  background-color: lightgreen;\n",
       "  font-weight: bold;\n",
       "  color: black;\n",
       "}\n",
       "#T_e3686_row6_col5, #T_e3686_row7_col5 {\n",
       "  background-color: rgb(255, 255, 0);\n",
       "  font-weight: normal;\n",
       "  color: black;\n",
       "}\n",
       "#T_e3686_row8_col5, #T_e3686_row9_col5 {\n",
       "  background-color: rgb(255, 0, 0);\n",
       "  font-weight: normal;\n",
       "  color: black;\n",
       "}\n",
       "</style>\n",
       "<table id=\"T_e3686\">\n",
       "  <thead>\n",
       "    <tr>\n",
       "      <th class=\"blank level0\" >&nbsp;</th>\n",
       "      <th id=\"T_e3686_level0_col0\" class=\"col_heading level0 col0\" >Min_score</th>\n",
       "      <th id=\"T_e3686_level0_col1\" class=\"col_heading level0 col1\" >Max_score</th>\n",
       "      <th id=\"T_e3686_level0_col2\" class=\"col_heading level0 col2\" >Eventos</th>\n",
       "      <th id=\"T_e3686_level0_col3\" class=\"col_heading level0 col3\" >No_Eventos</th>\n",
       "      <th id=\"T_e3686_level0_col4\" class=\"col_heading level0 col4\" >Event_Rate</th>\n",
       "      <th id=\"T_e3686_level0_col5\" class=\"col_heading level0 col5\" >NoEvent_Rate</th>\n",
       "      <th id=\"T_e3686_level0_col6\" class=\"col_heading level0 col6\" >Event_dist</th>\n",
       "      <th id=\"T_e3686_level0_col7\" class=\"col_heading level0 col7\" >NoEvent_dist</th>\n",
       "      <th id=\"T_e3686_level0_col8\" class=\"col_heading level0 col8\" >Cumulative_Event_Rate</th>\n",
       "      <th id=\"T_e3686_level0_col9\" class=\"col_heading level0 col9\" >Cumulative_NoEvent_Rate</th>\n",
       "      <th id=\"T_e3686_level0_col10\" class=\"col_heading level0 col10\" >KS</th>\n",
       "      <th id=\"T_e3686_level0_col11\" class=\"col_heading level0 col11\" >Odds</th>\n",
       "    </tr>\n",
       "    <tr>\n",
       "      <th class=\"index_name level0\" >decil</th>\n",
       "      <th class=\"blank col0\" >&nbsp;</th>\n",
       "      <th class=\"blank col1\" >&nbsp;</th>\n",
       "      <th class=\"blank col2\" >&nbsp;</th>\n",
       "      <th class=\"blank col3\" >&nbsp;</th>\n",
       "      <th class=\"blank col4\" >&nbsp;</th>\n",
       "      <th class=\"blank col5\" >&nbsp;</th>\n",
       "      <th class=\"blank col6\" >&nbsp;</th>\n",
       "      <th class=\"blank col7\" >&nbsp;</th>\n",
       "      <th class=\"blank col8\" >&nbsp;</th>\n",
       "      <th class=\"blank col9\" >&nbsp;</th>\n",
       "      <th class=\"blank col10\" >&nbsp;</th>\n",
       "      <th class=\"blank col11\" >&nbsp;</th>\n",
       "    </tr>\n",
       "  </thead>\n",
       "  <tbody>\n",
       "    <tr>\n",
       "      <th id=\"T_e3686_level0_row0\" class=\"row_heading level0 row0\" >9</th>\n",
       "      <td id=\"T_e3686_row0_col0\" class=\"data row0 col0\" >944</td>\n",
       "      <td id=\"T_e3686_row0_col1\" class=\"data row0 col1\" >998</td>\n",
       "      <td id=\"T_e3686_row0_col2\" class=\"data row0 col2\" >752</td>\n",
       "      <td id=\"T_e3686_row0_col3\" class=\"data row0 col3\" >34</td>\n",
       "      <td id=\"T_e3686_row0_col4\" class=\"data row0 col4\" >95.67%</td>\n",
       "      <td id=\"T_e3686_row0_col5\" class=\"data row0 col5\" >4.33%</td>\n",
       "      <td id=\"T_e3686_row0_col6\" class=\"data row0 col6\" >11.00%</td>\n",
       "      <td id=\"T_e3686_row0_col7\" class=\"data row0 col7\" >4.00%</td>\n",
       "      <td id=\"T_e3686_row0_col8\" class=\"data row0 col8\" >10.59%</td>\n",
       "      <td id=\"T_e3686_row0_col9\" class=\"data row0 col9\" >3.79%</td>\n",
       "      <td id=\"T_e3686_row0_col10\" class=\"data row0 col10\" >6.80%</td>\n",
       "      <td id=\"T_e3686_row0_col11\" class=\"data row0 col11\" >22.1176</td>\n",
       "    </tr>\n",
       "    <tr>\n",
       "      <th id=\"T_e3686_level0_row1\" class=\"row_heading level0 row1\" >8</th>\n",
       "      <td id=\"T_e3686_row1_col0\" class=\"data row1 col0\" >928</td>\n",
       "      <td id=\"T_e3686_row1_col1\" class=\"data row1 col1\" >943</td>\n",
       "      <td id=\"T_e3686_row1_col2\" class=\"data row1 col2\" >727</td>\n",
       "      <td id=\"T_e3686_row1_col3\" class=\"data row1 col3\" >52</td>\n",
       "      <td id=\"T_e3686_row1_col4\" class=\"data row1 col4\" >93.32%</td>\n",
       "      <td id=\"T_e3686_row1_col5\" class=\"data row1 col5\" >6.68%</td>\n",
       "      <td id=\"T_e3686_row1_col6\" class=\"data row1 col6\" >10.00%</td>\n",
       "      <td id=\"T_e3686_row1_col7\" class=\"data row1 col7\" >6.00%</td>\n",
       "      <td id=\"T_e3686_row1_col8\" class=\"data row1 col8\" >20.82%</td>\n",
       "      <td id=\"T_e3686_row1_col9\" class=\"data row1 col9\" >9.59%</td>\n",
       "      <td id=\"T_e3686_row1_col10\" class=\"data row1 col10\" >11.23%</td>\n",
       "      <td id=\"T_e3686_row1_col11\" class=\"data row1 col11\" >13.9808</td>\n",
       "    </tr>\n",
       "    <tr>\n",
       "      <th id=\"T_e3686_level0_row2\" class=\"row_heading level0 row2\" >7</th>\n",
       "      <td id=\"T_e3686_row2_col0\" class=\"data row2 col0\" >915</td>\n",
       "      <td id=\"T_e3686_row2_col1\" class=\"data row2 col1\" >927</td>\n",
       "      <td id=\"T_e3686_row2_col2\" class=\"data row2 col2\" >733</td>\n",
       "      <td id=\"T_e3686_row2_col3\" class=\"data row2 col3\" >57</td>\n",
       "      <td id=\"T_e3686_row2_col4\" class=\"data row2 col4\" >92.78%</td>\n",
       "      <td id=\"T_e3686_row2_col5\" class=\"data row2 col5\" >7.22%</td>\n",
       "      <td id=\"T_e3686_row2_col6\" class=\"data row2 col6\" >10.00%</td>\n",
       "      <td id=\"T_e3686_row2_col7\" class=\"data row2 col7\" >6.00%</td>\n",
       "      <td id=\"T_e3686_row2_col8\" class=\"data row2 col8\" >31.14%</td>\n",
       "      <td id=\"T_e3686_row2_col9\" class=\"data row2 col9\" >15.94%</td>\n",
       "      <td id=\"T_e3686_row2_col10\" class=\"data row2 col10\" >15.20%</td>\n",
       "      <td id=\"T_e3686_row2_col11\" class=\"data row2 col11\" >12.8596</td>\n",
       "    </tr>\n",
       "    <tr>\n",
       "      <th id=\"T_e3686_level0_row3\" class=\"row_heading level0 row3\" >6</th>\n",
       "      <td id=\"T_e3686_row3_col0\" class=\"data row3 col0\" >903</td>\n",
       "      <td id=\"T_e3686_row3_col1\" class=\"data row3 col1\" >914</td>\n",
       "      <td id=\"T_e3686_row3_col2\" class=\"data row3 col2\" >764</td>\n",
       "      <td id=\"T_e3686_row3_col3\" class=\"data row3 col3\" >77</td>\n",
       "      <td id=\"T_e3686_row3_col4\" class=\"data row3 col4\" >90.84%</td>\n",
       "      <td id=\"T_e3686_row3_col5\" class=\"data row3 col5\" >9.16%</td>\n",
       "      <td id=\"T_e3686_row3_col6\" class=\"data row3 col6\" >11.00%</td>\n",
       "      <td id=\"T_e3686_row3_col7\" class=\"data row3 col7\" >9.00%</td>\n",
       "      <td id=\"T_e3686_row3_col8\" class=\"data row3 col8\" >41.90%</td>\n",
       "      <td id=\"T_e3686_row3_col9\" class=\"data row3 col9\" >24.53%</td>\n",
       "      <td id=\"T_e3686_row3_col10\" class=\"data row3 col10\" >17.37%</td>\n",
       "      <td id=\"T_e3686_row3_col11\" class=\"data row3 col11\" >9.9221</td>\n",
       "    </tr>\n",
       "    <tr>\n",
       "      <th id=\"T_e3686_level0_row4\" class=\"row_heading level0 row4\" >5</th>\n",
       "      <td id=\"T_e3686_row4_col0\" class=\"data row4 col0\" >892</td>\n",
       "      <td id=\"T_e3686_row4_col1\" class=\"data row4 col1\" >902</td>\n",
       "      <td id=\"T_e3686_row4_col2\" class=\"data row4 col2\" >718</td>\n",
       "      <td id=\"T_e3686_row4_col3\" class=\"data row4 col3\" >79</td>\n",
       "      <td id=\"T_e3686_row4_col4\" class=\"data row4 col4\" >90.09%</td>\n",
       "      <td id=\"T_e3686_row4_col5\" class=\"data row4 col5\" >9.91%</td>\n",
       "      <td id=\"T_e3686_row4_col6\" class=\"data row4 col6\" >10.00%</td>\n",
       "      <td id=\"T_e3686_row4_col7\" class=\"data row4 col7\" >9.00%</td>\n",
       "      <td id=\"T_e3686_row4_col8\" class=\"data row4 col8\" >52.01%</td>\n",
       "      <td id=\"T_e3686_row4_col9\" class=\"data row4 col9\" >33.33%</td>\n",
       "      <td id=\"T_e3686_row4_col10\" class=\"data row4 col10\" >18.67%</td>\n",
       "      <td id=\"T_e3686_row4_col11\" class=\"data row4 col11\" >9.0886</td>\n",
       "    </tr>\n",
       "    <tr>\n",
       "      <th id=\"T_e3686_level0_row5\" class=\"row_heading level0 row5\" >4</th>\n",
       "      <td id=\"T_e3686_row5_col0\" class=\"data row5 col0\" >880</td>\n",
       "      <td id=\"T_e3686_row5_col1\" class=\"data row5 col1\" >891</td>\n",
       "      <td id=\"T_e3686_row5_col2\" class=\"data row5 col2\" >715</td>\n",
       "      <td id=\"T_e3686_row5_col3\" class=\"data row5 col3\" >89</td>\n",
       "      <td id=\"T_e3686_row5_col4\" class=\"data row5 col4\" >88.93%</td>\n",
       "      <td id=\"T_e3686_row5_col5\" class=\"data row5 col5\" >11.07%</td>\n",
       "      <td id=\"T_e3686_row5_col6\" class=\"data row5 col6\" >10.00%</td>\n",
       "      <td id=\"T_e3686_row5_col7\" class=\"data row5 col7\" >10.00%</td>\n",
       "      <td id=\"T_e3686_row5_col8\" class=\"data row5 col8\" >62.07%</td>\n",
       "      <td id=\"T_e3686_row5_col9\" class=\"data row5 col9\" >43.26%</td>\n",
       "      <td id=\"T_e3686_row5_col10\" class=\"data row5 col10\" >18.82%</td>\n",
       "      <td id=\"T_e3686_row5_col11\" class=\"data row5 col11\" >8.0337</td>\n",
       "    </tr>\n",
       "    <tr>\n",
       "      <th id=\"T_e3686_level0_row6\" class=\"row_heading level0 row6\" >3</th>\n",
       "      <td id=\"T_e3686_row6_col0\" class=\"data row6 col0\" >867</td>\n",
       "      <td id=\"T_e3686_row6_col1\" class=\"data row6 col1\" >879</td>\n",
       "      <td id=\"T_e3686_row6_col2\" class=\"data row6 col2\" >691</td>\n",
       "      <td id=\"T_e3686_row6_col3\" class=\"data row6 col3\" >100</td>\n",
       "      <td id=\"T_e3686_row6_col4\" class=\"data row6 col4\" >87.36%</td>\n",
       "      <td id=\"T_e3686_row6_col5\" class=\"data row6 col5\" >12.64%</td>\n",
       "      <td id=\"T_e3686_row6_col6\" class=\"data row6 col6\" >10.00%</td>\n",
       "      <td id=\"T_e3686_row6_col7\" class=\"data row6 col7\" >11.00%</td>\n",
       "      <td id=\"T_e3686_row6_col8\" class=\"data row6 col8\" >71.80%</td>\n",
       "      <td id=\"T_e3686_row6_col9\" class=\"data row6 col9\" >54.40%</td>\n",
       "      <td id=\"T_e3686_row6_col10\" class=\"data row6 col10\" >17.40%</td>\n",
       "      <td id=\"T_e3686_row6_col11\" class=\"data row6 col11\" >6.9100</td>\n",
       "    </tr>\n",
       "    <tr>\n",
       "      <th id=\"T_e3686_level0_row7\" class=\"row_heading level0 row7\" >2</th>\n",
       "      <td id=\"T_e3686_row7_col0\" class=\"data row7 col0\" >851</td>\n",
       "      <td id=\"T_e3686_row7_col1\" class=\"data row7 col1\" >866</td>\n",
       "      <td id=\"T_e3686_row7_col2\" class=\"data row7 col2\" >704</td>\n",
       "      <td id=\"T_e3686_row7_col3\" class=\"data row7 col3\" >107</td>\n",
       "      <td id=\"T_e3686_row7_col4\" class=\"data row7 col4\" >86.81%</td>\n",
       "      <td id=\"T_e3686_row7_col5\" class=\"data row7 col5\" >13.19%</td>\n",
       "      <td id=\"T_e3686_row7_col6\" class=\"data row7 col6\" >10.00%</td>\n",
       "      <td id=\"T_e3686_row7_col7\" class=\"data row7 col7\" >12.00%</td>\n",
       "      <td id=\"T_e3686_row7_col8\" class=\"data row7 col8\" >81.71%</td>\n",
       "      <td id=\"T_e3686_row7_col9\" class=\"data row7 col9\" >66.33%</td>\n",
       "      <td id=\"T_e3686_row7_col10\" class=\"data row7 col10\" >15.38%</td>\n",
       "      <td id=\"T_e3686_row7_col11\" class=\"data row7 col11\" >6.5794</td>\n",
       "    </tr>\n",
       "    <tr>\n",
       "      <th id=\"T_e3686_level0_row8\" class=\"row_heading level0 row8\" >1</th>\n",
       "      <td id=\"T_e3686_row8_col0\" class=\"data row8 col0\" >830</td>\n",
       "      <td id=\"T_e3686_row8_col1\" class=\"data row8 col1\" >850</td>\n",
       "      <td id=\"T_e3686_row8_col2\" class=\"data row8 col2\" >654</td>\n",
       "      <td id=\"T_e3686_row8_col3\" class=\"data row8 col3\" >127</td>\n",
       "      <td id=\"T_e3686_row8_col4\" class=\"data row8 col4\" >83.74%</td>\n",
       "      <td id=\"T_e3686_row8_col5\" class=\"data row8 col5\" >16.26%</td>\n",
       "      <td id=\"T_e3686_row8_col6\" class=\"data row8 col6\" >9.00%</td>\n",
       "      <td id=\"T_e3686_row8_col7\" class=\"data row8 col7\" >14.00%</td>\n",
       "      <td id=\"T_e3686_row8_col8\" class=\"data row8 col8\" >90.92%</td>\n",
       "      <td id=\"T_e3686_row8_col9\" class=\"data row8 col9\" >80.49%</td>\n",
       "      <td id=\"T_e3686_row8_col10\" class=\"data row8 col10\" >10.43%</td>\n",
       "      <td id=\"T_e3686_row8_col11\" class=\"data row8 col11\" >5.1496</td>\n",
       "    </tr>\n",
       "    <tr>\n",
       "      <th id=\"T_e3686_level0_row9\" class=\"row_heading level0 row9\" >0</th>\n",
       "      <td id=\"T_e3686_row9_col0\" class=\"data row9 col0\" >697</td>\n",
       "      <td id=\"T_e3686_row9_col1\" class=\"data row9 col1\" >829</td>\n",
       "      <td id=\"T_e3686_row9_col2\" class=\"data row9 col2\" >645</td>\n",
       "      <td id=\"T_e3686_row9_col3\" class=\"data row9 col3\" >175</td>\n",
       "      <td id=\"T_e3686_row9_col4\" class=\"data row9 col4\" >78.66%</td>\n",
       "      <td id=\"T_e3686_row9_col5\" class=\"data row9 col5\" >21.34%</td>\n",
       "      <td id=\"T_e3686_row9_col6\" class=\"data row9 col6\" >9.00%</td>\n",
       "      <td id=\"T_e3686_row9_col7\" class=\"data row9 col7\" >20.00%</td>\n",
       "      <td id=\"T_e3686_row9_col8\" class=\"data row9 col8\" >100.00%</td>\n",
       "      <td id=\"T_e3686_row9_col9\" class=\"data row9 col9\" >100.00%</td>\n",
       "      <td id=\"T_e3686_row9_col10\" class=\"data row9 col10\" >0.00%</td>\n",
       "      <td id=\"T_e3686_row9_col11\" class=\"data row9 col11\" >3.6857</td>\n",
       "    </tr>\n",
       "  </tbody>\n",
       "</table>\n"
      ],
      "text/plain": [
       "<pandas.io.formats.style.Styler at 0x7fd95fa1a550>"
      ]
     },
     "execution_count": 17,
     "metadata": {},
     "output_type": "execute_result"
    }
   ],
   "source": [
    "# Dividir los datos en deciles naturales según el 'score'\n",
    "train_data['decil'] = pd.qcut(train_data['score'], q=10, labels=False)\n",
    "\n",
    "# Calcular las métricas por decil\n",
    "summary_table = train_data.groupby('decil').agg({\n",
    "    'score': ['min', 'max'],\n",
    "    'resultado_del_riesgo': ['sum', lambda x: len(x) - sum(x)],\n",
    "})\n",
    "\n",
    "# Renombrar columnas\n",
    "summary_table.columns = ['Min_score', 'Max_score', 'Eventos', 'No_Eventos']\n",
    "\n",
    "# Calcular tasas y acumulados\n",
    "summary_table['Event_Rate'] = summary_table['Eventos'] / (summary_table['Eventos'] + summary_table['No_Eventos'])\n",
    "summary_table['NoEvent_Rate'] = 1 - summary_table['Event_Rate']\n",
    "summary_table = summary_table.sort_values(by='decil', ascending=False)\n",
    "summary_table['Event_dist'] = round(summary_table['Eventos']/summary_table['Eventos'].sum(),2)\n",
    "summary_table['NoEvent_dist'] = round(summary_table['No_Eventos']/summary_table['No_Eventos'].sum(),2)\n",
    "summary_table['Cumulative_Event_Rate'] = (summary_table['Eventos'].cumsum() / summary_table['Eventos'].sum())\n",
    "summary_table['Cumulative_NoEvent_Rate'] = (summary_table['No_Eventos'].cumsum() / summary_table['No_Eventos'].sum())\n",
    "\n",
    "# Calcular el KS\n",
    "summary_table['KS'] = np.abs(summary_table['Cumulative_Event_Rate'] - summary_table['Cumulative_NoEvent_Rate'])\n",
    "\n",
    "# Calcular la columna Odds\n",
    "summary_table['Odds'] = summary_table['Eventos'] / summary_table['No_Eventos']\n",
    "\n",
    "# Encontrar el índice del máximo KS\n",
    "max_ks_index = summary_table['KS'].idxmax()\n",
    "\n",
    "# Crear la función de formato para colores escalados\n",
    "def format_color(value, min_value, max_value):\n",
    "    normalized_value = (value - min_value) / (max_value - min_value)\n",
    "    \n",
    "    if normalized_value > 0.6:\n",
    "        red = 255\n",
    "        green = 0\n",
    "    elif 0.4 <= normalized_value <= 0.6:\n",
    "        red = 255\n",
    "        green = 255\n",
    "    else:\n",
    "        red = 0\n",
    "        green = 255\n",
    "        \n",
    "    blue = 0\n",
    "    return f'background-color: rgb({red}, {green}, {blue}); font-weight: normal; color: black'\n",
    "\n",
    "min_ne_rate = summary_table['NoEvent_Rate'].min()\n",
    "max_ne_rate = summary_table['NoEvent_Rate'].max()\n",
    "\n",
    "# Crear la función de formato para porcentaje con dos decimales\n",
    "def format_percent(value):\n",
    "    return f'{value:.2%}'\n",
    "\n",
    "# Crear la función de formato para valores enteros multiplicados por 1000\n",
    "def format_int_thousands(value):\n",
    "    return f'{int(value * 1):,.0f}'\n",
    "\n",
    "# Crear la función de formato para valores con  dos decimales\n",
    "def format_decimal(value):\n",
    "    return f'{int(value * 100):.2f}'\n",
    "\n",
    "# Crear la función de formato para valores con  dos decimales\n",
    "def format_decimal_ks(value):\n",
    "    return f'{value:.4f}'\n",
    "\n",
    "# Aplicar el formato al DataFrame para las columnas \"No Event Rate\"\n",
    "formatted_table = summary_table.style.applymap(lambda x: format_color(x, min_ne_rate, max_ne_rate), \n",
    "                                               subset=['NoEvent_Rate'])\n",
    "\n",
    "# Formato de columnas específicas\n",
    "formatted_table = formatted_table.format({\n",
    "    'Min_score': format_int_thousands,  # Sin decimales y multiplicado por 1000\n",
    "    'Max_score': format_int_thousands,  # Sin decimales y multiplicado por 1000\n",
    "    'Event_Rate': format_percent,\n",
    "    'NoEvent_Rate': format_percent,\n",
    "    'Event_dist': format_percent,\n",
    "    'NoEvent_dist': format_percent,\n",
    "    'Cumulative_Event_Rate': format_percent,\n",
    "    'Cumulative_NoEvent_Rate': format_percent,\n",
    "    'KS': format_percent,\n",
    "    'Odds': format_decimal_ks\n",
    "    })\n",
    "\n",
    "# Crear la función de formato para resaltar el máximo KS en verde\n",
    "def highlight_max_ks(s):\n",
    "    max_index = s.idxmax()\n",
    "    color_styles = ['background-color: lightgreen; font-weight: bold; color: black' if idx == max_index else '' for idx in s.index]\n",
    "    return color_styles\n",
    "\n",
    "\n",
    "# Resaltar el máximo KS en verde\n",
    "formatted_table = formatted_table.apply(highlight_max_ks, subset=['KS'])\n",
    "\n",
    "formatted_table"
   ]
  },
  {
   "cell_type": "code",
   "execution_count": 18,
   "metadata": {},
   "outputs": [
    {
     "name": "stderr",
     "output_type": "stream",
     "text": [
      "/var/folders/85/fyhzlfc91059h2z9kql42yl80000gn/T/ipykernel_10257/3867340810.py:1: CSSWarning: Unhandled color format: 'rgb(0, 255, 0)'\n",
      "  formatted_table.to_excel('/Users/michael/Documents/Python/ProyestosPersonales/Modelos/statistical_models/xgboots/01 - Credit_risk_model/REPORTS/Performance.xlsx')\n",
      "/var/folders/85/fyhzlfc91059h2z9kql42yl80000gn/T/ipykernel_10257/3867340810.py:1: CSSWarning: Unhandled color format: 'rgb(255, 255, 0)'\n",
      "  formatted_table.to_excel('/Users/michael/Documents/Python/ProyestosPersonales/Modelos/statistical_models/xgboots/01 - Credit_risk_model/REPORTS/Performance.xlsx')\n",
      "/var/folders/85/fyhzlfc91059h2z9kql42yl80000gn/T/ipykernel_10257/3867340810.py:1: CSSWarning: Unhandled color format: 'rgb(255, 0, 0)'\n",
      "  formatted_table.to_excel('/Users/michael/Documents/Python/ProyestosPersonales/Modelos/statistical_models/xgboots/01 - Credit_risk_model/REPORTS/Performance.xlsx')\n"
     ]
    }
   ],
   "source": [
    "formatted_table.to_excel('/Users/michael/Documents/Python/ProyestosPersonales/Modelos/statistical_models/xgboots/01 - Credit_risk_model/REPORTS/Performance.xlsx')"
   ]
  },
  {
   "cell_type": "markdown",
   "metadata": {},
   "source": [
    "### Resumen gráfico"
   ]
  },
  {
   "cell_type": "code",
   "execution_count": 19,
   "metadata": {},
   "outputs": [
    {
     "data": {
      "image/png": "[encoded data removed]",
      "text/plain": [
       "<Figure size 576x432 with 1 Axes>"
      ]
     },
     "metadata": {
      "needs_background": "light"
     },
     "output_type": "display_data"
    }
   ],
   "source": [
    "# Graficar la curva ROC\n",
    "plt.figure(figsize=(8, 6))\n",
    "plt.plot(fpr, tpr, color='darkorange', lw=2, label='ROC curve (area = %0.2f)' % roc_auc)\n",
    "plt.plot([0, 1], [0, 1], color='navy', lw=2, linestyle='--')\n",
    "plt.xlim([0.0, 1.0])\n",
    "plt.ylim([0.0, 1.05])\n",
    "plt.xlabel('False Positive Rate')\n",
    "plt.ylabel('True Positive Rate')\n",
    "plt.title('Receiver Operating Characteristic')\n",
    "plt.legend(loc=\"lower right\")\n",
    "plt.show()"
   ]
  },
  {
   "cell_type": "code",
   "execution_count": 20,
   "metadata": {},
   "outputs": [
    {
     "data": {
      "image/png": "[encoded data removed]",
      "text/plain": [
       "<Figure size 576x432 with 1 Axes>"
      ]
     },
     "metadata": {
      "needs_background": "light"
     },
     "output_type": "display_data"
    }
   ],
   "source": [
    "# Calcular las métricas de KS en cada decil\n",
    "grouped = train_data.groupby('decil', as_index=False).agg({'resultado_del_riesgo': 'mean', 'score': 'mean'})\n",
    "ks_by_decil = np.abs(grouped['resultado_del_riesgo'] - grouped['score'])\n",
    "ks_max = max(ks_by_decil)\n",
    "\n",
    "# Graficar la curva KS\n",
    "plt.figure(figsize=(8, 6))\n",
    "plt.plot(grouped['decil'], ks_by_decil, marker='o', color='b')\n",
    "plt.axhline(ks_max, color='r', linestyle='--', label='Max KS = {:.2f}'.format(ks_max))\n",
    "plt.xlabel('decil')\n",
    "plt.ylabel('KS Value')\n",
    "plt.title('KS Curve')\n",
    "plt.xticks(grouped['decil'])\n",
    "plt.legend()\n",
    "plt.show()"
   ]
  },
  {
   "cell_type": "code",
   "execution_count": null,
   "metadata": {},
   "outputs": [],
   "source": []
  }
 ],
 "metadata": {
  "kernelspec": {
   "display_name": "Python 3",
   "language": "python",
   "name": "python3"
  },
  "language_info": {
   "codemirror_mode": {
    "name": "ipython",
    "version": 3
   },
   "file_extension": ".py",
   "mimetype": "text/x-python",
   "name": "python",
   "nbconvert_exporter": "python",
   "pygments_lexer": "ipython3",
   "version": "3.8.2"
  },
  "orig_nbformat": 4
 },
 "nbformat": 4,
 "nbformat_minor": 2
}
