{
 "cells": [
  {
   "cell_type": "markdown",
   "metadata": {},
   "source": [
    "### XGBoost Credit Risk\n",
    "\n",
    "Dataset generado de forma aleatoria para efectos educativos.\n",
    "\n",
    "### Paos\n",
    "\n",
    "- Verificación Bad rate.\n",
    "- Definir las categorías y calcular el WOE para una variables independientes.\n",
    "- Calculo de iv para las variables independientes.\n",
    "- Modelo XGBoost.\n",
    "  - Rendimiento del modelo (accuracy).\n",
    "  - Importancia de las características.\n",
    "  - \n",
    "- Métricas de evaluación.\n",
    "  - Precision.\n",
    "  - Recall.\n",
    "  - F1.\n",
    "- Validación del modelo.\n",
    "  - Matriz de confusión.\n",
    "  - Curva ROC.\n",
    "  - Curva de presicion-recall.\n",
    "  - Curva de calibración.\n",
    "  - Diagrama de importancia de las características.\n",
    "  - Curva de aprendizaje XGBoots.\n",
    "  - Visualización de un árbol individual.\n",
    "- Ajuste de hiperparámetros.\n",
    "  - Mejores hiperparámetros.\n",
    "  - Presición de modelo con nuevos hiperparámetros.\n",
    "- Métricas de performance.\n",
    "  - ROC\n",
    "  - KS\n",
    "  - GINI"
   ]
  },
  {
   "cell_type": "code",
   "execution_count": null,
   "metadata": {},
   "outputs": [],
   "source": [
    "''' \n",
    "pip install xgboost scikit-learn\n",
    "pip install graphviz xgboost\n",
    "'''"
   ]
  },
  {
   "cell_type": "code",
   "execution_count": 1,
   "metadata": {},
   "outputs": [
    {
     "data": {
      "text/plain": [
       "'/Users/michael/Documents/Python/ProyestosPersonales/Modelos/statistical_models/XGBoots_models/01 - Credit_risk_model/NOTEBOOKS'"
      ]
     },
     "execution_count": 1,
     "metadata": {},
     "output_type": "execute_result"
    }
   ],
   "source": [
    "pwd"
   ]
  },
  {
   "cell_type": "code",
   "execution_count": 2,
   "metadata": {},
   "outputs": [],
   "source": [
    "# Tratamiento de datos\n",
    "import numpy as np\n",
    "import pandas as pd\n",
    "\n",
    "# Modelo\n",
    "from sklearn.datasets import load_breast_cancer\n",
    "from sklearn.model_selection import train_test_split, GridSearchCV\n",
    "from sklearn.metrics import accuracy_score\n",
    "import xgboost as xgb\n",
    "from xgboost import plot_tree\n",
    "import graphviz\n",
    "\n",
    "# Métricas de evaluación\n",
    "from sklearn.metrics import accuracy_score, precision_score, recall_score, f1_score\n",
    "\n",
    "#Gráficos\n",
    "import matplotlib.pyplot as plt\n",
    "import seaborn as sns\n",
    "\n",
    "# Validaciones gráficas\n",
    "from sklearn.metrics import confusion_matrix\n",
    "from sklearn.metrics import roc_curve, roc_auc_score\n",
    "from sklearn.metrics import precision_recall_curve, average_precision_score\n",
    "from sklearn.calibration import calibration_curve\n",
    "from sklearn.model_selection import learning_curve\n",
    "from sklearn.model_selection import cross_val_predict\n",
    "from sklearn.model_selection import StratifiedKFold\n",
    "from sklearn.metrics import roc_curve, auc"
   ]
  },
  {
   "cell_type": "code",
   "execution_count": 3,
   "metadata": {},
   "outputs": [
    {
     "data": {
      "text/plain": [
       "(10000, 16)"
      ]
     },
     "execution_count": 3,
     "metadata": {},
     "output_type": "execute_result"
    }
   ],
   "source": [
    "# Leer el archivo CSV generado en un DataFrame\n",
    "data = pd.read_csv('/Users/michael/Documents/Python/ProyestosPersonales/Modelos/statistical_models/XGBoots_models/01 - Credit_risk_model/DATA/dataset_crediticio.csv',sep=';')\n",
    "# Transformar los nombres de las columnas a minúsculas\n",
    "data.columns = [column.lower() for column in data.columns]\n",
    "data.shape"
   ]
  },
  {
   "cell_type": "code",
   "execution_count": 4,
   "metadata": {},
   "outputs": [
    {
     "data": {
      "text/html": [
       "<div>\n",
       "<style scoped>\n",
       "    .dataframe tbody tr th:only-of-type {\n",
       "        vertical-align: middle;\n",
       "    }\n",
       "\n",
       "    .dataframe tbody tr th {\n",
       "        vertical-align: top;\n",
       "    }\n",
       "\n",
       "    .dataframe thead th {\n",
       "        text-align: right;\n",
       "    }\n",
       "</style>\n",
       "<table border=\"1\" class=\"dataframe\">\n",
       "  <thead>\n",
       "    <tr style=\"text-align: right;\">\n",
       "      <th></th>\n",
       "      <th>id</th>\n",
       "      <th>edad</th>\n",
       "      <th>ingresos_anuales</th>\n",
       "      <th>historial_crediticio</th>\n",
       "      <th>monto_del_prestamo</th>\n",
       "      <th>plazo_del_prestamo</th>\n",
       "      <th>tasa_de_interes</th>\n",
       "      <th>deuda_existente</th>\n",
       "      <th>numero_de_dependientes</th>\n",
       "      <th>estado_laboral</th>\n",
       "      <th>proposito_del_prestamo</th>\n",
       "      <th>estado_civil</th>\n",
       "      <th>nivel_de_educacion</th>\n",
       "      <th>score_de_riesgo_interno</th>\n",
       "      <th>resultado_del_riesgo</th>\n",
       "      <th>periodo</th>\n",
       "    </tr>\n",
       "  </thead>\n",
       "  <tbody>\n",
       "    <tr>\n",
       "      <th>0</th>\n",
       "      <td>1</td>\n",
       "      <td>31</td>\n",
       "      <td>$78,719.00</td>\n",
       "      <td>Bueno</td>\n",
       "      <td>$35,098.00</td>\n",
       "      <td>30</td>\n",
       "      <td>11.8%</td>\n",
       "      <td>$10,438.00</td>\n",
       "      <td>3</td>\n",
       "      <td>Autónomo</td>\n",
       "      <td>Otros</td>\n",
       "      <td>Divorciado</td>\n",
       "      <td>Maestría</td>\n",
       "      <td>507</td>\n",
       "      <td>1</td>\n",
       "      <td>2022-06</td>\n",
       "    </tr>\n",
       "    <tr>\n",
       "      <th>1</th>\n",
       "      <td>2</td>\n",
       "      <td>29</td>\n",
       "      <td>$43,660.00</td>\n",
       "      <td>Regular</td>\n",
       "      <td>$43,304.00</td>\n",
       "      <td>34</td>\n",
       "      <td>7.4%</td>\n",
       "      <td>$1,581.00</td>\n",
       "      <td>0</td>\n",
       "      <td>Desempleado</td>\n",
       "      <td>Emergencia</td>\n",
       "      <td>Divorciado</td>\n",
       "      <td>Maestría</td>\n",
       "      <td>804</td>\n",
       "      <td>1</td>\n",
       "      <td>2022-05</td>\n",
       "    </tr>\n",
       "    <tr>\n",
       "      <th>2</th>\n",
       "      <td>3</td>\n",
       "      <td>58</td>\n",
       "      <td>$56,278.00</td>\n",
       "      <td>Malo</td>\n",
       "      <td>$12,629.00</td>\n",
       "      <td>9</td>\n",
       "      <td>10.9%</td>\n",
       "      <td>$24,983.00</td>\n",
       "      <td>5</td>\n",
       "      <td>Desempleado</td>\n",
       "      <td>Auto</td>\n",
       "      <td>Soltero</td>\n",
       "      <td>Preparatoria</td>\n",
       "      <td>629</td>\n",
       "      <td>1</td>\n",
       "      <td>2022-04</td>\n",
       "    </tr>\n",
       "  </tbody>\n",
       "</table>\n",
       "</div>"
      ],
      "text/plain": [
       "   id  edad ingresos_anuales historial_crediticio monto_del_prestamo  \\\n",
       "0   1    31       $78,719.00                Bueno         $35,098.00   \n",
       "1   2    29       $43,660.00              Regular         $43,304.00   \n",
       "2   3    58       $56,278.00                 Malo         $12,629.00   \n",
       "\n",
       "   plazo_del_prestamo tasa_de_interes deuda_existente  numero_de_dependientes  \\\n",
       "0                  30           11.8%      $10,438.00                       3   \n",
       "1                  34            7.4%       $1,581.00                       0   \n",
       "2                   9           10.9%      $24,983.00                       5   \n",
       "\n",
       "  estado_laboral proposito_del_prestamo estado_civil nivel_de_educacion  \\\n",
       "0       Autónomo                  Otros   Divorciado           Maestría   \n",
       "1    Desempleado             Emergencia   Divorciado           Maestría   \n",
       "2    Desempleado                   Auto      Soltero       Preparatoria   \n",
       "\n",
       "   score_de_riesgo_interno  resultado_del_riesgo  periodo  \n",
       "0                      507                     1  2022-06  \n",
       "1                      804                     1  2022-05  \n",
       "2                      629                     1  2022-04  "
      ]
     },
     "execution_count": 4,
     "metadata": {},
     "output_type": "execute_result"
    }
   ],
   "source": [
    "data.head(3)"
   ]
  },
  {
   "cell_type": "code",
   "execution_count": 5,
   "metadata": {},
   "outputs": [
    {
     "data": {
      "text/html": [
       "<div>\n",
       "<style scoped>\n",
       "    .dataframe tbody tr th:only-of-type {\n",
       "        vertical-align: middle;\n",
       "    }\n",
       "\n",
       "    .dataframe tbody tr th {\n",
       "        vertical-align: top;\n",
       "    }\n",
       "\n",
       "    .dataframe thead th {\n",
       "        text-align: right;\n",
       "    }\n",
       "</style>\n",
       "<table border=\"1\" class=\"dataframe\">\n",
       "  <thead>\n",
       "    <tr style=\"text-align: right;\">\n",
       "      <th></th>\n",
       "      <th>Categorias</th>\n",
       "      <th>Qtd</th>\n",
       "      <th>%</th>\n",
       "    </tr>\n",
       "  </thead>\n",
       "  <tbody>\n",
       "    <tr>\n",
       "      <th>0</th>\n",
       "      <td>1</td>\n",
       "      <td>8892</td>\n",
       "      <td>90.0</td>\n",
       "    </tr>\n",
       "    <tr>\n",
       "      <th>1</th>\n",
       "      <td>0</td>\n",
       "      <td>1108</td>\n",
       "      <td>10.0</td>\n",
       "    </tr>\n",
       "  </tbody>\n",
       "</table>\n",
       "</div>"
      ],
      "text/plain": [
       "   Categorias   Qtd     %\n",
       "0           1  8892  90.0\n",
       "1           0  1108  10.0"
      ]
     },
     "execution_count": 5,
     "metadata": {},
     "output_type": "execute_result"
    }
   ],
   "source": [
    "# Tasa de malos\n",
    "bad_rate = data['resultado_del_riesgo'].value_counts().reset_index()\n",
    "bad_rate = bad_rate.rename(columns={'index': 'Categorias', 'resultado_del_riesgo': 'Qtd'})\n",
    "bad_rate['%'] = round(bad_rate['Qtd'] / bad_rate['Qtd'].sum(), 1) * 100\n",
    "bad_rate"
   ]
  },
  {
   "cell_type": "code",
   "execution_count": 6,
   "metadata": {},
   "outputs": [
    {
     "name": "stdout",
     "output_type": "stream",
     "text": [
      "<class 'pandas.core.frame.DataFrame'>\n",
      "RangeIndex: 10000 entries, 0 to 9999\n",
      "Data columns (total 16 columns):\n",
      " #   Column                   Non-Null Count  Dtype \n",
      "---  ------                   --------------  ----- \n",
      " 0   id                       10000 non-null  int64 \n",
      " 1   edad                     10000 non-null  int64 \n",
      " 2   ingresos_anuales         10000 non-null  object\n",
      " 3   historial_crediticio     10000 non-null  object\n",
      " 4   monto_del_prestamo       10000 non-null  object\n",
      " 5   plazo_del_prestamo       10000 non-null  int64 \n",
      " 6   tasa_de_interes          10000 non-null  object\n",
      " 7   deuda_existente          10000 non-null  object\n",
      " 8   numero_de_dependientes   10000 non-null  int64 \n",
      " 9   estado_laboral           10000 non-null  object\n",
      " 10  proposito_del_prestamo   10000 non-null  object\n",
      " 11  estado_civil             10000 non-null  object\n",
      " 12  nivel_de_educacion       10000 non-null  object\n",
      " 13  score_de_riesgo_interno  10000 non-null  int64 \n",
      " 14  resultado_del_riesgo     10000 non-null  int64 \n",
      " 15  periodo                  10000 non-null  object\n",
      "dtypes: int64(6), object(10)\n",
      "memory usage: 1.2+ MB\n"
     ]
    }
   ],
   "source": [
    "data.info(verbose=True)"
   ]
  },
  {
   "cell_type": "markdown",
   "metadata": {},
   "source": [
    "### Transformación en WoEs"
   ]
  },
  {
   "cell_type": "code",
   "execution_count": 7,
   "metadata": {},
   "outputs": [],
   "source": [
    "# Definir las categorías y calcular el WOE para una variables independientes\n",
    "def calcular_woe_variable(variable, target):\n",
    "    tabla_frecuencia = data.groupby([variable, target]).size().unstack()\n",
    "    total_buenos = tabla_frecuencia[1].sum()\n",
    "    total_malos = tabla_frecuencia[0].sum()\n",
    "\n",
    "    woe = {}\n",
    "    iv = 0\n",
    "\n",
    "    for categoria in tabla_frecuencia.index:\n",
    "        evento_malo = tabla_frecuencia.loc[categoria, 0]\n",
    "        evento_bueno = tabla_frecuencia.loc[categoria, 1]\n",
    "\n",
    "        woe[categoria] = round((evento_malo / total_malos) / (evento_bueno / total_buenos), 2)\n",
    "        iv += ((evento_malo / total_malos) - (evento_bueno / total_buenos)) * woe[categoria]\n",
    "\n",
    "    return woe\n",
    "\n",
    "# Lista de variables independientes para transformar\n",
    "variables_independientes = ['edad','historial_crediticio','plazo_del_prestamo','tasa_de_interes',\n",
    "'numero_de_dependientes','estado_laboral','proposito_del_prestamo','estado_civil','nivel_de_educacion'] #,'score_de_riesgo_interno','monto_del_prestamo','ingresos_anuales','deuda_existente'\n",
    "\n",
    "# Transformar las variables independientes en WOE\n",
    "for variable in variables_independientes:\n",
    "    woe_dict = calcular_woe_variable(variable, 'resultado_del_riesgo')\n",
    "    data[variable + '_WOE'] = data[variable].map(woe_dict)"
   ]
  },
  {
   "cell_type": "code",
   "execution_count": 8,
   "metadata": {},
   "outputs": [
    {
     "data": {
      "text/html": [
       "<div>\n",
       "<style scoped>\n",
       "    .dataframe tbody tr th:only-of-type {\n",
       "        vertical-align: middle;\n",
       "    }\n",
       "\n",
       "    .dataframe tbody tr th {\n",
       "        vertical-align: top;\n",
       "    }\n",
       "\n",
       "    .dataframe thead th {\n",
       "        text-align: right;\n",
       "    }\n",
       "</style>\n",
       "<table border=\"1\" class=\"dataframe\">\n",
       "  <thead>\n",
       "    <tr style=\"text-align: right;\">\n",
       "      <th></th>\n",
       "      <th>id</th>\n",
       "      <th>edad</th>\n",
       "      <th>ingresos_anuales</th>\n",
       "      <th>historial_crediticio</th>\n",
       "      <th>monto_del_prestamo</th>\n",
       "      <th>plazo_del_prestamo</th>\n",
       "      <th>tasa_de_interes</th>\n",
       "      <th>deuda_existente</th>\n",
       "      <th>numero_de_dependientes</th>\n",
       "      <th>estado_laboral</th>\n",
       "      <th>...</th>\n",
       "      <th>periodo</th>\n",
       "      <th>edad_WOE</th>\n",
       "      <th>historial_crediticio_WOE</th>\n",
       "      <th>plazo_del_prestamo_WOE</th>\n",
       "      <th>tasa_de_interes_WOE</th>\n",
       "      <th>numero_de_dependientes_WOE</th>\n",
       "      <th>estado_laboral_WOE</th>\n",
       "      <th>proposito_del_prestamo_WOE</th>\n",
       "      <th>estado_civil_WOE</th>\n",
       "      <th>nivel_de_educacion_WOE</th>\n",
       "    </tr>\n",
       "  </thead>\n",
       "  <tbody>\n",
       "    <tr>\n",
       "      <th>0</th>\n",
       "      <td>1</td>\n",
       "      <td>31</td>\n",
       "      <td>$78,719.00</td>\n",
       "      <td>Bueno</td>\n",
       "      <td>$35,098.00</td>\n",
       "      <td>30</td>\n",
       "      <td>11.8%</td>\n",
       "      <td>$10,438.00</td>\n",
       "      <td>3</td>\n",
       "      <td>Autónomo</td>\n",
       "      <td>...</td>\n",
       "      <td>2022-06</td>\n",
       "      <td>1.01</td>\n",
       "      <td>1.00</td>\n",
       "      <td>0.78</td>\n",
       "      <td>0.84</td>\n",
       "      <td>0.89</td>\n",
       "      <td>1.0</td>\n",
       "      <td>0.90</td>\n",
       "      <td>0.96</td>\n",
       "      <td>1.03</td>\n",
       "    </tr>\n",
       "    <tr>\n",
       "      <th>1</th>\n",
       "      <td>2</td>\n",
       "      <td>29</td>\n",
       "      <td>$43,660.00</td>\n",
       "      <td>Regular</td>\n",
       "      <td>$43,304.00</td>\n",
       "      <td>34</td>\n",
       "      <td>7.4%</td>\n",
       "      <td>$1,581.00</td>\n",
       "      <td>0</td>\n",
       "      <td>Desempleado</td>\n",
       "      <td>...</td>\n",
       "      <td>2022-05</td>\n",
       "      <td>0.76</td>\n",
       "      <td>0.97</td>\n",
       "      <td>1.08</td>\n",
       "      <td>1.40</td>\n",
       "      <td>0.94</td>\n",
       "      <td>1.0</td>\n",
       "      <td>0.94</td>\n",
       "      <td>0.96</td>\n",
       "      <td>1.03</td>\n",
       "    </tr>\n",
       "    <tr>\n",
       "      <th>2</th>\n",
       "      <td>3</td>\n",
       "      <td>58</td>\n",
       "      <td>$56,278.00</td>\n",
       "      <td>Malo</td>\n",
       "      <td>$12,629.00</td>\n",
       "      <td>9</td>\n",
       "      <td>10.9%</td>\n",
       "      <td>$24,983.00</td>\n",
       "      <td>5</td>\n",
       "      <td>Desempleado</td>\n",
       "      <td>...</td>\n",
       "      <td>2022-04</td>\n",
       "      <td>0.89</td>\n",
       "      <td>1.03</td>\n",
       "      <td>0.97</td>\n",
       "      <td>0.59</td>\n",
       "      <td>1.02</td>\n",
       "      <td>1.0</td>\n",
       "      <td>1.04</td>\n",
       "      <td>1.04</td>\n",
       "      <td>0.99</td>\n",
       "    </tr>\n",
       "  </tbody>\n",
       "</table>\n",
       "<p>3 rows × 25 columns</p>\n",
       "</div>"
      ],
      "text/plain": [
       "   id  edad ingresos_anuales historial_crediticio monto_del_prestamo  \\\n",
       "0   1    31       $78,719.00                Bueno         $35,098.00   \n",
       "1   2    29       $43,660.00              Regular         $43,304.00   \n",
       "2   3    58       $56,278.00                 Malo         $12,629.00   \n",
       "\n",
       "   plazo_del_prestamo tasa_de_interes deuda_existente  numero_de_dependientes  \\\n",
       "0                  30           11.8%      $10,438.00                       3   \n",
       "1                  34            7.4%       $1,581.00                       0   \n",
       "2                   9           10.9%      $24,983.00                       5   \n",
       "\n",
       "  estado_laboral  ...  periodo edad_WOE historial_crediticio_WOE  \\\n",
       "0       Autónomo  ...  2022-06     1.01                     1.00   \n",
       "1    Desempleado  ...  2022-05     0.76                     0.97   \n",
       "2    Desempleado  ...  2022-04     0.89                     1.03   \n",
       "\n",
       "   plazo_del_prestamo_WOE  tasa_de_interes_WOE numero_de_dependientes_WOE  \\\n",
       "0                    0.78                 0.84                       0.89   \n",
       "1                    1.08                 1.40                       0.94   \n",
       "2                    0.97                 0.59                       1.02   \n",
       "\n",
       "   estado_laboral_WOE  proposito_del_prestamo_WOE  estado_civil_WOE  \\\n",
       "0                 1.0                        0.90              0.96   \n",
       "1                 1.0                        0.94              0.96   \n",
       "2                 1.0                        1.04              1.04   \n",
       "\n",
       "   nivel_de_educacion_WOE  \n",
       "0                    1.03  \n",
       "1                    1.03  \n",
       "2                    0.99  \n",
       "\n",
       "[3 rows x 25 columns]"
      ]
     },
     "execution_count": 8,
     "metadata": {},
     "output_type": "execute_result"
    }
   ],
   "source": [
    "data.head(3)"
   ]
  },
  {
   "cell_type": "markdown",
   "metadata": {},
   "source": [
    "### Calculo de iv"
   ]
  },
  {
   "cell_type": "code",
   "execution_count": 9,
   "metadata": {},
   "outputs": [
    {
     "data": {
      "text/html": [
       "<div>\n",
       "<style scoped>\n",
       "    .dataframe tbody tr th:only-of-type {\n",
       "        vertical-align: middle;\n",
       "    }\n",
       "\n",
       "    .dataframe tbody tr th {\n",
       "        vertical-align: top;\n",
       "    }\n",
       "\n",
       "    .dataframe thead th {\n",
       "        text-align: right;\n",
       "    }\n",
       "</style>\n",
       "<table border=\"1\" class=\"dataframe\">\n",
       "  <thead>\n",
       "    <tr style=\"text-align: right;\">\n",
       "      <th></th>\n",
       "      <th>Variable</th>\n",
       "      <th>IV</th>\n",
       "    </tr>\n",
       "  </thead>\n",
       "  <tbody>\n",
       "    <tr>\n",
       "      <th>5</th>\n",
       "      <td>estado_laboral</td>\n",
       "      <td>7.926616</td>\n",
       "    </tr>\n",
       "    <tr>\n",
       "      <th>6</th>\n",
       "      <td>proposito_del_prestamo</td>\n",
       "      <td>7.904271</td>\n",
       "    </tr>\n",
       "    <tr>\n",
       "      <th>4</th>\n",
       "      <td>numero_de_dependientes</td>\n",
       "      <td>7.902440</td>\n",
       "    </tr>\n",
       "    <tr>\n",
       "      <th>8</th>\n",
       "      <td>nivel_de_educacion</td>\n",
       "      <td>7.899854</td>\n",
       "    </tr>\n",
       "    <tr>\n",
       "      <th>2</th>\n",
       "      <td>plazo_del_prestamo</td>\n",
       "      <td>7.899711</td>\n",
       "    </tr>\n",
       "    <tr>\n",
       "      <th>7</th>\n",
       "      <td>estado_civil</td>\n",
       "      <td>7.898386</td>\n",
       "    </tr>\n",
       "    <tr>\n",
       "      <th>1</th>\n",
       "      <td>historial_crediticio</td>\n",
       "      <td>7.897124</td>\n",
       "    </tr>\n",
       "    <tr>\n",
       "      <th>0</th>\n",
       "      <td>edad</td>\n",
       "      <td>7.889817</td>\n",
       "    </tr>\n",
       "    <tr>\n",
       "      <th>3</th>\n",
       "      <td>tasa_de_interes</td>\n",
       "      <td>7.886394</td>\n",
       "    </tr>\n",
       "  </tbody>\n",
       "</table>\n",
       "</div>"
      ],
      "text/plain": [
       "                 Variable        IV\n",
       "5          estado_laboral  7.926616\n",
       "6  proposito_del_prestamo  7.904271\n",
       "4  numero_de_dependientes  7.902440\n",
       "8      nivel_de_educacion  7.899854\n",
       "2      plazo_del_prestamo  7.899711\n",
       "7            estado_civil  7.898386\n",
       "1    historial_crediticio  7.897124\n",
       "0                    edad  7.889817\n",
       "3         tasa_de_interes  7.886394"
      ]
     },
     "execution_count": 9,
     "metadata": {},
     "output_type": "execute_result"
    }
   ],
   "source": [
    "tabla_frecuencia = data.groupby([variable, 'resultado_del_riesgo']).size().unstack()\n",
    "total_buenos = tabla_frecuencia[1].sum()\n",
    "total_malos = tabla_frecuencia[0].sum()\n",
    "# Crear una lista para almacenar los valores de IV por variable\n",
    "iv_summary = []\n",
    "\n",
    "# Calcular y mostrar el WOE y el IV para cada variable\n",
    "for variable in variables_independientes:\n",
    "    woe_dict = calcular_woe_variable(variable, 'resultado_del_riesgo')\n",
    "    data[variable + '_WOE'] = data[variable].map(woe_dict)\n",
    "\n",
    "    iv = 0\n",
    "    for categoria, woe in woe_dict.items():\n",
    "        evento_malo = data[data[variable] == categoria]['resultado_del_riesgo'].sum()\n",
    "        evento_bueno = data[data[variable] == categoria]['resultado_del_riesgo'].count() - evento_malo\n",
    "\n",
    "        iv += ((evento_malo / total_malos) - (evento_bueno / total_buenos)) * woe\n",
    "\n",
    "    iv_summary.append({'Variable': variable, 'IV': iv})\n",
    "\n",
    "# Crear un DataFrame para mostrar la tabla resumen de IV\n",
    "iv_df = pd.DataFrame(iv_summary)\n",
    "\n",
    "# Ordenar el DataFrame por IV en orden descendente\n",
    "iv_df = iv_df.sort_values(by='IV', ascending=False)\n",
    "\n",
    "# Mostrar la tabla resumen de IV\n",
    "iv_df"
   ]
  },
  {
   "cell_type": "code",
   "execution_count": 10,
   "metadata": {},
   "outputs": [
    {
     "data": {
      "text/html": [
       "<div>\n",
       "<style scoped>\n",
       "    .dataframe tbody tr th:only-of-type {\n",
       "        vertical-align: middle;\n",
       "    }\n",
       "\n",
       "    .dataframe tbody tr th {\n",
       "        vertical-align: top;\n",
       "    }\n",
       "\n",
       "    .dataframe thead th {\n",
       "        text-align: right;\n",
       "    }\n",
       "</style>\n",
       "<table border=\"1\" class=\"dataframe\">\n",
       "  <thead>\n",
       "    <tr style=\"text-align: right;\">\n",
       "      <th></th>\n",
       "      <th>resultado_del_riesgo</th>\n",
       "      <th>edad_WOE</th>\n",
       "      <th>historial_crediticio_WOE</th>\n",
       "      <th>plazo_del_prestamo_WOE</th>\n",
       "      <th>tasa_de_interes_WOE</th>\n",
       "      <th>numero_de_dependientes_WOE</th>\n",
       "      <th>estado_laboral_WOE</th>\n",
       "      <th>proposito_del_prestamo_WOE</th>\n",
       "      <th>estado_civil_WOE</th>\n",
       "      <th>nivel_de_educacion_WOE</th>\n",
       "    </tr>\n",
       "  </thead>\n",
       "  <tbody>\n",
       "    <tr>\n",
       "      <th>0</th>\n",
       "      <td>1</td>\n",
       "      <td>1.01</td>\n",
       "      <td>1.00</td>\n",
       "      <td>0.78</td>\n",
       "      <td>0.84</td>\n",
       "      <td>0.89</td>\n",
       "      <td>1.0</td>\n",
       "      <td>0.90</td>\n",
       "      <td>0.96</td>\n",
       "      <td>1.03</td>\n",
       "    </tr>\n",
       "    <tr>\n",
       "      <th>1</th>\n",
       "      <td>1</td>\n",
       "      <td>0.76</td>\n",
       "      <td>0.97</td>\n",
       "      <td>1.08</td>\n",
       "      <td>1.40</td>\n",
       "      <td>0.94</td>\n",
       "      <td>1.0</td>\n",
       "      <td>0.94</td>\n",
       "      <td>0.96</td>\n",
       "      <td>1.03</td>\n",
       "    </tr>\n",
       "    <tr>\n",
       "      <th>2</th>\n",
       "      <td>1</td>\n",
       "      <td>0.89</td>\n",
       "      <td>1.03</td>\n",
       "      <td>0.97</td>\n",
       "      <td>0.59</td>\n",
       "      <td>1.02</td>\n",
       "      <td>1.0</td>\n",
       "      <td>1.04</td>\n",
       "      <td>1.04</td>\n",
       "      <td>0.99</td>\n",
       "    </tr>\n",
       "  </tbody>\n",
       "</table>\n",
       "</div>"
      ],
      "text/plain": [
       "   resultado_del_riesgo  edad_WOE  historial_crediticio_WOE  \\\n",
       "0                     1      1.01                      1.00   \n",
       "1                     1      0.76                      0.97   \n",
       "2                     1      0.89                      1.03   \n",
       "\n",
       "   plazo_del_prestamo_WOE  tasa_de_interes_WOE  numero_de_dependientes_WOE  \\\n",
       "0                    0.78                 0.84                        0.89   \n",
       "1                    1.08                 1.40                        0.94   \n",
       "2                    0.97                 0.59                        1.02   \n",
       "\n",
       "   estado_laboral_WOE  proposito_del_prestamo_WOE  estado_civil_WOE  \\\n",
       "0                 1.0                        0.90              0.96   \n",
       "1                 1.0                        0.94              0.96   \n",
       "2                 1.0                        1.04              1.04   \n",
       "\n",
       "   nivel_de_educacion_WOE  \n",
       "0                    1.03  \n",
       "1                    1.03  \n",
       "2                    0.99  "
      ]
     },
     "execution_count": 10,
     "metadata": {},
     "output_type": "execute_result"
    }
   ],
   "source": [
    "# Filtrar las columnas que terminan con \"_woe\" más el target\n",
    "data = data.filter(regex='_WOE$|resultado_del_riesgo')\n",
    "data.head(3)"
   ]
  },
  {
   "cell_type": "code",
   "execution_count": 11,
   "metadata": {},
   "outputs": [],
   "source": [
    "def get_na(df):\n",
    "    qsna = df.shape[0] - df.isnull().sum(axis = 0) #Cantidad de NA\n",
    "    qna = df.isnull().sum(axis = 0)\n",
    "    ppna = round(100*(qna/df.shape[0]),2)\n",
    "    aux = {'Datos sin Nas en qtd': qsna, 'Na en qtd': qna, 'Na en %': ppna}\n",
    "    na = pd.DataFrame(data = aux)\n",
    "    return na.sort_values(by = 'Na en qtd', ascending = False)"
   ]
  },
  {
   "cell_type": "code",
   "execution_count": 12,
   "metadata": {},
   "outputs": [
    {
     "data": {
      "text/html": [
       "<div>\n",
       "<style scoped>\n",
       "    .dataframe tbody tr th:only-of-type {\n",
       "        vertical-align: middle;\n",
       "    }\n",
       "\n",
       "    .dataframe tbody tr th {\n",
       "        vertical-align: top;\n",
       "    }\n",
       "\n",
       "    .dataframe thead th {\n",
       "        text-align: right;\n",
       "    }\n",
       "</style>\n",
       "<table border=\"1\" class=\"dataframe\">\n",
       "  <thead>\n",
       "    <tr style=\"text-align: right;\">\n",
       "      <th></th>\n",
       "      <th>Datos sin Nas en qtd</th>\n",
       "      <th>Na en qtd</th>\n",
       "      <th>Na en %</th>\n",
       "    </tr>\n",
       "  </thead>\n",
       "  <tbody>\n",
       "    <tr>\n",
       "      <th>resultado_del_riesgo</th>\n",
       "      <td>10000</td>\n",
       "      <td>0</td>\n",
       "      <td>0.0</td>\n",
       "    </tr>\n",
       "    <tr>\n",
       "      <th>edad_WOE</th>\n",
       "      <td>10000</td>\n",
       "      <td>0</td>\n",
       "      <td>0.0</td>\n",
       "    </tr>\n",
       "    <tr>\n",
       "      <th>historial_crediticio_WOE</th>\n",
       "      <td>10000</td>\n",
       "      <td>0</td>\n",
       "      <td>0.0</td>\n",
       "    </tr>\n",
       "    <tr>\n",
       "      <th>plazo_del_prestamo_WOE</th>\n",
       "      <td>10000</td>\n",
       "      <td>0</td>\n",
       "      <td>0.0</td>\n",
       "    </tr>\n",
       "    <tr>\n",
       "      <th>tasa_de_interes_WOE</th>\n",
       "      <td>10000</td>\n",
       "      <td>0</td>\n",
       "      <td>0.0</td>\n",
       "    </tr>\n",
       "    <tr>\n",
       "      <th>numero_de_dependientes_WOE</th>\n",
       "      <td>10000</td>\n",
       "      <td>0</td>\n",
       "      <td>0.0</td>\n",
       "    </tr>\n",
       "    <tr>\n",
       "      <th>estado_laboral_WOE</th>\n",
       "      <td>10000</td>\n",
       "      <td>0</td>\n",
       "      <td>0.0</td>\n",
       "    </tr>\n",
       "    <tr>\n",
       "      <th>proposito_del_prestamo_WOE</th>\n",
       "      <td>10000</td>\n",
       "      <td>0</td>\n",
       "      <td>0.0</td>\n",
       "    </tr>\n",
       "    <tr>\n",
       "      <th>estado_civil_WOE</th>\n",
       "      <td>10000</td>\n",
       "      <td>0</td>\n",
       "      <td>0.0</td>\n",
       "    </tr>\n",
       "    <tr>\n",
       "      <th>nivel_de_educacion_WOE</th>\n",
       "      <td>10000</td>\n",
       "      <td>0</td>\n",
       "      <td>0.0</td>\n",
       "    </tr>\n",
       "  </tbody>\n",
       "</table>\n",
       "</div>"
      ],
      "text/plain": [
       "                            Datos sin Nas en qtd  Na en qtd  Na en %\n",
       "resultado_del_riesgo                       10000          0      0.0\n",
       "edad_WOE                                   10000          0      0.0\n",
       "historial_crediticio_WOE                   10000          0      0.0\n",
       "plazo_del_prestamo_WOE                     10000          0      0.0\n",
       "tasa_de_interes_WOE                        10000          0      0.0\n",
       "numero_de_dependientes_WOE                 10000          0      0.0\n",
       "estado_laboral_WOE                         10000          0      0.0\n",
       "proposito_del_prestamo_WOE                 10000          0      0.0\n",
       "estado_civil_WOE                           10000          0      0.0\n",
       "nivel_de_educacion_WOE                     10000          0      0.0"
      ]
     },
     "execution_count": 12,
     "metadata": {},
     "output_type": "execute_result"
    }
   ],
   "source": [
    "get_na(data)"
   ]
  },
  {
   "cell_type": "code",
   "execution_count": 13,
   "metadata": {},
   "outputs": [],
   "source": [
    "# Guardar el conjunto de datos transformado en un nuevo archivo parquet\n",
    "data.to_parquet('/Users/michael/Documents/Python/ProyestosPersonales/Modelos/statistical_models/XGBoots_models/01 - Credit_risk_model/DATA/dataset_crediticio_woe.parquet', index=False)"
   ]
  },
  {
   "cell_type": "markdown",
   "metadata": {},
   "source": [
    "### Modelo XGboots"
   ]
  },
  {
   "cell_type": "code",
   "execution_count": 14,
   "metadata": {},
   "outputs": [],
   "source": [
    "# Definir características y objetivo\n",
    "features = data.drop(['resultado_del_riesgo'], axis=1)\n",
    "target = data['resultado_del_riesgo']"
   ]
  },
  {
   "cell_type": "code",
   "execution_count": 15,
   "metadata": {},
   "outputs": [
    {
     "name": "stdout",
     "output_type": "stream",
     "text": [
      "Precisión del modelo: 0.89\n"
     ]
    }
   ],
   "source": [
    "# Dividimos el conjunto de datos en entrenamiento y prueba\n",
    "X_train, X_test, y_train, y_test = train_test_split(features, target, test_size=0.3, random_state=42)\n",
    "\n",
    "# Creamos un objeto DMatrix para XGBoost\n",
    "dtrain = xgb.DMatrix(X_train, label=y_train)\n",
    "dtest = xgb.DMatrix(X_test, label=y_test)\n",
    "\n",
    "# Definimos los hiperparámetros del modelo\n",
    "params = {\n",
    "    'objective': 'multi:softmax',\n",
    "    'num_class': 5,\n",
    "    'max_depth': 3,\n",
    "    'eta': 0.1,\n",
    "    'subsample': 0.8,\n",
    "    'colsample_bytree': 0.8,\n",
    "    'eval_metric': 'mlogloss'\n",
    "}\n",
    "\n",
    "# Entrenamos el modelo\n",
    "num_round = 100\n",
    "model = xgb.train(params, dtrain, num_round)\n",
    "\n",
    "# Realizamos predicciones en el conjunto de prueba\n",
    "y_pred = model.predict(dtest)\n",
    "\n",
    "# Evaluamos el rendimiento del modelo\n",
    "accuracy = accuracy_score(y_test, y_pred)\n",
    "print(f'Precisión del modelo: {accuracy:.2f}')"
   ]
  },
  {
   "cell_type": "code",
   "execution_count": 16,
   "metadata": {},
   "outputs": [
    {
     "name": "stdout",
     "output_type": "stream",
     "text": [
      "Importancia de las características:\n",
      "tasa_de_interes_WOE: 348.0\n",
      "edad_WOE: 286.0\n",
      "plazo_del_prestamo_WOE: 234.0\n",
      "proposito_del_prestamo_WOE: 150.0\n",
      "numero_de_dependientes_WOE: 124.0\n",
      "nivel_de_educacion_WOE: 80.0\n",
      "estado_civil_WOE: 55.0\n",
      "historial_crediticio_WOE: 48.0\n",
      "estado_laboral_WOE: 30.0\n"
     ]
    }
   ],
   "source": [
    "# Obtener importancia de las características\n",
    "feature_importances = model.get_score(importance_type='weight')\n",
    "sorted_feature_importances = sorted(feature_importances.items(), key=lambda x: x[1], reverse=True)\n",
    "\n",
    "# Imprimir la importancia de las características\n",
    "print(\"Importancia de las características:\")\n",
    "for feature, importance in sorted_feature_importances:\n",
    "    print(f\"{feature}: {importance}\")"
   ]
  },
  {
   "cell_type": "markdown",
   "metadata": {},
   "source": [
    "### Métricas de evaluación\n",
    "\n",
    "- Precision.\n",
    "- Recall.\n",
    "- F1."
   ]
  },
  {
   "cell_type": "code",
   "execution_count": 17,
   "metadata": {},
   "outputs": [
    {
     "name": "stdout",
     "output_type": "stream",
     "text": [
      "Precisión: 0.89\n",
      "Recuperación: 0.89\n",
      "Puntuación F1: 0.84\n"
     ]
    },
    {
     "name": "stderr",
     "output_type": "stream",
     "text": [
      "/Library/Frameworks/Python.framework/Versions/3.8/lib/python3.8/site-packages/sklearn/metrics/_classification.py:1327: UndefinedMetricWarning: Precision is ill-defined and being set to 0.0 in labels with no predicted samples. Use `zero_division` parameter to control this behavior.\n",
      "  _warn_prf(average, modifier, msg_start, len(result))\n"
     ]
    }
   ],
   "source": [
    "# Calculamos las métricas\n",
    "accuracy = accuracy_score(y_test, y_pred)\n",
    "precision = precision_score(y_test, y_pred, average='weighted')\n",
    "recall = recall_score(y_test, y_pred, average='weighted')\n",
    "f1 = f1_score(y_test, y_pred, average='weighted')\n",
    "\n",
    "# Imprimimos las métricas\n",
    "print(f'Precisión: {accuracy:.2f}')\n",
    "print(f'Recuperación: {recall:.2f}')\n",
    "print(f'Puntuación F1: {f1:.2f}')"
   ]
  },
  {
   "cell_type": "markdown",
   "metadata": {},
   "source": [
    "### Interpretación de las métricas"
   ]
  },
  {
   "cell_type": "markdown",
   "metadata": {},
   "source": [
    "### Validación del modelo"
   ]
  },
  {
   "cell_type": "code",
   "execution_count": 18,
   "metadata": {},
   "outputs": [
    {
     "data": {
      "image/png": "[encoded data removed]",
      "text/plain": [
       "<Figure size 576x432 with 2 Axes>"
      ]
     },
     "metadata": {
      "needs_background": "light"
     },
     "output_type": "display_data"
    }
   ],
   "source": [
    "# Calculamos la matriz de confusión\n",
    "conf_matrix = confusion_matrix(y_test, y_pred)\n",
    "\n",
    "# Visualizamos la matriz de confusión usando seaborn\n",
    "plt.figure(figsize=(8, 6))\n",
    "sns.heatmap(conf_matrix, annot=True, fmt=\"d\", cmap=\"Blues\")\n",
    "plt.xlabel('Predicción')\n",
    "plt.ylabel('Etiqueta Verdadera')\n",
    "plt.title('Matriz de Confusión')\n",
    "plt.show()"
   ]
  },
  {
   "cell_type": "markdown",
   "metadata": {},
   "source": [
    "### Curva ROC"
   ]
  },
  {
   "cell_type": "code",
   "execution_count": 19,
   "metadata": {},
   "outputs": [
    {
     "name": "stderr",
     "output_type": "stream",
     "text": [
      "/Library/Frameworks/Python.framework/Versions/3.8/lib/python3.8/site-packages/sklearn/metrics/_ranking.py:1016: UndefinedMetricWarning: No positive samples in y_true, true positive value should be meaningless\n",
      "  warnings.warn(\n",
      "/Library/Frameworks/Python.framework/Versions/3.8/lib/python3.8/site-packages/sklearn/metrics/_ranking.py:1016: UndefinedMetricWarning: No positive samples in y_true, true positive value should be meaningless\n",
      "  warnings.warn(\n",
      "/Library/Frameworks/Python.framework/Versions/3.8/lib/python3.8/site-packages/sklearn/metrics/_ranking.py:1016: UndefinedMetricWarning: No positive samples in y_true, true positive value should be meaningless\n",
      "  warnings.warn(\n"
     ]
    },
    {
     "data": {
      "image/png": "[encoded data removed]",
      "text/plain": [
       "<Figure size 576x432 with 1 Axes>"
      ]
     },
     "metadata": {
      "needs_background": "light"
     },
     "output_type": "display_data"
    }
   ],
   "source": [
    "from sklearn.preprocessing import label_binarize\n",
    "# Realizar predicciones de probabilidades en el conjunto de prueba\n",
    "y_prob = model.predict(dtest, output_margin=True)  # Usar output_margin=True para obtener probabilidades\n",
    "\n",
    "# Binarizar las etiquetas para el cálculo de la curva ROC\n",
    "y_test_bin = label_binarize(y_test, classes=[0, 1, 2, 3, 4])\n",
    "\n",
    "# Calcular la curva ROC y el área bajo la curva para cada clase\n",
    "fpr = dict()\n",
    "tpr = dict()\n",
    "roc_auc = dict()\n",
    "\n",
    "for i in range(params['num_class']):\n",
    "    fpr[i], tpr[i], _ = roc_curve(y_test_bin[:, i], y_prob[:, i])\n",
    "    roc_auc[i] = auc(fpr[i], tpr[i])\n",
    "\n",
    "# Graficar la curva ROC para cada clase\n",
    "plt.figure(figsize=(8, 6))\n",
    "for i in range(params['num_class']):\n",
    "    plt.plot(fpr[i], tpr[i], lw=2, label='Curva ROC para la clase {0} (área = {1:.2f})'.format(i, roc_auc[i]))\n",
    "\n",
    "plt.plot([0, 1], [0, 1], color='gray', linestyle='--')\n",
    "plt.xlim([0.0, 1.0])\n",
    "plt.ylim([0.0, 1.05])\n",
    "plt.xlabel('Tasa de Falsos Positivos')\n",
    "plt.ylabel('Tasa de Verdaderos Positivos')\n",
    "plt.title('Curva ROC Multiclase')\n",
    "plt.legend(loc=\"lower right\")\n",
    "plt.show()"
   ]
  },
  {
   "cell_type": "markdown",
   "metadata": {},
   "source": [
    "### Curva de presicion-recall"
   ]
  },
  {
   "cell_type": "code",
   "execution_count": 20,
   "metadata": {},
   "outputs": [
    {
     "name": "stderr",
     "output_type": "stream",
     "text": [
      "/Library/Frameworks/Python.framework/Versions/3.8/lib/python3.8/site-packages/sklearn/metrics/_ranking.py:877: UserWarning: No positive class found in y_true, recall is set to one for all thresholds.\n",
      "  warnings.warn(\n",
      "/Library/Frameworks/Python.framework/Versions/3.8/lib/python3.8/site-packages/sklearn/metrics/_ranking.py:877: UserWarning: No positive class found in y_true, recall is set to one for all thresholds.\n",
      "  warnings.warn(\n",
      "/Library/Frameworks/Python.framework/Versions/3.8/lib/python3.8/site-packages/sklearn/metrics/_ranking.py:877: UserWarning: No positive class found in y_true, recall is set to one for all thresholds.\n",
      "  warnings.warn(\n",
      "/Library/Frameworks/Python.framework/Versions/3.8/lib/python3.8/site-packages/sklearn/metrics/_ranking.py:877: UserWarning: No positive class found in y_true, recall is set to one for all thresholds.\n",
      "  warnings.warn(\n",
      "/Library/Frameworks/Python.framework/Versions/3.8/lib/python3.8/site-packages/sklearn/metrics/_ranking.py:877: UserWarning: No positive class found in y_true, recall is set to one for all thresholds.\n",
      "  warnings.warn(\n",
      "/Library/Frameworks/Python.framework/Versions/3.8/lib/python3.8/site-packages/sklearn/metrics/_ranking.py:877: UserWarning: No positive class found in y_true, recall is set to one for all thresholds.\n",
      "  warnings.warn(\n"
     ]
    },
    {
     "data": {
      "image/png": "[encoded data removed]",
      "text/plain": [
       "<Figure size 576x432 with 1 Axes>"
      ]
     },
     "metadata": {
      "needs_background": "light"
     },
     "output_type": "display_data"
    }
   ],
   "source": [
    "# Binarizar las etiquetas para el cálculo de la curva PR\n",
    "y_test_bin = label_binarize(y_test, classes=[0, 1, 2, 3, 4])\n",
    "\n",
    "# Calcular la curva PR y el área bajo la curva para cada clase\n",
    "precision = dict()\n",
    "recall = dict()\n",
    "average_precision = dict()\n",
    "\n",
    "for i in range(params['num_class']):\n",
    "    precision[i], recall[i], _ = precision_recall_curve(y_test_bin[:, i], y_prob[:, i])\n",
    "    average_precision[i] = average_precision_score(y_test_bin[:, i], y_prob[:, i])\n",
    "\n",
    "# Graficar la curva PR para cada clase\n",
    "plt.figure(figsize=(8, 6))\n",
    "for i in range(params['num_class']):\n",
    "    plt.plot(recall[i], precision[i], lw=2, label='Curva PR para la clase {0} (AP = {1:.2f})'.format(i, average_precision[i]))\n",
    "\n",
    "plt.xlabel('Recall')\n",
    "plt.ylabel('Precisión')\n",
    "plt.title('Curva de Precisión-Recall Multiclase')\n",
    "plt.legend(loc=\"lower right\")\n",
    "plt.xlim([0.0, 1.0])\n",
    "plt.ylim([0.0, 1.05])\n",
    "plt.show()"
   ]
  },
  {
   "cell_type": "markdown",
   "metadata": {},
   "source": [
    "La Curva PR muestra cómo varía la precisión en función de la recuperación a medida que cambia el umbral de decisión del modelo. El área bajo la curva (AP, Average Precision) proporciona una medida cuantitativa de la calidad del modelo en términos de precisión y recuperación. Cuanto mayor sea el valor de AP, mejor será el rendimiento del modelo en términos generales."
   ]
  },
  {
   "cell_type": "markdown",
   "metadata": {},
   "source": [
    "### Curva de calibración"
   ]
  },
  {
   "cell_type": "code",
   "execution_count": 21,
   "metadata": {},
   "outputs": [
    {
     "data": {
      "image/png": "[encoded data removed]",
      "text/plain": [
       "<Figure size 576x432 with 1 Axes>"
      ]
     },
     "metadata": {
      "needs_background": "light"
     },
     "output_type": "display_data"
    }
   ],
   "source": [
    "# Realizar predicciones de margen en el conjunto de prueba\n",
    "margins = model.predict(dtest, output_margin=True)\n",
    "\n",
    "# Convertir los márgenes en probabilidades utilizando la función sigmoide\n",
    "y_prob = 1 / (1 + np.exp(-margins))\n",
    "\n",
    "# Calcular la curva de calibración\n",
    "prob_true, prob_pred = calibration_curve(y_test, y_prob[:, 1], n_bins=10)\n",
    "\n",
    "# Graficar la curva de calibración\n",
    "plt.figure(figsize=(8, 6))\n",
    "plt.plot(prob_pred, prob_true, marker='o', label='Calibración')\n",
    "plt.plot([0, 1], [0, 1], linestyle='--', color='gray')\n",
    "plt.xlabel('Probabilidad predicha')\n",
    "plt.ylabel('Probabilidad real promedio')\n",
    "plt.title('Curva de Calibración')\n",
    "plt.legend(loc=\"upper left\")\n",
    "plt.show()"
   ]
  },
  {
   "cell_type": "markdown",
   "metadata": {},
   "source": [
    "El gráfico de calibración compara las probabilidades pronosticadas por el modelo con la proporción real de muestras positivas. Una curva de calibración ideal se acercaría a la línea de calibración perfecta (línea diagonal). Un modelo bien calibrado tendría puntos que se ajusten cerca de esta línea."
   ]
  },
  {
   "cell_type": "markdown",
   "metadata": {},
   "source": [
    "### Diagrama de importancia de las características."
   ]
  },
  {
   "cell_type": "code",
   "execution_count": 22,
   "metadata": {},
   "outputs": [
    {
     "data": {
      "image/png": "[encoded data removed]",
      "text/plain": [
       "<Figure size 720x432 with 1 Axes>"
      ]
     },
     "metadata": {
      "needs_background": "light"
     },
     "output_type": "display_data"
    }
   ],
   "source": [
    "# Diagrama de Importancia de Características:\n",
    "# Preparar datos para visualización\n",
    "features, importance = zip(*sorted_feature_importances)\n",
    "features = list(features)\n",
    "importance = list(importance)\n",
    "\n",
    "# Visualizamos el diagrama de importancia de características\n",
    "plt.figure(figsize=(10, 6))\n",
    "plt.barh(range(len(features)), importance, align='center')\n",
    "plt.yticks(range(len(features)), features)\n",
    "plt.xlabel('Importancia')\n",
    "plt.ylabel('Características')\n",
    "plt.title('Diagrama de Importancia de Características')\n",
    "plt.show()"
   ]
  },
  {
   "cell_type": "markdown",
   "metadata": {},
   "source": [
    "El diagrama de importancia de características muestra la contribución relativa de cada característica en las predicciones del modelo. Las características con valores de importancia más altos son las que más influyen en las decisiones del modelo. Puedes usar esta visualización para identificar las características más relevantes y tomar decisiones informadas sobre la selección de características o para entender mejor cómo el modelo está tomando decisiones."
   ]
  },
  {
   "cell_type": "markdown",
   "metadata": {},
   "source": [
    "### Curva de aprendizaje XGBoots"
   ]
  },
  {
   "cell_type": "code",
   "execution_count": 23,
   "metadata": {},
   "outputs": [
    {
     "data": {
      "image/png": "[encoded data removed]",
      "text/plain": [
       "<Figure size 720x432 with 1 Axes>"
      ]
     },
     "metadata": {
      "needs_background": "light"
     },
     "output_type": "display_data"
    }
   ],
   "source": [
    "# Función para calcular el rendimiento del modelo en diferentes tamaños de entrenamiento\n",
    "def plot_learning_curve(estimator, X_train, y_train, X_test, y_test, title, ylim=None, cv=None, n_jobs=1, train_sizes=np.linspace(.1, 1.0, 5)):\n",
    "    train_scores = []\n",
    "    test_scores = []\n",
    "    for train_size in train_sizes:\n",
    "        subset_size = int(train_size * len(X_train))\n",
    "        X_subset = X_train[:subset_size]\n",
    "        y_subset = y_train[:subset_size]\n",
    "\n",
    "        dtrain = xgb.DMatrix(X_subset, label=y_subset)\n",
    "        model = xgb.train(params, dtrain)\n",
    "        \n",
    "        y_train_pred = model.predict(xgb.DMatrix(X_subset))\n",
    "        y_test_pred = model.predict(xgb.DMatrix(X_test))\n",
    "        \n",
    "        train_scores.append(np.mean(y_subset == (y_train_pred > 0.5)))\n",
    "        test_scores.append(np.mean(y_test == (y_test_pred > 0.5)))\n",
    "\n",
    "    plt.figure(figsize=(10, 6))\n",
    "    plt.title(title)\n",
    "    if ylim is not None:\n",
    "        plt.ylim(*ylim)\n",
    "    plt.xlabel(\"Tamaño del Conjunto de Entrenamiento\")\n",
    "    plt.ylabel(\"Precisión\")\n",
    "    plt.grid()\n",
    "\n",
    "    plt.plot(train_sizes, train_scores, 'o-', color=\"r\", label=\"Precisión de Entrenamiento\")\n",
    "    plt.plot(train_sizes, test_scores, 'o-', color=\"g\", label=\"Precisión de Prueba\")\n",
    "\n",
    "    plt.legend(loc=\"best\")\n",
    "    return plt\n",
    "\n",
    "# Visualizamos la Curva de Aprendizaje\n",
    "plot_learning_curve(model, X_train, y_train, X_test, y_test, \"Curva de Aprendizaje XGBoost\", ylim=(0.85, 1.01))\n",
    "plt.show()"
   ]
  },
  {
   "cell_type": "markdown",
   "metadata": {},
   "source": [
    "En este código, creamos un ciclo para iterar a través de diferentes tamaños de conjunto de entrenamiento, entrenamos el modelo XGBoost en cada tamaño y calculamos la precisión en el conjunto de entrenamiento y prueba. Luego, utilizamos matplotlib para visualizar la Curva de Aprendizaje. Recuerda que en esta implementación estamos calculando la precisión, pero puedes ajustar el código para calcular y visualizar otras métricas de rendimiento según tus necesidades."
   ]
  },
  {
   "cell_type": "markdown",
   "metadata": {},
   "source": [
    "### Visualización de un árbol individual."
   ]
  },
  {
   "cell_type": "code",
   "execution_count": 24,
   "metadata": {},
   "outputs": [
    {
     "data": {
      "image/png": "[encoded data removed]",
      "text/plain": [
       "<Figure size 432x288 with 1 Axes>"
      ]
     },
     "metadata": {
      "needs_background": "light"
     },
     "output_type": "display_data"
    }
   ],
   "source": [
    "# Visualizamos un árbol individual\n",
    "plot_tree(model, num_trees=5, rankdir='LR')\n",
    "plt.show()"
   ]
  },
  {
   "cell_type": "markdown",
   "metadata": {},
   "source": [
    "### Ajuste de hiperparámetros"
   ]
  },
  {
   "cell_type": "markdown",
   "metadata": {},
   "source": [
    "#### Mejores hiperparámetros"
   ]
  },
  {
   "cell_type": "code",
   "execution_count": 25,
   "metadata": {},
   "outputs": [
    {
     "name": "stdout",
     "output_type": "stream",
     "text": [
      "Mejores hiperparámetros: {'learning_rate': 0.01, 'max_depth': 3, 'n_estimators': 200}\n",
      "Puntaje AUC-ROC en validación cruzada: 0.5999491093347632\n",
      "AUC-ROC en conjunto de prueba: 0.5\n"
     ]
    }
   ],
   "source": [
    "from xgboost import XGBClassifier\n",
    "# Definir el modelo XGBoost\n",
    "model = XGBClassifier()\n",
    "\n",
    "# Definir los hiperparámetros a ajustar y sus posibles valores\n",
    "param_grid = {\n",
    "    'n_estimators': [50, 100, 200],\n",
    "    'max_depth': [3, 5, 7],\n",
    "    'learning_rate': [0.1, 0.01, 0.001]\n",
    "}\n",
    "\n",
    "# Realizar la búsqueda en cuadrícula\n",
    "grid_search = GridSearchCV(estimator=model, param_grid=param_grid, scoring='roc_auc', cv=3)\n",
    "grid_search.fit(X_train, y_train)\n",
    "\n",
    "# Obtener los mejores hiperparámetros y su puntaje\n",
    "best_params = grid_search.best_params_\n",
    "best_score = grid_search.best_score_\n",
    "\n",
    "# Entrenar el modelo con los mejores hiperparámetros\n",
    "best_model = XGBClassifier(**best_params)\n",
    "best_model.fit(X_train, y_train)\n",
    "\n",
    "# Realizar predicciones en el conjunto de prueba\n",
    "y_pred = best_model.predict(X_test)\n",
    "\n",
    "# Calcular el AUC-ROC en el conjunto de prueba\n",
    "auc_roc = roc_auc_score(y_test, y_pred)\n",
    "\n",
    "print(\"Mejores hiperparámetros:\", best_params)\n",
    "print(\"Puntaje AUC-ROC en validación cruzada:\", best_score)\n",
    "print(\"AUC-ROC en conjunto de prueba:\", auc_roc)\n"
   ]
  },
  {
   "cell_type": "markdown",
   "metadata": {},
   "source": [
    "#### Presición de modelo con nuevos hiperparámetros."
   ]
  },
  {
   "cell_type": "code",
   "execution_count": 26,
   "metadata": {},
   "outputs": [
    {
     "name": "stdout",
     "output_type": "stream",
     "text": [
      "Precisión del modelo con nuevos hiperparámetros: 0.8923333333333333\n"
     ]
    }
   ],
   "source": [
    "# Definir los mejores hiperparámetros que obtuviste de la búsqueda en cuadrícula\n",
    "best_params = {\n",
    "    'learning_rate': 0.01,\n",
    "    'max_depth': 3,\n",
    "    'n_estimators': 200,\n",
    "    # Otros hiperparámetros aquí...\n",
    "}\n",
    "\n",
    "# Crear y entrenar el modelo XGBoost con los nuevos hiperparámetros\n",
    "model = xgb.XGBClassifier(**best_params)\n",
    "model.fit(X_train, y_train)\n",
    "\n",
    "# Predecir etiquetas en el conjunto de prueba\n",
    "y_pred = model.predict(X_test)\n",
    "\n",
    "# Calcular la precisión del modelo en el conjunto de prueba\n",
    "accuracy_new = accuracy_score(y_test, y_pred)\n",
    "print(\"Precisión del modelo con nuevos hiperparámetros:\", accuracy)"
   ]
  },
  {
   "cell_type": "code",
   "execution_count": 27,
   "metadata": {},
   "outputs": [
    {
     "name": "stdout",
     "output_type": "stream",
     "text": [
      "0.8923\n",
      "0.8923\n"
     ]
    }
   ],
   "source": [
    "print(round(accuracy,4))\n",
    "print(round(accuracy_new,4))"
   ]
  },
  {
   "cell_type": "markdown",
   "metadata": {},
   "source": [
    "### Medidas de performance"
   ]
  },
  {
   "cell_type": "code",
   "execution_count": 28,
   "metadata": {},
   "outputs": [],
   "source": [
    "# Definir características y objetivo\n",
    "features = data.drop(['resultado_del_riesgo'], axis=1)\n",
    "target = data['resultado_del_riesgo']"
   ]
  },
  {
   "cell_type": "code",
   "execution_count": 29,
   "metadata": {},
   "outputs": [
    {
     "name": "stdout",
     "output_type": "stream",
     "text": [
      "KS Máximo: 0.1304\n",
      "Área bajo la curva ROC (ROC AUC): 0.5784\n",
      "Índice de GINI: 0.1568\n",
      "Precisión del modelo: 0.89\n"
     ]
    }
   ],
   "source": [
    "import xgboost as xgb\n",
    "from sklearn.model_selection import train_test_split\n",
    "from sklearn.metrics import roc_auc_score\n",
    "from scipy import stats\n",
    "import numpy as np\n",
    "\n",
    "# Dividimos el conjunto de datos en entrenamiento y prueba\n",
    "X_train, X_test, y_train, y_test = train_test_split(features, target, test_size=0.3, random_state=42)\n",
    "\n",
    "# Creamos un objeto DMatrix para XGBoost\n",
    "dtrain = xgb.DMatrix(X_train, label=y_train)\n",
    "dtest = xgb.DMatrix(X_test, label=y_test)\n",
    "\n",
    "# Definimos los hiperparámetros del modelo\n",
    "params = {\n",
    "    'objective': 'multi:softmax',\n",
    "    'num_class': 5,\n",
    "    'max_depth': 3,\n",
    "    'eta': 0.1,\n",
    "    'subsample': 0.8,\n",
    "    'colsample_bytree': 0.8,\n",
    "    'eval_metric': 'mlogloss'\n",
    "}\n",
    "\n",
    "# Entrenamos el modelo\n",
    "num_round = 100\n",
    "model = xgb.train(params, dtrain, num_round)\n",
    "\n",
    "# Realizamos predicciones de probabilidades en el conjunto de prueba\n",
    "y_prob = model.predict(dtest, output_margin=True)  # Usar output_margin=True para obtener márgenes\n",
    "\n",
    "# Convertir márgenes en probabilidades utilizando la función sigmoide\n",
    "y_prob = 1 / (1 + np.exp(-y_prob))\n",
    "\n",
    "# Calcular las métricas KS, ROC AUC y GINI\n",
    "ks_values = []\n",
    "roc_auc_values = []\n",
    "\n",
    "for i in range(params['num_class']):\n",
    "    y_true_class = (y_test == i).astype(int)\n",
    "    if np.sum(y_true_class == 1) > 0 and np.sum(y_true_class == 0) > 0:\n",
    "        ks_statistic, _ = stats.ks_2samp(y_prob[:, i][y_true_class == 1], y_prob[:, i][y_true_class == 0])\n",
    "        ks_values.append(ks_statistic)\n",
    "        \n",
    "        roc_auc = roc_auc_score(y_true_class, y_prob[:, i])\n",
    "        roc_auc_values.append(roc_auc)\n",
    "\n",
    "max_ks = max(ks_values)\n",
    "avg_roc_auc = sum(roc_auc_values) / len(roc_auc_values)\n",
    "gini = 2 * avg_roc_auc - 1\n",
    "\n",
    "# Mostrar las métricas\n",
    "print(f\"KS Máximo: {max_ks:.4f}\")\n",
    "print(f\"Área bajo la curva ROC (ROC AUC): {avg_roc_auc:.4f}\")\n",
    "print(f\"Índice de GINI: {gini:.4f}\")\n",
    "\n",
    "# Evaluamos el rendimiento del modelo\n",
    "y_pred = model.predict(dtest)\n",
    "accuracy = accuracy_score(y_test, y_pred)\n",
    "print(f'Precisión del modelo: {accuracy:.2f}')\n"
   ]
  },
  {
   "cell_type": "code",
   "execution_count": null,
   "metadata": {},
   "outputs": [],
   "source": []
  }
 ],
 "metadata": {
  "kernelspec": {
   "display_name": "Python 3",
   "language": "python",
   "name": "python3"
  },
  "language_info": {
   "codemirror_mode": {
    "name": "ipython",
    "version": 3
   },
   "file_extension": ".py",
   "mimetype": "text/x-python",
   "name": "python",
   "nbconvert_exporter": "python",
   "pygments_lexer": "ipython3",
   "version": "3.8.2"
  },
  "orig_nbformat": 4
 },
 "nbformat": 4,
 "nbformat_minor": 2
}
